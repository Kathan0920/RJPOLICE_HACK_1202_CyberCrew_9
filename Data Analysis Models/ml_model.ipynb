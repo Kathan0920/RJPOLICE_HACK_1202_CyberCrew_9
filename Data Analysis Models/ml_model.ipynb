{
 "cells": [
  {
   "cell_type": "code",
   "execution_count": null,
   "id": "1b8739c7-e3da-4abe-b9c0-f47893936c1d",
   "metadata": {
    "tags": []
   },
   "outputs": [],
   "source": [
    "\n",
    "\n"
   ]
  },
  {
   "cell_type": "code",
   "execution_count": null,
   "id": "8f019e07-6c4c-4410-ba65-5380b7860727",
   "metadata": {},
   "outputs": [],
   "source": []
  },
  {
   "cell_type": "code",
   "execution_count": null,
   "id": "d1cc90d9-7bb5-405d-a731-63c07c51b6bb",
   "metadata": {
    "tags": []
   },
   "outputs": [],
   "source": []
  },
  {
   "cell_type": "code",
   "execution_count": null,
   "id": "29ca8229-8737-4efb-bc7a-fe4c2f40c1c5",
   "metadata": {
    "tags": []
   },
   "outputs": [],
   "source": []
  },
  {
   "cell_type": "code",
   "execution_count": null,
   "id": "7bd51a1f-5fbd-4e7b-a968-8eaa2be3f1ee",
   "metadata": {
    "tags": []
   },
   "outputs": [],
   "source": [
    "\n",
    "\n"
   ]
  },
  {
   "cell_type": "code",
   "execution_count": 8,
   "id": "e3d32ed3-3520-4246-a1bf-71cbf16d2881",
   "metadata": {
    "tags": []
   },
   "outputs": [
    {
     "name": "stdout",
     "output_type": "stream",
     "text": [
      "Requirement already satisfied: scikit-learn in c:\\users\\bansa\\anaconda3\\lib\\site-packages (1.3.0)Note: you may need to restart the kernel to use updated packages.\n",
      "\n",
      "Collecting scikit-learn\n",
      "  Obtaining dependency information for scikit-learn from https://files.pythonhosted.org/packages/4e/ba/ce9bd1cd4953336a0e213b29cb80bb11816f2a93de8c99f88ef0b446ad0c/scikit_learn-1.3.2-cp311-cp311-win_amd64.whl.metadata\n",
      "  Downloading scikit_learn-1.3.2-cp311-cp311-win_amd64.whl.metadata (11 kB)\n",
      "Requirement already satisfied: numpy<2.0,>=1.17.3 in c:\\users\\bansa\\anaconda3\\lib\\site-packages (from scikit-learn) (1.24.3)\n",
      "Requirement already satisfied: scipy>=1.5.0 in c:\\users\\bansa\\anaconda3\\lib\\site-packages (from scikit-learn) (1.11.1)\n",
      "Requirement already satisfied: joblib>=1.1.1 in c:\\users\\bansa\\anaconda3\\lib\\site-packages (from scikit-learn) (1.2.0)\n",
      "Requirement already satisfied: threadpoolctl>=2.0.0 in c:\\users\\bansa\\anaconda3\\lib\\site-packages (from scikit-learn) (2.2.0)\n",
      "Downloading scikit_learn-1.3.2-cp311-cp311-win_amd64.whl (9.2 MB)\n",
      "   ---------------------------------------- 0.0/9.2 MB ? eta -:--:--\n",
      "   ---------------------------------------- 0.0/9.2 MB ? eta -:--:--\n",
      "   ---------------------------------------- 0.0/9.2 MB ? eta -:--:--\n",
      "   ---------------------------------------- 0.0/9.2 MB 660.6 kB/s eta 0:00:14\n",
      "   ---------------------------------------- 0.0/9.2 MB 660.6 kB/s eta 0:00:14\n",
      "   ---------------------------------------- 0.0/9.2 MB 660.6 kB/s eta 0:00:14\n",
      "   ---------------------------------------- 0.0/9.2 MB 178.6 kB/s eta 0:00:52\n",
      "   ---------------------------------------- 0.1/9.2 MB 218.8 kB/s eta 0:00:42\n",
      "   ---------------------------------------- 0.1/9.2 MB 255.1 kB/s eta 0:00:36\n",
      "   ---------------------------------------- 0.1/9.2 MB 249.8 kB/s eta 0:00:37\n",
      "   ---------------------------------------- 0.1/9.2 MB 249.8 kB/s eta 0:00:37\n",
      "   ---------------------------------------- 0.1/9.2 MB 252.2 kB/s eta 0:00:37\n",
      "   ---------------------------------------- 0.1/9.2 MB 252.2 kB/s eta 0:00:37\n",
      "   ---------------------------------------- 0.1/9.2 MB 252.2 kB/s eta 0:00:37\n",
      "    --------------------------------------- 0.2/9.2 MB 280.8 kB/s eta 0:00:33\n",
      "    --------------------------------------- 0.2/9.2 MB 294.9 kB/s eta 0:00:31\n",
      "    --------------------------------------- 0.2/9.2 MB 303.5 kB/s eta 0:00:30\n",
      "    --------------------------------------- 0.2/9.2 MB 320.0 kB/s eta 0:00:29\n",
      "   - -------------------------------------- 0.2/9.2 MB 314.0 kB/s eta 0:00:29\n",
      "   - -------------------------------------- 0.2/9.2 MB 314.0 kB/s eta 0:00:29\n",
      "   - -------------------------------------- 0.2/9.2 MB 314.0 kB/s eta 0:00:29\n",
      "   - -------------------------------------- 0.2/9.2 MB 314.0 kB/s eta 0:00:29\n",
      "   - -------------------------------------- 0.3/9.2 MB 288.8 kB/s eta 0:00:31\n",
      "   - -------------------------------------- 0.3/9.2 MB 288.8 kB/s eta 0:00:31\n",
      "   - -------------------------------------- 0.3/9.2 MB 283.6 kB/s eta 0:00:32\n",
      "   - -------------------------------------- 0.3/9.2 MB 294.5 kB/s eta 0:00:31\n",
      "   - -------------------------------------- 0.3/9.2 MB 295.5 kB/s eta 0:00:31\n",
      "   - -------------------------------------- 0.3/9.2 MB 295.5 kB/s eta 0:00:31\n",
      "   - -------------------------------------- 0.3/9.2 MB 295.5 kB/s eta 0:00:31\n",
      "   - -------------------------------------- 0.4/9.2 MB 339.7 kB/s eta 0:00:26\n",
      "   - -------------------------------------- 0.4/9.2 MB 339.7 kB/s eta 0:00:26\n",
      "   -- ------------------------------------- 0.5/9.2 MB 361.7 kB/s eta 0:00:25\n",
      "   -- ------------------------------------- 0.5/9.2 MB 361.7 kB/s eta 0:00:25\n",
      "   -- ------------------------------------- 0.6/9.2 MB 369.4 kB/s eta 0:00:24\n",
      "   -- ------------------------------------- 0.6/9.2 MB 391.8 kB/s eta 0:00:22\n",
      "   -- ------------------------------------- 0.6/9.2 MB 399.9 kB/s eta 0:00:22\n",
      "   -- ------------------------------------- 0.7/9.2 MB 404.7 kB/s eta 0:00:22\n",
      "   -- ------------------------------------- 0.7/9.2 MB 408.1 kB/s eta 0:00:21\n",
      "   --- ------------------------------------ 0.7/9.2 MB 420.9 kB/s eta 0:00:21\n",
      "   --- ------------------------------------ 0.8/9.2 MB 433.0 kB/s eta 0:00:20\n",
      "   --- ------------------------------------ 0.8/9.2 MB 437.0 kB/s eta 0:00:20\n",
      "   --- ------------------------------------ 0.8/9.2 MB 442.5 kB/s eta 0:00:19\n",
      "   --- ------------------------------------ 0.9/9.2 MB 458.8 kB/s eta 0:00:19\n",
      "   ---- ----------------------------------- 0.9/9.2 MB 479.5 kB/s eta 0:00:18\n",
      "   ---- ----------------------------------- 1.0/9.2 MB 508.6 kB/s eta 0:00:17\n",
      "   ---- ----------------------------------- 1.1/9.2 MB 527.4 kB/s eta 0:00:16\n",
      "   ---- ----------------------------------- 1.1/9.2 MB 540.3 kB/s eta 0:00:15\n",
      "   ----- ---------------------------------- 1.2/9.2 MB 552.6 kB/s eta 0:00:15\n",
      "   ----- ---------------------------------- 1.2/9.2 MB 565.2 kB/s eta 0:00:15\n",
      "   ----- ---------------------------------- 1.3/9.2 MB 580.6 kB/s eta 0:00:14\n",
      "   ----- ---------------------------------- 1.4/9.2 MB 596.2 kB/s eta 0:00:14\n",
      "   ------ --------------------------------- 1.4/9.2 MB 615.0 kB/s eta 0:00:13\n",
      "   ------ --------------------------------- 1.5/9.2 MB 629.0 kB/s eta 0:00:13\n",
      "   ------ --------------------------------- 1.5/9.2 MB 646.7 kB/s eta 0:00:12\n",
      "   ------ --------------------------------- 1.6/9.2 MB 651.0 kB/s eta 0:00:12\n",
      "   ------- -------------------------------- 1.6/9.2 MB 659.6 kB/s eta 0:00:12\n",
      "   ------- -------------------------------- 1.7/9.2 MB 679.9 kB/s eta 0:00:12\n",
      "   ------- -------------------------------- 1.8/9.2 MB 704.0 kB/s eta 0:00:11\n",
      "   -------- ------------------------------- 1.8/9.2 MB 711.0 kB/s eta 0:00:11\n",
      "   -------- ------------------------------- 1.9/9.2 MB 714.5 kB/s eta 0:00:11\n",
      "   -------- ------------------------------- 1.9/9.2 MB 716.6 kB/s eta 0:00:11\n",
      "   -------- ------------------------------- 2.0/9.2 MB 727.4 kB/s eta 0:00:10\n",
      "   -------- ------------------------------- 2.0/9.2 MB 737.3 kB/s eta 0:00:10\n",
      "   --------- ------------------------------ 2.1/9.2 MB 750.5 kB/s eta 0:00:10\n",
      "   --------- ------------------------------ 2.2/9.2 MB 778.5 kB/s eta 0:00:09\n",
      "   --------- ------------------------------ 2.2/9.2 MB 780.8 kB/s eta 0:00:09\n",
      "   ---------- ----------------------------- 2.3/9.2 MB 785.0 kB/s eta 0:00:09\n",
      "   ---------- ----------------------------- 2.3/9.2 MB 786.4 kB/s eta 0:00:09\n",
      "   ---------- ----------------------------- 2.4/9.2 MB 791.1 kB/s eta 0:00:09\n",
      "   ---------- ----------------------------- 2.5/9.2 MB 795.1 kB/s eta 0:00:09\n",
      "   ---------- ----------------------------- 2.5/9.2 MB 810.2 kB/s eta 0:00:09\n",
      "   ----------- ---------------------------- 2.6/9.2 MB 820.9 kB/s eta 0:00:09\n",
      "   ----------- ---------------------------- 2.7/9.2 MB 840.8 kB/s eta 0:00:08\n",
      "   ------------ --------------------------- 2.8/9.2 MB 851.8 kB/s eta 0:00:08\n",
      "   ------------ --------------------------- 2.9/9.2 MB 863.4 kB/s eta 0:00:08\n",
      "   ------------ --------------------------- 2.9/9.2 MB 868.8 kB/s eta 0:00:08\n",
      "   ------------- -------------------------- 3.0/9.2 MB 883.9 kB/s eta 0:00:07\n",
      "   ------------- -------------------------- 3.1/9.2 MB 892.6 kB/s eta 0:00:07\n",
      "   ------------- -------------------------- 3.2/9.2 MB 898.2 kB/s eta 0:00:07\n",
      "   -------------- ------------------------- 3.2/9.2 MB 910.6 kB/s eta 0:00:07\n",
      "   -------------- ------------------------- 3.3/9.2 MB 917.4 kB/s eta 0:00:07\n",
      "   -------------- ------------------------- 3.4/9.2 MB 926.5 kB/s eta 0:00:07\n",
      "   -------------- ------------------------- 3.4/9.2 MB 934.2 kB/s eta 0:00:07\n",
      "   --------------- ------------------------ 3.5/9.2 MB 941.7 kB/s eta 0:00:07\n",
      "   --------------- ------------------------ 3.6/9.2 MB 947.9 kB/s eta 0:00:06\n",
      "   --------------- ------------------------ 3.7/9.2 MB 957.7 kB/s eta 0:00:06\n",
      "   ---------------- ----------------------- 3.8/9.2 MB 980.4 kB/s eta 0:00:06\n",
      "   ---------------- ----------------------- 3.9/9.2 MB 985.8 kB/s eta 0:00:06\n",
      "   ----------------- ---------------------- 4.0/9.2 MB 999.8 kB/s eta 0:00:06\n",
      "   ----------------- ---------------------- 4.1/9.2 MB 1.0 MB/s eta 0:00:06\n",
      "   ------------------ --------------------- 4.2/9.2 MB 1.0 MB/s eta 0:00:05\n",
      "   ------------------ --------------------- 4.3/9.2 MB 1.0 MB/s eta 0:00:05\n",
      "   ------------------ --------------------- 4.3/9.2 MB 1.0 MB/s eta 0:00:05\n",
      "   ------------------- -------------------- 4.4/9.2 MB 1.0 MB/s eta 0:00:05\n",
      "   ------------------- -------------------- 4.5/9.2 MB 1.1 MB/s eta 0:00:05\n",
      "   -------------------- ------------------- 4.6/9.2 MB 1.1 MB/s eta 0:00:05\n",
      "   -------------------- ------------------- 4.7/9.2 MB 1.1 MB/s eta 0:00:05\n",
      "   -------------------- ------------------- 4.8/9.2 MB 1.1 MB/s eta 0:00:05\n",
      "   --------------------- ------------------ 4.9/9.2 MB 1.1 MB/s eta 0:00:05\n",
      "   --------------------- ------------------ 4.9/9.2 MB 1.1 MB/s eta 0:00:04\n",
      "   --------------------- ------------------ 5.0/9.2 MB 1.1 MB/s eta 0:00:04\n",
      "   --------------------- ------------------ 5.0/9.2 MB 1.1 MB/s eta 0:00:04\n",
      "   --------------------- ------------------ 5.1/9.2 MB 1.1 MB/s eta 0:00:04\n",
      "   ---------------------- ----------------- 5.1/9.2 MB 1.1 MB/s eta 0:00:04\n",
      "   ---------------------- ----------------- 5.1/9.2 MB 1.1 MB/s eta 0:00:04\n",
      "   ---------------------- ----------------- 5.2/9.2 MB 1.1 MB/s eta 0:00:04\n",
      "   ---------------------- ----------------- 5.2/9.2 MB 1.1 MB/s eta 0:00:04\n",
      "   ---------------------- ----------------- 5.2/9.2 MB 1.1 MB/s eta 0:00:04\n",
      "   ---------------------- ----------------- 5.3/9.2 MB 1.1 MB/s eta 0:00:04\n",
      "   ----------------------- ---------------- 5.3/9.2 MB 1.1 MB/s eta 0:00:04\n",
      "   ----------------------- ---------------- 5.4/9.2 MB 1.1 MB/s eta 0:00:04\n",
      "   ----------------------- ---------------- 5.5/9.2 MB 1.1 MB/s eta 0:00:04\n",
      "   ------------------------ --------------- 5.6/9.2 MB 1.1 MB/s eta 0:00:04\n",
      "   ------------------------ --------------- 5.6/9.2 MB 1.1 MB/s eta 0:00:04\n",
      "   ------------------------ --------------- 5.7/9.2 MB 1.1 MB/s eta 0:00:04\n",
      "   ------------------------ --------------- 5.7/9.2 MB 1.1 MB/s eta 0:00:04\n",
      "   ------------------------ --------------- 5.7/9.2 MB 1.1 MB/s eta 0:00:04\n",
      "   ------------------------- -------------- 5.8/9.2 MB 1.1 MB/s eta 0:00:04\n",
      "   ------------------------- -------------- 5.8/9.2 MB 1.1 MB/s eta 0:00:04\n",
      "   ------------------------- -------------- 5.9/9.2 MB 1.1 MB/s eta 0:00:04\n",
      "   ------------------------- -------------- 5.9/9.2 MB 1.1 MB/s eta 0:00:04\n",
      "   ------------------------- -------------- 5.9/9.2 MB 1.1 MB/s eta 0:00:04\n",
      "   ------------------------- -------------- 5.9/9.2 MB 1.0 MB/s eta 0:00:04\n",
      "   -------------------------- ------------- 6.1/9.2 MB 1.1 MB/s eta 0:00:03\n",
      "   -------------------------- ------------- 6.2/9.2 MB 1.1 MB/s eta 0:00:03\n",
      "   --------------------------- ------------ 6.3/9.2 MB 1.1 MB/s eta 0:00:03\n",
      "   --------------------------- ------------ 6.3/9.2 MB 1.1 MB/s eta 0:00:03\n",
      "   --------------------------- ------------ 6.4/9.2 MB 1.1 MB/s eta 0:00:03\n",
      "   ---------------------------- ----------- 6.5/9.2 MB 1.1 MB/s eta 0:00:03\n",
      "   ---------------------------- ----------- 6.6/9.2 MB 1.1 MB/s eta 0:00:03\n",
      "   ---------------------------- ----------- 6.6/9.2 MB 1.1 MB/s eta 0:00:03\n",
      "   ----------------------------- ---------- 6.7/9.2 MB 1.1 MB/s eta 0:00:03\n",
      "   ----------------------------- ---------- 6.8/9.2 MB 1.1 MB/s eta 0:00:03\n",
      "   ----------------------------- ---------- 6.9/9.2 MB 1.1 MB/s eta 0:00:03\n",
      "   ------------------------------ --------- 7.0/9.2 MB 1.1 MB/s eta 0:00:02\n",
      "   ------------------------------ --------- 7.1/9.2 MB 1.1 MB/s eta 0:00:02\n",
      "   ------------------------------- -------- 7.2/9.2 MB 1.1 MB/s eta 0:00:02\n",
      "   ------------------------------- -------- 7.2/9.2 MB 1.1 MB/s eta 0:00:02\n",
      "   ------------------------------- -------- 7.3/9.2 MB 1.2 MB/s eta 0:00:02\n",
      "   -------------------------------- ------- 7.4/9.2 MB 1.2 MB/s eta 0:00:02\n",
      "   -------------------------------- ------- 7.6/9.2 MB 1.2 MB/s eta 0:00:02\n",
      "   --------------------------------- ------ 7.7/9.2 MB 1.2 MB/s eta 0:00:02\n",
      "   --------------------------------- ------ 7.8/9.2 MB 1.2 MB/s eta 0:00:02\n",
      "   ---------------------------------- ----- 7.9/9.2 MB 1.2 MB/s eta 0:00:02\n",
      "   ---------------------------------- ----- 8.0/9.2 MB 1.2 MB/s eta 0:00:02\n",
      "   ----------------------------------- ---- 8.1/9.2 MB 1.2 MB/s eta 0:00:01\n",
      "   ----------------------------------- ---- 8.1/9.2 MB 1.2 MB/s eta 0:00:01\n",
      "   ----------------------------------- ---- 8.2/9.2 MB 1.2 MB/s eta 0:00:01\n",
      "   ----------------------------------- ---- 8.2/9.2 MB 1.2 MB/s eta 0:00:01\n",
      "   ----------------------------------- ---- 8.3/9.2 MB 1.2 MB/s eta 0:00:01\n",
      "   ------------------------------------ --- 8.3/9.2 MB 1.2 MB/s eta 0:00:01\n",
      "   ------------------------------------ --- 8.3/9.2 MB 1.2 MB/s eta 0:00:01\n",
      "   ------------------------------------ --- 8.4/9.2 MB 1.2 MB/s eta 0:00:01\n",
      "   ------------------------------------ --- 8.4/9.2 MB 1.2 MB/s eta 0:00:01\n",
      "   ------------------------------------ --- 8.5/9.2 MB 1.2 MB/s eta 0:00:01\n",
      "   ------------------------------------- -- 8.5/9.2 MB 1.2 MB/s eta 0:00:01\n",
      "   ------------------------------------- -- 8.6/9.2 MB 1.2 MB/s eta 0:00:01\n",
      "   ------------------------------------- -- 8.7/9.2 MB 1.2 MB/s eta 0:00:01\n",
      "   ------------------------------------- -- 8.7/9.2 MB 1.2 MB/s eta 0:00:01\n",
      "   -------------------------------------- - 8.8/9.2 MB 1.2 MB/s eta 0:00:01\n",
      "   -------------------------------------- - 8.9/9.2 MB 1.2 MB/s eta 0:00:01\n",
      "   -------------------------------------- - 8.9/9.2 MB 1.2 MB/s eta 0:00:01\n",
      "   ---------------------------------------  9.0/9.2 MB 1.2 MB/s eta 0:00:01\n",
      "   ---------------------------------------  9.1/9.2 MB 1.2 MB/s eta 0:00:01\n",
      "   ---------------------------------------  9.1/9.2 MB 1.2 MB/s eta 0:00:01\n",
      "   ---------------------------------------  9.2/9.2 MB 1.2 MB/s eta 0:00:01\n",
      "   ---------------------------------------  9.2/9.2 MB 1.2 MB/s eta 0:00:01\n",
      "   ---------------------------------------  9.2/9.2 MB 1.2 MB/s eta 0:00:01\n",
      "   ---------------------------------------- 9.2/9.2 MB 1.2 MB/s eta 0:00:00\n",
      "Installing collected packages: scikit-learn\n",
      "  Attempting uninstall: scikit-learn\n",
      "    Found existing installation: scikit-learn 1.3.0\n",
      "    Uninstalling scikit-learn-1.3.0:\n",
      "      Successfully uninstalled scikit-learn-1.3.0\n",
      "Successfully installed scikit-learn-1.3.2\n"
     ]
    }
   ],
   "source": [
    "pip install --upgrade scikit-learn\n"
   ]
  },
  {
   "cell_type": "code",
   "execution_count": null,
   "id": "7b6dd50b-43fe-4362-8e95-ddaaf952737b",
   "metadata": {
    "tags": []
   },
   "outputs": [],
   "source": []
  },
  {
   "cell_type": "code",
   "execution_count": null,
   "id": "04cb4052-2430-4f56-a2cf-3b443d8cd3eb",
   "metadata": {
    "tags": []
   },
   "outputs": [],
   "source": []
  },
  {
   "cell_type": "code",
   "execution_count": 5,
   "id": "b4dcf3f4-4999-46a1-8c0e-dbeb26b0b102",
   "metadata": {
    "tags": []
   },
   "outputs": [],
   "source": [
    "import pandas as pd\n",
    "from sklearn.preprocessing import OneHotEncoder\n",
    "\n",
    "df = pd.read_csv(r\"C:\\Users\\bansa\\OneDrive\\Desktop\\lottery_scams.csv\")\n",
    "# Assuming df is your DataFrame and 'Identifier' is the column with the text\n",
    "enc = OneHotEncoder()\n",
    "encoded_features = enc.fit_transform(df[['Identifier']]).toarray()\n",
    "\n",
    "# Convert these features into a DataFrame\n",
    "encoded_df = pd.DataFrame(encoded_features, columns=enc.get_feature_names_out(['Identifier']))\n",
    "\n",
    "# Concatenate this DataFrame with your original DataFrame\n",
    "df = pd.concat([df, encoded_df], axis=1)"
   ]
  },
  {
   "cell_type": "code",
   "execution_count": 1,
   "id": "c24756c3-1a0d-40f5-b6b6-07c45e545d76",
   "metadata": {
    "tags": []
   },
   "outputs": [
    {
     "ename": "NameError",
     "evalue": "name 'df' is not defined",
     "output_type": "error",
     "traceback": [
      "\u001b[1;31m---------------------------------------------------------------------------\u001b[0m",
      "\u001b[1;31mNameError\u001b[0m                                 Traceback (most recent call last)",
      "Cell \u001b[1;32mIn[1], line 1\u001b[0m\n\u001b[1;32m----> 1\u001b[0m df\u001b[38;5;241m.\u001b[39mto_csv(\u001b[38;5;124m'\u001b[39m\u001b[38;5;124mencoded_data.csv\u001b[39m\u001b[38;5;124m'\u001b[39m, index\u001b[38;5;241m=\u001b[39m\u001b[38;5;28;01mFalse\u001b[39;00m)\n\u001b[0;32m      2\u001b[0m df\n",
      "\u001b[1;31mNameError\u001b[0m: name 'df' is not defined"
     ]
    }
   ],
   "source": [
    "df.to_csv('encoded_data.csv', index=False)\n",
    "df"
   ]
  },
  {
   "cell_type": "code",
   "execution_count": 44,
   "id": "605f4e9c-52ab-4745-9325-8fe81d60b66e",
   "metadata": {
    "tags": []
   },
   "outputs": [
    {
     "ename": "IndentationError",
     "evalue": "unexpected indent (1698823437.py, line 41)",
     "output_type": "error",
     "traceback": [
      "\u001b[1;36m  Cell \u001b[1;32mIn[44], line 41\u001b[1;36m\u001b[0m\n\u001b[1;33m    xgb_classifier = xgb.XGBClassifier()\u001b[0m\n\u001b[1;37m    ^\u001b[0m\n\u001b[1;31mIndentationError\u001b[0m\u001b[1;31m:\u001b[0m unexpected indent\n"
     ]
    }
   ],
   "source": [
    "# Import necessary libraries\n",
    "import pandas as pd\n",
    "from sklearn.model_selection import train_test_split\n",
    "from sklearn.preprocessing import StandardScaler\n",
    "from sklearn.ensemble import RandomForestClassifier\n",
    "from sklearn.metrics import accuracy_score, classification_report\n",
    "from sklearn.model_selection import GridSearchCV\n",
    "from sklearn.impute import SimpleImputer\n",
    "from sklearn.pipeline import Pipeline\n",
    "import xgboost as xgb\n",
    "\n",
    "# Step 2: Collect Data\n",
    "# Assume you have a CSV file named 'lottery_data.csv'\n",
    "data = pd.read_csv('OneDrive/Desktop/data.csv')\n",
    "\n",
    "\n",
    "# Step 3: Data Preprocessing\n",
    "# Assume 'fraud' is the target variable\n",
    "X = data.drop('Fraud_Classification', axis=1)\n",
    "y = data['Fraud_Classification']\n",
    "\n",
    "# Handle missing data\n",
    "imputer = SimpleImputer(strategy='mean')\n",
    "X = imputer.fit_transform(X)\n",
    "\n",
    "# Encode categorical variables (if any)\n",
    "# You might want to use LabelEncoder or OneHotEncoder\n",
    "\n",
    "# Normalize/Scale numerical features\n",
    "scaler = StandardScaler()\n",
    "X = scaler.fit_transform(X)\n",
    "\n",
    "# Step 5: Split Data\n",
    "X_train, X_test, y_train, y_test = train_test_split(X, y, test_size=0.2, random_state=42)\n",
    "\n",
    "# Step 6: Select a Model\n",
    "# Random Forest Classifier\n",
    "#rf_classifier = RandomForestClassifier()\n",
    "\n",
    "# XGBoost Classifier\n",
    " xgb_classifier = xgb.XGBClassifier()\n",
    "\n",
    "# Step 7: Train the Model\n",
    "#rf_classifier.fit(X_train, y_train)\n",
    " xgb_classifier.fit(X_train, y_train)\n",
    "\n",
    "# Step 8: Evaluate the Model\n",
    "y_pred = rf_classifier.predict(X_test)\n",
    "accuracy = accuracy_score(y_test, y_pred)\n",
    "print(f'Accuracy: {accuracy}')\n",
    "print(classification_report(y_test, y_pred))\n",
    "\n",
    "# Step 9: Tune Hyperparameters (Grid Search for Random Forest)\n",
    "param_grid = {\n",
    "    'n_estimators': [50, 100, 200],\n",
    "    'max_depth': [None, 10, 20],\n",
    "    'min_samples_split': [2, 5, 10],\n",
    "    'min_samples_leaf': [1, 2, 4]\n",
    "}\n",
    "\n",
    "grid_search = GridSearchCV(estimator=rf_classifier, param_grid=param_grid, cv=3, scoring='accuracy')\n",
    "grid_search.fit(X_train, y_train)\n",
    "\n",
    "best_params = grid_search.best_params_\n",
    "print(f'Best Hyperparameters: {best_params}')\n",
    "\n",
    "# Use the best model from grid search\n",
    "best_rf_model = grid_search.best_estimator_\n",
    "\n",
    "# Step 8 (again): Evaluate the Tuned Model\n",
    "y_pred_tuned = best_rf_model.predict(X_test)\n",
    "accuracy_tuned = accuracy_score(y_test, y_pred_tuned)\n",
    "print(f'Tuned Model Accuracy: {accuracy_tuned}')\n",
    "print(classification_report(y_test, y_pred_tuned))\n",
    "\n",
    "# Step 12: Deploy the Model\n",
    "# You can save the trained model and load it for making predictions on new data\n",
    "\n",
    "# For example, to save the model:\n",
    "import joblib\n",
    "joblib.dump(best_rf_model, 'fraud_detection_model.pkl')\n",
    "\n",
    "# To load the model for prediction:\n",
    "loaded_model = joblib.load('fraud_detection_model.pkl')\n",
    "new_data = scaler.transform(new_data)  # Assume 'new_data' is a new input\n",
    "prediction = loaded_model.predict(new_data)\n",
    "print(f'Prediction for new data: {prediction}')"
   ]
  },
  {
   "cell_type": "code",
   "execution_count": 30,
   "id": "02a68f35-75aa-474e-94b2-1d11b54754b5",
   "metadata": {
    "tags": []
   },
   "outputs": [
    {
     "name": "stdout",
     "output_type": "stream",
     "text": [
      "Requirement already satisfied: scikit-learn in c:\\users\\bansa\\anaconda3\\lib\\site-packages (1.3.2)Note: you may need to restart the kernel to use updated packages.\n",
      "\n",
      "Requirement already satisfied: numpy<2.0,>=1.17.3 in c:\\users\\bansa\\anaconda3\\lib\\site-packages (from scikit-learn) (1.24.3)\n",
      "Requirement already satisfied: scipy>=1.5.0 in c:\\users\\bansa\\anaconda3\\lib\\site-packages (from scikit-learn) (1.11.1)\n",
      "Requirement already satisfied: joblib>=1.1.1 in c:\\users\\bansa\\anaconda3\\lib\\site-packages (from scikit-learn) (1.2.0)\n",
      "Requirement already satisfied: threadpoolctl>=2.0.0 in c:\\users\\bansa\\anaconda3\\lib\\site-packages (from scikit-learn) (2.2.0)\n"
     ]
    }
   ],
   "source": [
    "pip install --upgrade scikit-learn\n"
   ]
  },
  {
   "cell_type": "code",
   "execution_count": null,
   "id": "86c918f1-6cb0-4a0d-8676-c478bf76e3c6",
   "metadata": {
    "tags": []
   },
   "outputs": [],
   "source": [
    "\n"
   ]
  },
  {
   "cell_type": "code",
   "execution_count": null,
   "id": "5f83e7ff-7e67-4a30-a33a-05ce7a82f2c2",
   "metadata": {},
   "outputs": [],
   "source": [
    "\n"
   ]
  },
  {
   "cell_type": "code",
   "execution_count": null,
   "id": "46efe272-dcca-4e08-b0b0-f8c8c93a6bf3",
   "metadata": {},
   "outputs": [],
   "source": []
  },
  {
   "cell_type": "code",
   "execution_count": null,
   "id": "da50b477-f441-4e9c-abe1-b468ad1bc59a",
   "metadata": {},
   "outputs": [],
   "source": [
    "\n"
   ]
  },
  {
   "cell_type": "code",
   "execution_count": 45,
   "id": "280dc13d-b68c-4275-97e2-6061d546a3b8",
   "metadata": {
    "tags": []
   },
   "outputs": [
    {
     "data": {
      "text/html": [
       "<div>\n",
       "<style scoped>\n",
       "    .dataframe tbody tr th:only-of-type {\n",
       "        vertical-align: middle;\n",
       "    }\n",
       "\n",
       "    .dataframe tbody tr th {\n",
       "        vertical-align: top;\n",
       "    }\n",
       "\n",
       "    .dataframe thead th {\n",
       "        text-align: right;\n",
       "    }\n",
       "</style>\n",
       "<table border=\"1\" class=\"dataframe\">\n",
       "  <thead>\n",
       "    <tr style=\"text-align: right;\">\n",
       "      <th></th>\n",
       "      <th>Date</th>\n",
       "      <th>Time</th>\n",
       "      <th>TransactionID</th>\n",
       "      <th>Email</th>\n",
       "      <th>IP_Address</th>\n",
       "      <th>Country</th>\n",
       "      <th>ClaimedWin</th>\n",
       "      <th>PayoutAmount</th>\n",
       "      <th>Input</th>\n",
       "      <th>Fraud_Classification</th>\n",
       "    </tr>\n",
       "  </thead>\n",
       "  <tbody>\n",
       "    <tr>\n",
       "      <th>0</th>\n",
       "      <td>01-12-2023</td>\n",
       "      <td>09:00:00</td>\n",
       "      <td>1</td>\n",
       "      <td>abcd23@gmail.com</td>\n",
       "      <td>192.0.2.0</td>\n",
       "      <td>India</td>\n",
       "      <td>yes</td>\n",
       "      <td>1000</td>\n",
       "      <td>Congratulations, you have won the lottery!</td>\n",
       "      <td>0</td>\n",
       "    </tr>\n",
       "    <tr>\n",
       "      <th>1</th>\n",
       "      <td>01-07-2023</td>\n",
       "      <td>12:30:00</td>\n",
       "      <td>3</td>\n",
       "      <td>user@example.com</td>\n",
       "      <td>192.168.1.1</td>\n",
       "      <td>Uk</td>\n",
       "      <td>no</td>\n",
       "      <td>0</td>\n",
       "      <td>You are a lottery winner! Contact us to claim ...</td>\n",
       "      <td>0</td>\n",
       "    </tr>\n",
       "    <tr>\n",
       "      <th>2</th>\n",
       "      <td>02-01-2021</td>\n",
       "      <td>14:45:00</td>\n",
       "      <td>4</td>\n",
       "      <td>john.doe@example.com</td>\n",
       "      <td>192.168.2.2</td>\n",
       "      <td>Canada</td>\n",
       "      <td>yes</td>\n",
       "      <td>50000</td>\n",
       "      <td>Congratulations, you have won the lottery!</td>\n",
       "      <td>1</td>\n",
       "    </tr>\n",
       "    <tr>\n",
       "      <th>3</th>\n",
       "      <td>03-01-2023</td>\n",
       "      <td>10:15:00</td>\n",
       "      <td>5</td>\n",
       "      <td>jane.smith@example.com</td>\n",
       "      <td>192.168.3.3</td>\n",
       "      <td>china</td>\n",
       "      <td>yes</td>\n",
       "      <td>7700</td>\n",
       "      <td>Congratulations, you are a winner in our lotte...</td>\n",
       "      <td>0</td>\n",
       "    </tr>\n",
       "    <tr>\n",
       "      <th>4</th>\n",
       "      <td>02-10-2023</td>\n",
       "      <td>05:00:40</td>\n",
       "      <td>2</td>\n",
       "      <td>efgh45@gmail.com</td>\n",
       "      <td>203.0.113.0</td>\n",
       "      <td>kenya</td>\n",
       "      <td>no</td>\n",
       "      <td>0</td>\n",
       "      <td>Better luck next time.</td>\n",
       "      <td>1</td>\n",
       "    </tr>\n",
       "    <tr>\n",
       "      <th>5</th>\n",
       "      <td>03-12-2022</td>\n",
       "      <td>03:05:00</td>\n",
       "      <td>3</td>\n",
       "      <td>ijkl67@gmail.com</td>\n",
       "      <td>198.51.119.0</td>\n",
       "      <td>pakistan</td>\n",
       "      <td>yes</td>\n",
       "      <td>5600</td>\n",
       "      <td>You are the lucky winner!</td>\n",
       "      <td>1</td>\n",
       "    </tr>\n",
       "    <tr>\n",
       "      <th>6</th>\n",
       "      <td>04-12-2023</td>\n",
       "      <td>10:50:00</td>\n",
       "      <td>4</td>\n",
       "      <td>mnop89@gmail.com</td>\n",
       "      <td>203.0.113.0</td>\n",
       "      <td>Australia</td>\n",
       "      <td>no</td>\n",
       "      <td>0</td>\n",
       "      <td>Try again next time.</td>\n",
       "      <td>1</td>\n",
       "    </tr>\n",
       "    <tr>\n",
       "      <th>7</th>\n",
       "      <td>05-12-2023</td>\n",
       "      <td>13:00:00</td>\n",
       "      <td>5</td>\n",
       "      <td>qrst01@gmail.com</td>\n",
       "      <td>198.51.100.0</td>\n",
       "      <td>Canada</td>\n",
       "      <td>yes</td>\n",
       "      <td>2000</td>\n",
       "      <td>You've hit the jackpot!</td>\n",
       "      <td>0</td>\n",
       "    </tr>\n",
       "    <tr>\n",
       "      <th>8</th>\n",
       "      <td>06-12-2023</td>\n",
       "      <td>14:00:00</td>\n",
       "      <td>6</td>\n",
       "      <td>uvwx23@gmail.com</td>\n",
       "      <td>192.0.2.0</td>\n",
       "      <td>India</td>\n",
       "      <td>no</td>\n",
       "      <td>0</td>\n",
       "      <td>Sorry, you didn't win this time.</td>\n",
       "      <td>1</td>\n",
       "    </tr>\n",
       "    <tr>\n",
       "      <th>9</th>\n",
       "      <td>07-12-2023</td>\n",
       "      <td>15:00:00</td>\n",
       "      <td>7</td>\n",
       "      <td>yzab45@gmail.com</td>\n",
       "      <td>203.0.113.0</td>\n",
       "      <td>USA</td>\n",
       "      <td>yes</td>\n",
       "      <td>3000</td>\n",
       "      <td>Amazing, you won the prize!</td>\n",
       "      <td>0</td>\n",
       "    </tr>\n",
       "    <tr>\n",
       "      <th>10</th>\n",
       "      <td>08-12-2023</td>\n",
       "      <td>16:00:00</td>\n",
       "      <td>8</td>\n",
       "      <td>cdef67@gmail.com</td>\n",
       "      <td>198.51.100.0</td>\n",
       "      <td>Afghanistan</td>\n",
       "      <td>no</td>\n",
       "      <td>0</td>\n",
       "      <td>Better luck next time.</td>\n",
       "      <td>1</td>\n",
       "    </tr>\n",
       "    <tr>\n",
       "      <th>11</th>\n",
       "      <td>09-12-2023</td>\n",
       "      <td>17:00:00</td>\n",
       "      <td>9</td>\n",
       "      <td>ghij89@gmail.com</td>\n",
       "      <td>192.0.2.0</td>\n",
       "      <td>Argentina.</td>\n",
       "      <td>yes</td>\n",
       "      <td>4000</td>\n",
       "      <td>Congratulations, you're a winner!</td>\n",
       "      <td>0</td>\n",
       "    </tr>\n",
       "    <tr>\n",
       "      <th>12</th>\n",
       "      <td>10-12-2023</td>\n",
       "      <td>18:00:00</td>\n",
       "      <td>10</td>\n",
       "      <td>klmn01@gmail.com</td>\n",
       "      <td>203.0.113.0</td>\n",
       "      <td>Malaysia</td>\n",
       "      <td>no</td>\n",
       "      <td>0</td>\n",
       "      <td>Unfortunately, you didn't win.</td>\n",
       "      <td>1</td>\n",
       "    </tr>\n",
       "    <tr>\n",
       "      <th>13</th>\n",
       "      <td>11-12-2023</td>\n",
       "      <td>19:00:00</td>\n",
       "      <td>11</td>\n",
       "      <td>opqr23@gmail.com</td>\n",
       "      <td>198.51.100.0</td>\n",
       "      <td>Nigeria</td>\n",
       "      <td>yes</td>\n",
       "      <td>5000</td>\n",
       "      <td>Great news, you won the prize!</td>\n",
       "      <td>0</td>\n",
       "    </tr>\n",
       "    <tr>\n",
       "      <th>14</th>\n",
       "      <td>12-12-2023</td>\n",
       "      <td>20:00:00</td>\n",
       "      <td>12</td>\n",
       "      <td>stuv45@gmail.com</td>\n",
       "      <td>192.0.2.0</td>\n",
       "      <td>Australia</td>\n",
       "      <td>no</td>\n",
       "      <td>0</td>\n",
       "      <td>Sorry, no luck this time.</td>\n",
       "      <td>1</td>\n",
       "    </tr>\n",
       "    <tr>\n",
       "      <th>15</th>\n",
       "      <td>13-12-2023</td>\n",
       "      <td>21:00:00</td>\n",
       "      <td>13</td>\n",
       "      <td>wxyz67@gmail.com</td>\n",
       "      <td>203.0.113.0</td>\n",
       "      <td>Mexico</td>\n",
       "      <td>yes</td>\n",
       "      <td>6000</td>\n",
       "      <td>Wow, you've won the lottery!</td>\n",
       "      <td>0</td>\n",
       "    </tr>\n",
       "    <tr>\n",
       "      <th>16</th>\n",
       "      <td>14-12-2023</td>\n",
       "      <td>22:00:00</td>\n",
       "      <td>14</td>\n",
       "      <td>abcd90@gmail.com</td>\n",
       "      <td>198.51.100.0</td>\n",
       "      <td>Morocco</td>\n",
       "      <td>no</td>\n",
       "      <td>0</td>\n",
       "      <td>Better luck next time.</td>\n",
       "      <td>1</td>\n",
       "    </tr>\n",
       "    <tr>\n",
       "      <th>17</th>\n",
       "      <td>15-12-2023</td>\n",
       "      <td>23:00:00</td>\n",
       "      <td>15</td>\n",
       "      <td>efgh12@gmail.com</td>\n",
       "      <td>192.0.2.0</td>\n",
       "      <td>India</td>\n",
       "      <td>yes</td>\n",
       "      <td>7000</td>\n",
       "      <td>Congratulations, youre a winner!</td>\n",
       "      <td>0</td>\n",
       "    </tr>\n",
       "    <tr>\n",
       "      <th>18</th>\n",
       "      <td>16-12-2023</td>\n",
       "      <td>00:00:00</td>\n",
       "      <td>16</td>\n",
       "      <td>ijkl34@gmail.com</td>\n",
       "      <td>203.0.113.0</td>\n",
       "      <td>USA</td>\n",
       "      <td>no</td>\n",
       "      <td>0</td>\n",
       "      <td>Unfortunately, you didn't win.</td>\n",
       "      <td>1</td>\n",
       "    </tr>\n",
       "    <tr>\n",
       "      <th>19</th>\n",
       "      <td>17-12-2023</td>\n",
       "      <td>01:00:00</td>\n",
       "      <td>17</td>\n",
       "      <td>mnop56@gmail.com</td>\n",
       "      <td>198.51.100.0</td>\n",
       "      <td>Australia</td>\n",
       "      <td>yes</td>\n",
       "      <td>8000</td>\n",
       "      <td>Great news, you won the prize!</td>\n",
       "      <td>0</td>\n",
       "    </tr>\n",
       "    <tr>\n",
       "      <th>20</th>\n",
       "      <td>18-12-2023</td>\n",
       "      <td>02:00:00</td>\n",
       "      <td>18</td>\n",
       "      <td>qrst78@gmail.com</td>\n",
       "      <td>192.0.2.0</td>\n",
       "      <td>Canada</td>\n",
       "      <td>no</td>\n",
       "      <td>0</td>\n",
       "      <td>Sorry, no luck this time.</td>\n",
       "      <td>1</td>\n",
       "    </tr>\n",
       "    <tr>\n",
       "      <th>21</th>\n",
       "      <td>19-12-2023</td>\n",
       "      <td>03:00:00</td>\n",
       "      <td>19</td>\n",
       "      <td>uvwx90@gmail.com</td>\n",
       "      <td>203.0.113.0</td>\n",
       "      <td>Mexico</td>\n",
       "      <td>yes</td>\n",
       "      <td>9000</td>\n",
       "      <td>Congratulations, you're a winner!</td>\n",
       "      <td>0</td>\n",
       "    </tr>\n",
       "    <tr>\n",
       "      <th>22</th>\n",
       "      <td>20-12-2023</td>\n",
       "      <td>04:00:00</td>\n",
       "      <td>20</td>\n",
       "      <td>yzab12@gmail.com</td>\n",
       "      <td>198.51.100.0</td>\n",
       "      <td>Morocco</td>\n",
       "      <td>no</td>\n",
       "      <td>0</td>\n",
       "      <td>Unfortunately, you didn't win.</td>\n",
       "      <td>1</td>\n",
       "    </tr>\n",
       "    <tr>\n",
       "      <th>23</th>\n",
       "      <td>21-12-2023</td>\n",
       "      <td>05:00:00</td>\n",
       "      <td>21</td>\n",
       "      <td>cdef34@gmail.com</td>\n",
       "      <td>192.0.2.0</td>\n",
       "      <td>Afghanistan</td>\n",
       "      <td>yes</td>\n",
       "      <td>10000</td>\n",
       "      <td>Great news, you won the prize!</td>\n",
       "      <td>0</td>\n",
       "    </tr>\n",
       "    <tr>\n",
       "      <th>24</th>\n",
       "      <td>22-12-2023</td>\n",
       "      <td>06:00:00</td>\n",
       "      <td>22</td>\n",
       "      <td>ghij56@gmail.com</td>\n",
       "      <td>203.0.113.0</td>\n",
       "      <td>Australia</td>\n",
       "      <td>no</td>\n",
       "      <td>0</td>\n",
       "      <td>Sorry, no luck this time.</td>\n",
       "      <td>1</td>\n",
       "    </tr>\n",
       "    <tr>\n",
       "      <th>25</th>\n",
       "      <td>23-12-2023</td>\n",
       "      <td>07:00:00</td>\n",
       "      <td>23</td>\n",
       "      <td>klmn78@gmail.com</td>\n",
       "      <td>198.51.100.0</td>\n",
       "      <td>Malaysia</td>\n",
       "      <td>yes</td>\n",
       "      <td>11000</td>\n",
       "      <td>Wow, you've won the lottery!</td>\n",
       "      <td>0</td>\n",
       "    </tr>\n",
       "    <tr>\n",
       "      <th>26</th>\n",
       "      <td>24-12-2023</td>\n",
       "      <td>08:00:00</td>\n",
       "      <td>24</td>\n",
       "      <td>mnop90@gmail.com</td>\n",
       "      <td>203.0.113.0</td>\n",
       "      <td>USA</td>\n",
       "      <td>yes</td>\n",
       "      <td>12000</td>\n",
       "      <td>Congratulations, you're a winner!</td>\n",
       "      <td>0</td>\n",
       "    </tr>\n",
       "    <tr>\n",
       "      <th>27</th>\n",
       "      <td>25-12-2023</td>\n",
       "      <td>09:00:00</td>\n",
       "      <td>25</td>\n",
       "      <td>qrst12@gmail.com</td>\n",
       "      <td>198.51.100.0</td>\n",
       "      <td>UK</td>\n",
       "      <td>no</td>\n",
       "      <td>0</td>\n",
       "      <td>Unfortunately, you didn't win.</td>\n",
       "      <td>1</td>\n",
       "    </tr>\n",
       "    <tr>\n",
       "      <th>28</th>\n",
       "      <td>26-12-2023</td>\n",
       "      <td>10:00:00</td>\n",
       "      <td>26</td>\n",
       "      <td>uvwx34@gmail.com</td>\n",
       "      <td>192.0.2.0</td>\n",
       "      <td>India</td>\n",
       "      <td>yes</td>\n",
       "      <td>13000</td>\n",
       "      <td>Great news, you won the prize!</td>\n",
       "      <td>0</td>\n",
       "    </tr>\n",
       "  </tbody>\n",
       "</table>\n",
       "</div>"
      ],
      "text/plain": [
       "          Date      Time  TransactionID                   Email    IP_Address  \\\n",
       "0   01-12-2023  09:00:00              1        abcd23@gmail.com     192.0.2.0   \n",
       "1   01-07-2023  12:30:00              3        user@example.com   192.168.1.1   \n",
       "2   02-01-2021  14:45:00              4    john.doe@example.com   192.168.2.2   \n",
       "3   03-01-2023  10:15:00              5  jane.smith@example.com   192.168.3.3   \n",
       "4   02-10-2023  05:00:40              2        efgh45@gmail.com   203.0.113.0   \n",
       "5   03-12-2022  03:05:00              3        ijkl67@gmail.com  198.51.119.0   \n",
       "6   04-12-2023  10:50:00              4        mnop89@gmail.com   203.0.113.0   \n",
       "7   05-12-2023  13:00:00              5        qrst01@gmail.com  198.51.100.0   \n",
       "8   06-12-2023  14:00:00              6        uvwx23@gmail.com     192.0.2.0   \n",
       "9   07-12-2023  15:00:00              7        yzab45@gmail.com   203.0.113.0   \n",
       "10  08-12-2023  16:00:00              8        cdef67@gmail.com  198.51.100.0   \n",
       "11  09-12-2023  17:00:00              9        ghij89@gmail.com     192.0.2.0   \n",
       "12  10-12-2023  18:00:00             10        klmn01@gmail.com   203.0.113.0   \n",
       "13  11-12-2023  19:00:00             11        opqr23@gmail.com  198.51.100.0   \n",
       "14  12-12-2023  20:00:00             12        stuv45@gmail.com     192.0.2.0   \n",
       "15  13-12-2023  21:00:00             13        wxyz67@gmail.com   203.0.113.0   \n",
       "16  14-12-2023  22:00:00             14        abcd90@gmail.com  198.51.100.0   \n",
       "17  15-12-2023  23:00:00             15        efgh12@gmail.com     192.0.2.0   \n",
       "18  16-12-2023  00:00:00             16        ijkl34@gmail.com   203.0.113.0   \n",
       "19  17-12-2023  01:00:00             17        mnop56@gmail.com  198.51.100.0   \n",
       "20  18-12-2023  02:00:00             18        qrst78@gmail.com     192.0.2.0   \n",
       "21  19-12-2023  03:00:00             19        uvwx90@gmail.com   203.0.113.0   \n",
       "22  20-12-2023  04:00:00             20        yzab12@gmail.com  198.51.100.0   \n",
       "23  21-12-2023  05:00:00             21        cdef34@gmail.com     192.0.2.0   \n",
       "24  22-12-2023  06:00:00             22        ghij56@gmail.com   203.0.113.0   \n",
       "25  23-12-2023  07:00:00             23        klmn78@gmail.com  198.51.100.0   \n",
       "26  24-12-2023  08:00:00             24        mnop90@gmail.com   203.0.113.0   \n",
       "27  25-12-2023  09:00:00             25        qrst12@gmail.com  198.51.100.0   \n",
       "28  26-12-2023  10:00:00             26        uvwx34@gmail.com     192.0.2.0   \n",
       "\n",
       "        Country ClaimedWin  PayoutAmount  \\\n",
       "0         India        yes          1000   \n",
       "1            Uk         no             0   \n",
       "2        Canada        yes         50000   \n",
       "3         china        yes          7700   \n",
       "4         kenya         no             0   \n",
       "5      pakistan        yes          5600   \n",
       "6     Australia         no             0   \n",
       "7        Canada        yes          2000   \n",
       "8         India         no             0   \n",
       "9           USA        yes          3000   \n",
       "10  Afghanistan         no             0   \n",
       "11   Argentina.        yes          4000   \n",
       "12     Malaysia         no             0   \n",
       "13      Nigeria        yes          5000   \n",
       "14    Australia         no             0   \n",
       "15       Mexico        yes          6000   \n",
       "16      Morocco         no             0   \n",
       "17        India        yes          7000   \n",
       "18          USA         no             0   \n",
       "19    Australia        yes          8000   \n",
       "20       Canada         no             0   \n",
       "21       Mexico        yes          9000   \n",
       "22      Morocco         no             0   \n",
       "23  Afghanistan        yes         10000   \n",
       "24    Australia         no             0   \n",
       "25     Malaysia        yes         11000   \n",
       "26          USA        yes         12000   \n",
       "27           UK         no             0   \n",
       "28        India        yes         13000   \n",
       "\n",
       "                                                Input  Fraud_Classification  \n",
       "0          Congratulations, you have won the lottery!                     0  \n",
       "1   You are a lottery winner! Contact us to claim ...                     0  \n",
       "2          Congratulations, you have won the lottery!                     1  \n",
       "3   Congratulations, you are a winner in our lotte...                     0  \n",
       "4                              Better luck next time.                     1  \n",
       "5                           You are the lucky winner!                     1  \n",
       "6                                Try again next time.                     1  \n",
       "7                             You've hit the jackpot!                     0  \n",
       "8                    Sorry, you didn't win this time.                     1  \n",
       "9                         Amazing, you won the prize!                     0  \n",
       "10                             Better luck next time.                     1  \n",
       "11                  Congratulations, you're a winner!                     0  \n",
       "12                     Unfortunately, you didn't win.                     1  \n",
       "13                     Great news, you won the prize!                     0  \n",
       "14                          Sorry, no luck this time.                     1  \n",
       "15                       Wow, you've won the lottery!                     0  \n",
       "16                             Better luck next time.                     1  \n",
       "17                   Congratulations, youre a winner!                     0  \n",
       "18                     Unfortunately, you didn't win.                     1  \n",
       "19                     Great news, you won the prize!                     0  \n",
       "20                          Sorry, no luck this time.                     1  \n",
       "21                  Congratulations, you're a winner!                     0  \n",
       "22                     Unfortunately, you didn't win.                     1  \n",
       "23                     Great news, you won the prize!                     0  \n",
       "24                          Sorry, no luck this time.                     1  \n",
       "25                       Wow, you've won the lottery!                     0  \n",
       "26                  Congratulations, you're a winner!                     0  \n",
       "27                     Unfortunately, you didn't win.                     1  \n",
       "28                     Great news, you won the prize!                     0  "
      ]
     },
     "execution_count": 45,
     "metadata": {},
     "output_type": "execute_result"
    }
   ],
   "source": [
    "import pandas as pd\n",
    "# Step 2: Collect Data\n",
    "# Assume you have a CSV file named 'lottery_data.csv'\n",
    "data = pd.read_csv(\"OneDrive/Desktop/python/sample1.csv\")\n",
    "data\n"
   ]
  },
  {
   "cell_type": "code",
   "execution_count": 46,
   "id": "ed89a44f-c714-4ba6-9c2e-e547a6862e57",
   "metadata": {
    "tags": []
   },
   "outputs": [],
   "source": [
    "# Step 3: Data Preprocessing\n",
    "# Assume 'fraud' is the target variable\n",
    "X = data.drop('Fraud_Classification', axis=1)\n",
    "y = data['Fraud_Classification']\n"
   ]
  },
  {
   "cell_type": "code",
   "execution_count": 47,
   "id": "f8bd930c-877a-484a-8434-e31098e5ae61",
   "metadata": {
    "tags": []
   },
   "outputs": [
    {
     "data": {
      "text/html": [
       "<div>\n",
       "<style scoped>\n",
       "    .dataframe tbody tr th:only-of-type {\n",
       "        vertical-align: middle;\n",
       "    }\n",
       "\n",
       "    .dataframe tbody tr th {\n",
       "        vertical-align: top;\n",
       "    }\n",
       "\n",
       "    .dataframe thead th {\n",
       "        text-align: right;\n",
       "    }\n",
       "</style>\n",
       "<table border=\"1\" class=\"dataframe\">\n",
       "  <thead>\n",
       "    <tr style=\"text-align: right;\">\n",
       "      <th></th>\n",
       "      <th>Date</th>\n",
       "      <th>Time</th>\n",
       "      <th>TransactionID</th>\n",
       "      <th>Email</th>\n",
       "      <th>IP_Address</th>\n",
       "      <th>Country</th>\n",
       "      <th>ClaimedWin</th>\n",
       "      <th>PayoutAmount</th>\n",
       "      <th>Input</th>\n",
       "    </tr>\n",
       "  </thead>\n",
       "  <tbody>\n",
       "    <tr>\n",
       "      <th>0</th>\n",
       "      <td>01-12-2023</td>\n",
       "      <td>09:00:00</td>\n",
       "      <td>1</td>\n",
       "      <td>abcd23@gmail.com</td>\n",
       "      <td>192.0.2.0</td>\n",
       "      <td>India</td>\n",
       "      <td>yes</td>\n",
       "      <td>1000</td>\n",
       "      <td>Congratulations, you have won the lottery!</td>\n",
       "    </tr>\n",
       "    <tr>\n",
       "      <th>1</th>\n",
       "      <td>01-07-2023</td>\n",
       "      <td>12:30:00</td>\n",
       "      <td>3</td>\n",
       "      <td>user@example.com</td>\n",
       "      <td>192.168.1.1</td>\n",
       "      <td>Uk</td>\n",
       "      <td>no</td>\n",
       "      <td>0</td>\n",
       "      <td>You are a lottery winner! Contact us to claim ...</td>\n",
       "    </tr>\n",
       "    <tr>\n",
       "      <th>2</th>\n",
       "      <td>02-01-2021</td>\n",
       "      <td>14:45:00</td>\n",
       "      <td>4</td>\n",
       "      <td>john.doe@example.com</td>\n",
       "      <td>192.168.2.2</td>\n",
       "      <td>Canada</td>\n",
       "      <td>yes</td>\n",
       "      <td>50000</td>\n",
       "      <td>Congratulations, you have won the lottery!</td>\n",
       "    </tr>\n",
       "    <tr>\n",
       "      <th>3</th>\n",
       "      <td>03-01-2023</td>\n",
       "      <td>10:15:00</td>\n",
       "      <td>5</td>\n",
       "      <td>jane.smith@example.com</td>\n",
       "      <td>192.168.3.3</td>\n",
       "      <td>china</td>\n",
       "      <td>yes</td>\n",
       "      <td>7700</td>\n",
       "      <td>Congratulations, you are a winner in our lotte...</td>\n",
       "    </tr>\n",
       "    <tr>\n",
       "      <th>4</th>\n",
       "      <td>02-10-2023</td>\n",
       "      <td>05:00:40</td>\n",
       "      <td>2</td>\n",
       "      <td>efgh45@gmail.com</td>\n",
       "      <td>203.0.113.0</td>\n",
       "      <td>kenya</td>\n",
       "      <td>no</td>\n",
       "      <td>0</td>\n",
       "      <td>Better luck next time.</td>\n",
       "    </tr>\n",
       "  </tbody>\n",
       "</table>\n",
       "</div>"
      ],
      "text/plain": [
       "         Date      Time  TransactionID                   Email   IP_Address  \\\n",
       "0  01-12-2023  09:00:00              1        abcd23@gmail.com    192.0.2.0   \n",
       "1  01-07-2023  12:30:00              3        user@example.com  192.168.1.1   \n",
       "2  02-01-2021  14:45:00              4    john.doe@example.com  192.168.2.2   \n",
       "3  03-01-2023  10:15:00              5  jane.smith@example.com  192.168.3.3   \n",
       "4  02-10-2023  05:00:40              2        efgh45@gmail.com  203.0.113.0   \n",
       "\n",
       "  Country ClaimedWin  PayoutAmount  \\\n",
       "0   India        yes          1000   \n",
       "1      Uk         no             0   \n",
       "2  Canada        yes         50000   \n",
       "3   china        yes          7700   \n",
       "4   kenya         no             0   \n",
       "\n",
       "                                               Input  \n",
       "0         Congratulations, you have won the lottery!  \n",
       "1  You are a lottery winner! Contact us to claim ...  \n",
       "2         Congratulations, you have won the lottery!  \n",
       "3  Congratulations, you are a winner in our lotte...  \n",
       "4                             Better luck next time.  "
      ]
     },
     "execution_count": 47,
     "metadata": {},
     "output_type": "execute_result"
    }
   ],
   "source": [
    "# X: Features (independent variables)\n",
    "X.head()  # Display the first few rows of X for inspection\n"
   ]
  },
  {
   "cell_type": "code",
   "execution_count": 48,
   "id": "bf1ad8e6-5a67-4fd0-b7e1-701e523d3fdc",
   "metadata": {
    "tags": []
   },
   "outputs": [
    {
     "data": {
      "text/plain": [
       "0    0\n",
       "1    0\n",
       "2    1\n",
       "3    0\n",
       "4    1\n",
       "Name: Fraud_Classification, dtype: int64"
      ]
     },
     "execution_count": 48,
     "metadata": {},
     "output_type": "execute_result"
    }
   ],
   "source": [
    "# y: Target variable (dependent variable)\n",
    "y.head()  # Display the first few rows of y for inspection\n"
   ]
  },
  {
   "cell_type": "code",
   "execution_count": 49,
   "id": "5c547a76-9a46-4bc9-90ed-5bd9960dba98",
   "metadata": {
    "tags": []
   },
   "outputs": [
    {
     "ename": "NameError",
     "evalue": "name 'Email' is not defined",
     "output_type": "error",
     "traceback": [
      "\u001b[1;31m---------------------------------------------------------------------------\u001b[0m",
      "\u001b[1;31mNameError\u001b[0m                                 Traceback (most recent call last)",
      "Cell \u001b[1;32mIn[49], line 5\u001b[0m\n\u001b[0;32m      2\u001b[0m \u001b[38;5;28;01mfrom\u001b[39;00m \u001b[38;5;21;01msklearn\u001b[39;00m\u001b[38;5;21;01m.\u001b[39;00m\u001b[38;5;21;01mpreprocessing\u001b[39;00m \u001b[38;5;28;01mimport\u001b[39;00m OneHotEncoder\n\u001b[0;32m      4\u001b[0m \u001b[38;5;66;03m# Assuming `nominal_columns` is a list of column names that are nominal\u001b[39;00m\n\u001b[1;32m----> 5\u001b[0m nominal_columns \u001b[38;5;241m=\u001b[39m [Email\t]  \u001b[38;5;66;03m# Replace with the actual list of nominal column names in your dataset\u001b[39;00m\n\u001b[0;32m      7\u001b[0m one_hot_encoder \u001b[38;5;241m=\u001b[39m OneHotEncoder(sparse\u001b[38;5;241m=\u001b[39m\u001b[38;5;28;01mFalse\u001b[39;00m, drop\u001b[38;5;241m=\u001b[39m\u001b[38;5;124m'\u001b[39m\u001b[38;5;124mfirst\u001b[39m\u001b[38;5;124m'\u001b[39m)  \u001b[38;5;66;03m# 'sparse=False' returns a dense array, 'drop' removes the first column to avoid multicollinearity\u001b[39;00m\n\u001b[0;32m      9\u001b[0m \u001b[38;5;66;03m# Apply one-hot encoding to the nominal columns\u001b[39;00m\n",
      "\u001b[1;31mNameError\u001b[0m: name 'Email' is not defined"
     ]
    }
   ],
   "source": [
    "# Encode nominal categorical variables using OneHotEncoder\n",
    "from sklearn.preprocessing import OneHotEncoder\n",
    "\n",
    "# Assuming `nominal_columns` is a list of column names that are nominal\n",
    "nominal_columns = [Email\t]  # Replace with the actual list of nominal column names in your dataset\n",
    "\n",
    "one_hot_encoder = OneHotEncoder(sparse=False, drop='first')  # 'sparse=False' returns a dense array, 'drop' removes the first column to avoid multicollinearity\n",
    "\n",
    "# Apply one-hot encoding to the nominal columns\n",
    "X_encoded = one_hot_encoder.fit_transform(X[nominal_columns])\n",
    "\n",
    "# Concatenate the encoded categorical features with the original DataFrame\n",
    "X = pd.concat([X, pd.DataFrame(X_encoded, columns=one_hot_encoder.get_feature_names_out(nominal_columns))], axis=1)\n",
    "\n",
    "# Drop the original nominal columns as they are no longer needed\n",
    "X = X.drop(nominal_columns, axis=1)\n",
    "\n"
   ]
  },
  {
   "cell_type": "code",
   "execution_count": 50,
   "id": "6a7958e0-ff5e-4e49-900c-94c4d18c9f88",
   "metadata": {
    "tags": []
   },
   "outputs": [
    {
     "name": "stderr",
     "output_type": "stream",
     "text": [
      "C:\\Users\\bansa\\anaconda3\\Lib\\site-packages\\sklearn\\preprocessing\\_encoders.py:975: FutureWarning: `sparse` was renamed to `sparse_output` in version 1.2 and will be removed in 1.4. `sparse_output` is ignored unless you leave `sparse` to its default value.\n",
      "  warnings.warn(\n"
     ]
    }
   ],
   "source": [
    "# Define keywords indicating a win\n",
    "win_keywords = ['won the lottery', 'hit the jackpot', 'lucky winner', 'winner in our lottery draw']\n",
    "\n",
    "# Create a binary column 'ClaimedWin' based on the presence of keywords\n",
    "X['ClaimedWin'] = X['Input'].apply(lambda x: any(keyword in x for keyword in win_keywords)).astype(int)\n",
    "\n",
    "# Drop the original 'Input' column as it's no longer needed\n",
    "X = X.drop('Input', axis=1)\n",
    "\n",
    "# Encode nominal categorical variables using OneHotEncoder\n",
    "from sklearn.preprocessing import OneHotEncoder\n",
    "\n",
    "# Assuming `nominal_columns` is a list of column names that are nominal\n",
    "nominal_columns = ['Country']  # Include other nominal columns as needed\n",
    "\n",
    "# Exclude 'ClaimedWin' from one-hot encoding\n",
    "nominal_columns_for_encoding = [col for col in nominal_columns if col != 'ClaimedWin']\n",
    "\n",
    "one_hot_encoder = OneHotEncoder(sparse=False, drop='first')  # 'sparse=False' returns a dense array, 'drop' removes the first column to avoid multicollinearity\n",
    "\n",
    "# Apply one-hot encoding to the nominal columns (excluding 'ClaimedWin')\n",
    "X_encoded = one_hot_encoder.fit_transform(X[nominal_columns_for_encoding])\n",
    "\n",
    "# Concatenate the encoded categorical features with the original DataFrame\n",
    "X = pd.concat([X, pd.DataFrame(X_encoded, columns=one_hot_encoder.get_feature_names_out(nominal_columns_for_encoding))], axis=1)\n",
    "\n",
    "# Drop the original nominal columns (excluding 'ClaimedWin') as they are no longer needed\n",
    "X = X.drop(nominal_columns_for_encoding, axis=1)\n"
   ]
  },
  {
   "cell_type": "code",
   "execution_count": 51,
   "id": "21a12c29-31e6-4ded-9be1-c71ad44c3fc6",
   "metadata": {
    "tags": []
   },
   "outputs": [
    {
     "name": "stdout",
     "output_type": "stream",
     "text": [
      "'Input' column not found in the DataFrame.\n"
     ]
    }
   ],
   "source": [
    "# Check if 'Input' column exists before using it\n",
    "if 'Input' in X.columns:\n",
    "    # Define keywords indicating a win\n",
    "    win_keywords = ['won the lottery', 'hit the jackpot', 'lucky winner', 'winner in our lottery draw']\n",
    "\n",
    "    # Create a binary column 'ClaimedWin' based on the presence of keywords\n",
    "    X['ClaimedWin'] = X['Input'].apply(lambda x: any(keyword in x for keyword in win_keywords)).astype(int)\n",
    "\n",
    "    # Drop the original 'Input' column as it's no longer needed\n",
    "    X = X.drop('Input', axis=1)\n",
    "else:\n",
    "    print(\"'Input' column not found in the DataFrame.\")\n"
   ]
  },
  {
   "cell_type": "code",
   "execution_count": 52,
   "id": "b4d8508e-3f72-4ee6-9fff-3096251cd7b3",
   "metadata": {
    "tags": []
   },
   "outputs": [
    {
     "data": {
      "text/html": [
       "<div>\n",
       "<style scoped>\n",
       "    .dataframe tbody tr th:only-of-type {\n",
       "        vertical-align: middle;\n",
       "    }\n",
       "\n",
       "    .dataframe tbody tr th {\n",
       "        vertical-align: top;\n",
       "    }\n",
       "\n",
       "    .dataframe thead th {\n",
       "        text-align: right;\n",
       "    }\n",
       "</style>\n",
       "<table border=\"1\" class=\"dataframe\">\n",
       "  <thead>\n",
       "    <tr style=\"text-align: right;\">\n",
       "      <th></th>\n",
       "      <th>Date</th>\n",
       "      <th>Time</th>\n",
       "      <th>TransactionID</th>\n",
       "      <th>Email</th>\n",
       "      <th>IP_Address</th>\n",
       "      <th>Country</th>\n",
       "      <th>ClaimedWin</th>\n",
       "      <th>PayoutAmount</th>\n",
       "      <th>Input</th>\n",
       "      <th>Fraud_Classification</th>\n",
       "    </tr>\n",
       "  </thead>\n",
       "  <tbody>\n",
       "    <tr>\n",
       "      <th>0</th>\n",
       "      <td>01-12-2023</td>\n",
       "      <td>09:00:00</td>\n",
       "      <td>1</td>\n",
       "      <td>abcd23@gmail.com</td>\n",
       "      <td>192.0.2.0</td>\n",
       "      <td>India</td>\n",
       "      <td>yes</td>\n",
       "      <td>1000</td>\n",
       "      <td>Congratulations, you have won the lottery!</td>\n",
       "      <td>0</td>\n",
       "    </tr>\n",
       "    <tr>\n",
       "      <th>1</th>\n",
       "      <td>01-07-2023</td>\n",
       "      <td>12:30:00</td>\n",
       "      <td>3</td>\n",
       "      <td>user@example.com</td>\n",
       "      <td>192.168.1.1</td>\n",
       "      <td>Uk</td>\n",
       "      <td>no</td>\n",
       "      <td>0</td>\n",
       "      <td>You are a lottery winner! Contact us to claim ...</td>\n",
       "      <td>0</td>\n",
       "    </tr>\n",
       "    <tr>\n",
       "      <th>2</th>\n",
       "      <td>02-01-2021</td>\n",
       "      <td>14:45:00</td>\n",
       "      <td>4</td>\n",
       "      <td>john.doe@example.com</td>\n",
       "      <td>192.168.2.2</td>\n",
       "      <td>Canada</td>\n",
       "      <td>yes</td>\n",
       "      <td>50000</td>\n",
       "      <td>Congratulations, you have won the lottery!</td>\n",
       "      <td>1</td>\n",
       "    </tr>\n",
       "    <tr>\n",
       "      <th>3</th>\n",
       "      <td>03-01-2023</td>\n",
       "      <td>10:15:00</td>\n",
       "      <td>5</td>\n",
       "      <td>jane.smith@example.com</td>\n",
       "      <td>192.168.3.3</td>\n",
       "      <td>china</td>\n",
       "      <td>yes</td>\n",
       "      <td>7700</td>\n",
       "      <td>Congratulations, you are a winner in our lotte...</td>\n",
       "      <td>0</td>\n",
       "    </tr>\n",
       "    <tr>\n",
       "      <th>4</th>\n",
       "      <td>02-10-2023</td>\n",
       "      <td>05:00:40</td>\n",
       "      <td>2</td>\n",
       "      <td>efgh45@gmail.com</td>\n",
       "      <td>203.0.113.0</td>\n",
       "      <td>kenya</td>\n",
       "      <td>no</td>\n",
       "      <td>0</td>\n",
       "      <td>Better luck next time.</td>\n",
       "      <td>1</td>\n",
       "    </tr>\n",
       "    <tr>\n",
       "      <th>5</th>\n",
       "      <td>03-12-2022</td>\n",
       "      <td>03:05:00</td>\n",
       "      <td>3</td>\n",
       "      <td>ijkl67@gmail.com</td>\n",
       "      <td>198.51.119.0</td>\n",
       "      <td>pakistan</td>\n",
       "      <td>yes</td>\n",
       "      <td>5600</td>\n",
       "      <td>You are the lucky winner!</td>\n",
       "      <td>1</td>\n",
       "    </tr>\n",
       "    <tr>\n",
       "      <th>6</th>\n",
       "      <td>04-12-2023</td>\n",
       "      <td>10:50:00</td>\n",
       "      <td>4</td>\n",
       "      <td>mnop89@gmail.com</td>\n",
       "      <td>203.0.113.0</td>\n",
       "      <td>Australia</td>\n",
       "      <td>no</td>\n",
       "      <td>0</td>\n",
       "      <td>Try again next time.</td>\n",
       "      <td>1</td>\n",
       "    </tr>\n",
       "    <tr>\n",
       "      <th>7</th>\n",
       "      <td>05-12-2023</td>\n",
       "      <td>13:00:00</td>\n",
       "      <td>5</td>\n",
       "      <td>qrst01@gmail.com</td>\n",
       "      <td>198.51.100.0</td>\n",
       "      <td>Canada</td>\n",
       "      <td>yes</td>\n",
       "      <td>2000</td>\n",
       "      <td>You've hit the jackpot!</td>\n",
       "      <td>0</td>\n",
       "    </tr>\n",
       "    <tr>\n",
       "      <th>8</th>\n",
       "      <td>06-12-2023</td>\n",
       "      <td>14:00:00</td>\n",
       "      <td>6</td>\n",
       "      <td>uvwx23@gmail.com</td>\n",
       "      <td>192.0.2.0</td>\n",
       "      <td>India</td>\n",
       "      <td>no</td>\n",
       "      <td>0</td>\n",
       "      <td>Sorry, you didn't win this time.</td>\n",
       "      <td>1</td>\n",
       "    </tr>\n",
       "    <tr>\n",
       "      <th>9</th>\n",
       "      <td>07-12-2023</td>\n",
       "      <td>15:00:00</td>\n",
       "      <td>7</td>\n",
       "      <td>yzab45@gmail.com</td>\n",
       "      <td>203.0.113.0</td>\n",
       "      <td>USA</td>\n",
       "      <td>yes</td>\n",
       "      <td>3000</td>\n",
       "      <td>Amazing, you won the prize!</td>\n",
       "      <td>0</td>\n",
       "    </tr>\n",
       "    <tr>\n",
       "      <th>10</th>\n",
       "      <td>08-12-2023</td>\n",
       "      <td>16:00:00</td>\n",
       "      <td>8</td>\n",
       "      <td>cdef67@gmail.com</td>\n",
       "      <td>198.51.100.0</td>\n",
       "      <td>Afghanistan</td>\n",
       "      <td>no</td>\n",
       "      <td>0</td>\n",
       "      <td>Better luck next time.</td>\n",
       "      <td>1</td>\n",
       "    </tr>\n",
       "    <tr>\n",
       "      <th>11</th>\n",
       "      <td>09-12-2023</td>\n",
       "      <td>17:00:00</td>\n",
       "      <td>9</td>\n",
       "      <td>ghij89@gmail.com</td>\n",
       "      <td>192.0.2.0</td>\n",
       "      <td>Argentina.</td>\n",
       "      <td>yes</td>\n",
       "      <td>4000</td>\n",
       "      <td>Congratulations, you're a winner!</td>\n",
       "      <td>0</td>\n",
       "    </tr>\n",
       "    <tr>\n",
       "      <th>12</th>\n",
       "      <td>10-12-2023</td>\n",
       "      <td>18:00:00</td>\n",
       "      <td>10</td>\n",
       "      <td>klmn01@gmail.com</td>\n",
       "      <td>203.0.113.0</td>\n",
       "      <td>Malaysia</td>\n",
       "      <td>no</td>\n",
       "      <td>0</td>\n",
       "      <td>Unfortunately, you didn't win.</td>\n",
       "      <td>1</td>\n",
       "    </tr>\n",
       "    <tr>\n",
       "      <th>13</th>\n",
       "      <td>11-12-2023</td>\n",
       "      <td>19:00:00</td>\n",
       "      <td>11</td>\n",
       "      <td>opqr23@gmail.com</td>\n",
       "      <td>198.51.100.0</td>\n",
       "      <td>Nigeria</td>\n",
       "      <td>yes</td>\n",
       "      <td>5000</td>\n",
       "      <td>Great news, you won the prize!</td>\n",
       "      <td>0</td>\n",
       "    </tr>\n",
       "    <tr>\n",
       "      <th>14</th>\n",
       "      <td>12-12-2023</td>\n",
       "      <td>20:00:00</td>\n",
       "      <td>12</td>\n",
       "      <td>stuv45@gmail.com</td>\n",
       "      <td>192.0.2.0</td>\n",
       "      <td>Australia</td>\n",
       "      <td>no</td>\n",
       "      <td>0</td>\n",
       "      <td>Sorry, no luck this time.</td>\n",
       "      <td>1</td>\n",
       "    </tr>\n",
       "    <tr>\n",
       "      <th>15</th>\n",
       "      <td>13-12-2023</td>\n",
       "      <td>21:00:00</td>\n",
       "      <td>13</td>\n",
       "      <td>wxyz67@gmail.com</td>\n",
       "      <td>203.0.113.0</td>\n",
       "      <td>Mexico</td>\n",
       "      <td>yes</td>\n",
       "      <td>6000</td>\n",
       "      <td>Wow, you've won the lottery!</td>\n",
       "      <td>0</td>\n",
       "    </tr>\n",
       "    <tr>\n",
       "      <th>16</th>\n",
       "      <td>14-12-2023</td>\n",
       "      <td>22:00:00</td>\n",
       "      <td>14</td>\n",
       "      <td>abcd90@gmail.com</td>\n",
       "      <td>198.51.100.0</td>\n",
       "      <td>Morocco</td>\n",
       "      <td>no</td>\n",
       "      <td>0</td>\n",
       "      <td>Better luck next time.</td>\n",
       "      <td>1</td>\n",
       "    </tr>\n",
       "    <tr>\n",
       "      <th>17</th>\n",
       "      <td>15-12-2023</td>\n",
       "      <td>23:00:00</td>\n",
       "      <td>15</td>\n",
       "      <td>efgh12@gmail.com</td>\n",
       "      <td>192.0.2.0</td>\n",
       "      <td>India</td>\n",
       "      <td>yes</td>\n",
       "      <td>7000</td>\n",
       "      <td>Congratulations, youre a winner!</td>\n",
       "      <td>0</td>\n",
       "    </tr>\n",
       "    <tr>\n",
       "      <th>18</th>\n",
       "      <td>16-12-2023</td>\n",
       "      <td>00:00:00</td>\n",
       "      <td>16</td>\n",
       "      <td>ijkl34@gmail.com</td>\n",
       "      <td>203.0.113.0</td>\n",
       "      <td>USA</td>\n",
       "      <td>no</td>\n",
       "      <td>0</td>\n",
       "      <td>Unfortunately, you didn't win.</td>\n",
       "      <td>1</td>\n",
       "    </tr>\n",
       "    <tr>\n",
       "      <th>19</th>\n",
       "      <td>17-12-2023</td>\n",
       "      <td>01:00:00</td>\n",
       "      <td>17</td>\n",
       "      <td>mnop56@gmail.com</td>\n",
       "      <td>198.51.100.0</td>\n",
       "      <td>Australia</td>\n",
       "      <td>yes</td>\n",
       "      <td>8000</td>\n",
       "      <td>Great news, you won the prize!</td>\n",
       "      <td>0</td>\n",
       "    </tr>\n",
       "    <tr>\n",
       "      <th>20</th>\n",
       "      <td>18-12-2023</td>\n",
       "      <td>02:00:00</td>\n",
       "      <td>18</td>\n",
       "      <td>qrst78@gmail.com</td>\n",
       "      <td>192.0.2.0</td>\n",
       "      <td>Canada</td>\n",
       "      <td>no</td>\n",
       "      <td>0</td>\n",
       "      <td>Sorry, no luck this time.</td>\n",
       "      <td>1</td>\n",
       "    </tr>\n",
       "    <tr>\n",
       "      <th>21</th>\n",
       "      <td>19-12-2023</td>\n",
       "      <td>03:00:00</td>\n",
       "      <td>19</td>\n",
       "      <td>uvwx90@gmail.com</td>\n",
       "      <td>203.0.113.0</td>\n",
       "      <td>Mexico</td>\n",
       "      <td>yes</td>\n",
       "      <td>9000</td>\n",
       "      <td>Congratulations, you're a winner!</td>\n",
       "      <td>0</td>\n",
       "    </tr>\n",
       "    <tr>\n",
       "      <th>22</th>\n",
       "      <td>20-12-2023</td>\n",
       "      <td>04:00:00</td>\n",
       "      <td>20</td>\n",
       "      <td>yzab12@gmail.com</td>\n",
       "      <td>198.51.100.0</td>\n",
       "      <td>Morocco</td>\n",
       "      <td>no</td>\n",
       "      <td>0</td>\n",
       "      <td>Unfortunately, you didn't win.</td>\n",
       "      <td>1</td>\n",
       "    </tr>\n",
       "    <tr>\n",
       "      <th>23</th>\n",
       "      <td>21-12-2023</td>\n",
       "      <td>05:00:00</td>\n",
       "      <td>21</td>\n",
       "      <td>cdef34@gmail.com</td>\n",
       "      <td>192.0.2.0</td>\n",
       "      <td>Afghanistan</td>\n",
       "      <td>yes</td>\n",
       "      <td>10000</td>\n",
       "      <td>Great news, you won the prize!</td>\n",
       "      <td>0</td>\n",
       "    </tr>\n",
       "    <tr>\n",
       "      <th>24</th>\n",
       "      <td>22-12-2023</td>\n",
       "      <td>06:00:00</td>\n",
       "      <td>22</td>\n",
       "      <td>ghij56@gmail.com</td>\n",
       "      <td>203.0.113.0</td>\n",
       "      <td>Australia</td>\n",
       "      <td>no</td>\n",
       "      <td>0</td>\n",
       "      <td>Sorry, no luck this time.</td>\n",
       "      <td>1</td>\n",
       "    </tr>\n",
       "    <tr>\n",
       "      <th>25</th>\n",
       "      <td>23-12-2023</td>\n",
       "      <td>07:00:00</td>\n",
       "      <td>23</td>\n",
       "      <td>klmn78@gmail.com</td>\n",
       "      <td>198.51.100.0</td>\n",
       "      <td>Malaysia</td>\n",
       "      <td>yes</td>\n",
       "      <td>11000</td>\n",
       "      <td>Wow, you've won the lottery!</td>\n",
       "      <td>0</td>\n",
       "    </tr>\n",
       "    <tr>\n",
       "      <th>26</th>\n",
       "      <td>24-12-2023</td>\n",
       "      <td>08:00:00</td>\n",
       "      <td>24</td>\n",
       "      <td>mnop90@gmail.com</td>\n",
       "      <td>203.0.113.0</td>\n",
       "      <td>USA</td>\n",
       "      <td>yes</td>\n",
       "      <td>12000</td>\n",
       "      <td>Congratulations, you're a winner!</td>\n",
       "      <td>0</td>\n",
       "    </tr>\n",
       "    <tr>\n",
       "      <th>27</th>\n",
       "      <td>25-12-2023</td>\n",
       "      <td>09:00:00</td>\n",
       "      <td>25</td>\n",
       "      <td>qrst12@gmail.com</td>\n",
       "      <td>198.51.100.0</td>\n",
       "      <td>UK</td>\n",
       "      <td>no</td>\n",
       "      <td>0</td>\n",
       "      <td>Unfortunately, you didn't win.</td>\n",
       "      <td>1</td>\n",
       "    </tr>\n",
       "    <tr>\n",
       "      <th>28</th>\n",
       "      <td>26-12-2023</td>\n",
       "      <td>10:00:00</td>\n",
       "      <td>26</td>\n",
       "      <td>uvwx34@gmail.com</td>\n",
       "      <td>192.0.2.0</td>\n",
       "      <td>India</td>\n",
       "      <td>yes</td>\n",
       "      <td>13000</td>\n",
       "      <td>Great news, you won the prize!</td>\n",
       "      <td>0</td>\n",
       "    </tr>\n",
       "  </tbody>\n",
       "</table>\n",
       "</div>"
      ],
      "text/plain": [
       "          Date      Time  TransactionID                   Email    IP_Address  \\\n",
       "0   01-12-2023  09:00:00              1        abcd23@gmail.com     192.0.2.0   \n",
       "1   01-07-2023  12:30:00              3        user@example.com   192.168.1.1   \n",
       "2   02-01-2021  14:45:00              4    john.doe@example.com   192.168.2.2   \n",
       "3   03-01-2023  10:15:00              5  jane.smith@example.com   192.168.3.3   \n",
       "4   02-10-2023  05:00:40              2        efgh45@gmail.com   203.0.113.0   \n",
       "5   03-12-2022  03:05:00              3        ijkl67@gmail.com  198.51.119.0   \n",
       "6   04-12-2023  10:50:00              4        mnop89@gmail.com   203.0.113.0   \n",
       "7   05-12-2023  13:00:00              5        qrst01@gmail.com  198.51.100.0   \n",
       "8   06-12-2023  14:00:00              6        uvwx23@gmail.com     192.0.2.0   \n",
       "9   07-12-2023  15:00:00              7        yzab45@gmail.com   203.0.113.0   \n",
       "10  08-12-2023  16:00:00              8        cdef67@gmail.com  198.51.100.0   \n",
       "11  09-12-2023  17:00:00              9        ghij89@gmail.com     192.0.2.0   \n",
       "12  10-12-2023  18:00:00             10        klmn01@gmail.com   203.0.113.0   \n",
       "13  11-12-2023  19:00:00             11        opqr23@gmail.com  198.51.100.0   \n",
       "14  12-12-2023  20:00:00             12        stuv45@gmail.com     192.0.2.0   \n",
       "15  13-12-2023  21:00:00             13        wxyz67@gmail.com   203.0.113.0   \n",
       "16  14-12-2023  22:00:00             14        abcd90@gmail.com  198.51.100.0   \n",
       "17  15-12-2023  23:00:00             15        efgh12@gmail.com     192.0.2.0   \n",
       "18  16-12-2023  00:00:00             16        ijkl34@gmail.com   203.0.113.0   \n",
       "19  17-12-2023  01:00:00             17        mnop56@gmail.com  198.51.100.0   \n",
       "20  18-12-2023  02:00:00             18        qrst78@gmail.com     192.0.2.0   \n",
       "21  19-12-2023  03:00:00             19        uvwx90@gmail.com   203.0.113.0   \n",
       "22  20-12-2023  04:00:00             20        yzab12@gmail.com  198.51.100.0   \n",
       "23  21-12-2023  05:00:00             21        cdef34@gmail.com     192.0.2.0   \n",
       "24  22-12-2023  06:00:00             22        ghij56@gmail.com   203.0.113.0   \n",
       "25  23-12-2023  07:00:00             23        klmn78@gmail.com  198.51.100.0   \n",
       "26  24-12-2023  08:00:00             24        mnop90@gmail.com   203.0.113.0   \n",
       "27  25-12-2023  09:00:00             25        qrst12@gmail.com  198.51.100.0   \n",
       "28  26-12-2023  10:00:00             26        uvwx34@gmail.com     192.0.2.0   \n",
       "\n",
       "        Country ClaimedWin  PayoutAmount  \\\n",
       "0         India        yes          1000   \n",
       "1            Uk         no             0   \n",
       "2        Canada        yes         50000   \n",
       "3         china        yes          7700   \n",
       "4         kenya         no             0   \n",
       "5      pakistan        yes          5600   \n",
       "6     Australia         no             0   \n",
       "7        Canada        yes          2000   \n",
       "8         India         no             0   \n",
       "9           USA        yes          3000   \n",
       "10  Afghanistan         no             0   \n",
       "11   Argentina.        yes          4000   \n",
       "12     Malaysia         no             0   \n",
       "13      Nigeria        yes          5000   \n",
       "14    Australia         no             0   \n",
       "15       Mexico        yes          6000   \n",
       "16      Morocco         no             0   \n",
       "17        India        yes          7000   \n",
       "18          USA         no             0   \n",
       "19    Australia        yes          8000   \n",
       "20       Canada         no             0   \n",
       "21       Mexico        yes          9000   \n",
       "22      Morocco         no             0   \n",
       "23  Afghanistan        yes         10000   \n",
       "24    Australia         no             0   \n",
       "25     Malaysia        yes         11000   \n",
       "26          USA        yes         12000   \n",
       "27           UK         no             0   \n",
       "28        India        yes         13000   \n",
       "\n",
       "                                                Input  Fraud_Classification  \n",
       "0          Congratulations, you have won the lottery!                     0  \n",
       "1   You are a lottery winner! Contact us to claim ...                     0  \n",
       "2          Congratulations, you have won the lottery!                     1  \n",
       "3   Congratulations, you are a winner in our lotte...                     0  \n",
       "4                              Better luck next time.                     1  \n",
       "5                           You are the lucky winner!                     1  \n",
       "6                                Try again next time.                     1  \n",
       "7                             You've hit the jackpot!                     0  \n",
       "8                    Sorry, you didn't win this time.                     1  \n",
       "9                         Amazing, you won the prize!                     0  \n",
       "10                             Better luck next time.                     1  \n",
       "11                  Congratulations, you're a winner!                     0  \n",
       "12                     Unfortunately, you didn't win.                     1  \n",
       "13                     Great news, you won the prize!                     0  \n",
       "14                          Sorry, no luck this time.                     1  \n",
       "15                       Wow, you've won the lottery!                     0  \n",
       "16                             Better luck next time.                     1  \n",
       "17                   Congratulations, youre a winner!                     0  \n",
       "18                     Unfortunately, you didn't win.                     1  \n",
       "19                     Great news, you won the prize!                     0  \n",
       "20                          Sorry, no luck this time.                     1  \n",
       "21                  Congratulations, you're a winner!                     0  \n",
       "22                     Unfortunately, you didn't win.                     1  \n",
       "23                     Great news, you won the prize!                     0  \n",
       "24                          Sorry, no luck this time.                     1  \n",
       "25                       Wow, you've won the lottery!                     0  \n",
       "26                  Congratulations, you're a winner!                     0  \n",
       "27                     Unfortunately, you didn't win.                     1  \n",
       "28                     Great news, you won the prize!                     0  "
      ]
     },
     "execution_count": 52,
     "metadata": {},
     "output_type": "execute_result"
    }
   ],
   "source": [
    "import pandas as pd\n",
    "# Step 2: Collect Data\n",
    "# Assume you have a CSV file named 'lottery_data.csv'\n",
    "data = pd.read_csv(\"OneDrive/Desktop/python/sample1.csv\")\n",
    "data\n"
   ]
  },
  {
   "cell_type": "code",
   "execution_count": 53,
   "id": "b70f1d19-4e12-42d5-9d25-dbaa2d292eb0",
   "metadata": {
    "tags": []
   },
   "outputs": [
    {
     "name": "stdout",
     "output_type": "stream",
     "text": [
      "Index(['Date', 'Time', 'TransactionID', 'Email', 'IP_Address', 'ClaimedWin',\n",
      "       'PayoutAmount', 'Country_Argentina.', 'Country_Australia',\n",
      "       'Country_Canada', 'Country_India', 'Country_Malaysia', 'Country_Mexico',\n",
      "       'Country_Morocco', 'Country_Nigeria', 'Country_UK', 'Country_USA',\n",
      "       'Country_Uk', 'Country_china', 'Country_kenya', 'Country_pakistan'],\n",
      "      dtype='object')\n"
     ]
    }
   ],
   "source": [
    "print(X.columns)"
   ]
  },
  {
   "cell_type": "code",
   "execution_count": 54,
   "id": "dfb29e30-01ce-43c9-a288-2ed6c911b2d0",
   "metadata": {
    "tags": []
   },
   "outputs": [
    {
     "data": {
      "text/html": [
       "<div>\n",
       "<style scoped>\n",
       "    .dataframe tbody tr th:only-of-type {\n",
       "        vertical-align: middle;\n",
       "    }\n",
       "\n",
       "    .dataframe tbody tr th {\n",
       "        vertical-align: top;\n",
       "    }\n",
       "\n",
       "    .dataframe thead th {\n",
       "        text-align: right;\n",
       "    }\n",
       "</style>\n",
       "<table border=\"1\" class=\"dataframe\">\n",
       "  <thead>\n",
       "    <tr style=\"text-align: right;\">\n",
       "      <th></th>\n",
       "      <th>Date</th>\n",
       "      <th>Time</th>\n",
       "      <th>TransactionID</th>\n",
       "      <th>Email</th>\n",
       "      <th>IP_Address</th>\n",
       "      <th>ClaimedWin</th>\n",
       "      <th>PayoutAmount</th>\n",
       "      <th>Country_Argentina.</th>\n",
       "      <th>Country_Australia</th>\n",
       "      <th>Country_Canada</th>\n",
       "      <th>...</th>\n",
       "      <th>Country_Malaysia</th>\n",
       "      <th>Country_Mexico</th>\n",
       "      <th>Country_Morocco</th>\n",
       "      <th>Country_Nigeria</th>\n",
       "      <th>Country_UK</th>\n",
       "      <th>Country_USA</th>\n",
       "      <th>Country_Uk</th>\n",
       "      <th>Country_china</th>\n",
       "      <th>Country_kenya</th>\n",
       "      <th>Country_pakistan</th>\n",
       "    </tr>\n",
       "  </thead>\n",
       "  <tbody>\n",
       "    <tr>\n",
       "      <th>0</th>\n",
       "      <td>01-12-2023</td>\n",
       "      <td>09:00:00</td>\n",
       "      <td>1</td>\n",
       "      <td>abcd23@gmail.com</td>\n",
       "      <td>192.0.2.0</td>\n",
       "      <td>1</td>\n",
       "      <td>1000</td>\n",
       "      <td>0.0</td>\n",
       "      <td>0.0</td>\n",
       "      <td>0.0</td>\n",
       "      <td>...</td>\n",
       "      <td>0.0</td>\n",
       "      <td>0.0</td>\n",
       "      <td>0.0</td>\n",
       "      <td>0.0</td>\n",
       "      <td>0.0</td>\n",
       "      <td>0.0</td>\n",
       "      <td>0.0</td>\n",
       "      <td>0.0</td>\n",
       "      <td>0.0</td>\n",
       "      <td>0.0</td>\n",
       "    </tr>\n",
       "    <tr>\n",
       "      <th>1</th>\n",
       "      <td>01-07-2023</td>\n",
       "      <td>12:30:00</td>\n",
       "      <td>3</td>\n",
       "      <td>user@example.com</td>\n",
       "      <td>192.168.1.1</td>\n",
       "      <td>0</td>\n",
       "      <td>0</td>\n",
       "      <td>0.0</td>\n",
       "      <td>0.0</td>\n",
       "      <td>0.0</td>\n",
       "      <td>...</td>\n",
       "      <td>0.0</td>\n",
       "      <td>0.0</td>\n",
       "      <td>0.0</td>\n",
       "      <td>0.0</td>\n",
       "      <td>0.0</td>\n",
       "      <td>0.0</td>\n",
       "      <td>1.0</td>\n",
       "      <td>0.0</td>\n",
       "      <td>0.0</td>\n",
       "      <td>0.0</td>\n",
       "    </tr>\n",
       "    <tr>\n",
       "      <th>2</th>\n",
       "      <td>02-01-2021</td>\n",
       "      <td>14:45:00</td>\n",
       "      <td>4</td>\n",
       "      <td>john.doe@example.com</td>\n",
       "      <td>192.168.2.2</td>\n",
       "      <td>1</td>\n",
       "      <td>50000</td>\n",
       "      <td>0.0</td>\n",
       "      <td>0.0</td>\n",
       "      <td>1.0</td>\n",
       "      <td>...</td>\n",
       "      <td>0.0</td>\n",
       "      <td>0.0</td>\n",
       "      <td>0.0</td>\n",
       "      <td>0.0</td>\n",
       "      <td>0.0</td>\n",
       "      <td>0.0</td>\n",
       "      <td>0.0</td>\n",
       "      <td>0.0</td>\n",
       "      <td>0.0</td>\n",
       "      <td>0.0</td>\n",
       "    </tr>\n",
       "    <tr>\n",
       "      <th>3</th>\n",
       "      <td>03-01-2023</td>\n",
       "      <td>10:15:00</td>\n",
       "      <td>5</td>\n",
       "      <td>jane.smith@example.com</td>\n",
       "      <td>192.168.3.3</td>\n",
       "      <td>1</td>\n",
       "      <td>7700</td>\n",
       "      <td>0.0</td>\n",
       "      <td>0.0</td>\n",
       "      <td>0.0</td>\n",
       "      <td>...</td>\n",
       "      <td>0.0</td>\n",
       "      <td>0.0</td>\n",
       "      <td>0.0</td>\n",
       "      <td>0.0</td>\n",
       "      <td>0.0</td>\n",
       "      <td>0.0</td>\n",
       "      <td>0.0</td>\n",
       "      <td>1.0</td>\n",
       "      <td>0.0</td>\n",
       "      <td>0.0</td>\n",
       "    </tr>\n",
       "    <tr>\n",
       "      <th>4</th>\n",
       "      <td>02-10-2023</td>\n",
       "      <td>05:00:40</td>\n",
       "      <td>2</td>\n",
       "      <td>efgh45@gmail.com</td>\n",
       "      <td>203.0.113.0</td>\n",
       "      <td>0</td>\n",
       "      <td>0</td>\n",
       "      <td>0.0</td>\n",
       "      <td>0.0</td>\n",
       "      <td>0.0</td>\n",
       "      <td>...</td>\n",
       "      <td>0.0</td>\n",
       "      <td>0.0</td>\n",
       "      <td>0.0</td>\n",
       "      <td>0.0</td>\n",
       "      <td>0.0</td>\n",
       "      <td>0.0</td>\n",
       "      <td>0.0</td>\n",
       "      <td>0.0</td>\n",
       "      <td>1.0</td>\n",
       "      <td>0.0</td>\n",
       "    </tr>\n",
       "  </tbody>\n",
       "</table>\n",
       "<p>5 rows × 21 columns</p>\n",
       "</div>"
      ],
      "text/plain": [
       "         Date      Time  TransactionID                   Email   IP_Address  \\\n",
       "0  01-12-2023  09:00:00              1        abcd23@gmail.com    192.0.2.0   \n",
       "1  01-07-2023  12:30:00              3        user@example.com  192.168.1.1   \n",
       "2  02-01-2021  14:45:00              4    john.doe@example.com  192.168.2.2   \n",
       "3  03-01-2023  10:15:00              5  jane.smith@example.com  192.168.3.3   \n",
       "4  02-10-2023  05:00:40              2        efgh45@gmail.com  203.0.113.0   \n",
       "\n",
       "   ClaimedWin  PayoutAmount  Country_Argentina.  Country_Australia  \\\n",
       "0           1          1000                 0.0                0.0   \n",
       "1           0             0                 0.0                0.0   \n",
       "2           1         50000                 0.0                0.0   \n",
       "3           1          7700                 0.0                0.0   \n",
       "4           0             0                 0.0                0.0   \n",
       "\n",
       "   Country_Canada  ...  Country_Malaysia  Country_Mexico  Country_Morocco  \\\n",
       "0             0.0  ...               0.0             0.0              0.0   \n",
       "1             0.0  ...               0.0             0.0              0.0   \n",
       "2             1.0  ...               0.0             0.0              0.0   \n",
       "3             0.0  ...               0.0             0.0              0.0   \n",
       "4             0.0  ...               0.0             0.0              0.0   \n",
       "\n",
       "   Country_Nigeria  Country_UK  Country_USA  Country_Uk  Country_china  \\\n",
       "0              0.0         0.0          0.0         0.0            0.0   \n",
       "1              0.0         0.0          0.0         1.0            0.0   \n",
       "2              0.0         0.0          0.0         0.0            0.0   \n",
       "3              0.0         0.0          0.0         0.0            1.0   \n",
       "4              0.0         0.0          0.0         0.0            0.0   \n",
       "\n",
       "   Country_kenya  Country_pakistan  \n",
       "0            0.0               0.0  \n",
       "1            0.0               0.0  \n",
       "2            0.0               0.0  \n",
       "3            0.0               0.0  \n",
       "4            1.0               0.0  \n",
       "\n",
       "[5 rows x 21 columns]"
      ]
     },
     "execution_count": 54,
     "metadata": {},
     "output_type": "execute_result"
    }
   ],
   "source": [
    "# X: Features (independent variables)\n",
    "X.head()  # Display the first few rows of X for inspectio"
   ]
  },
  {
   "cell_type": "code",
   "execution_count": 14,
   "id": "8892aabb-d93c-45e5-9e85-84aa7a28f83b",
   "metadata": {
    "tags": []
   },
   "outputs": [
    {
     "data": {
      "text/plain": [
       "0    0\n",
       "1    0\n",
       "2    1\n",
       "3    0\n",
       "4    1\n",
       "Name: Fraud_Classification, dtype: int64"
      ]
     },
     "execution_count": 14,
     "metadata": {},
     "output_type": "execute_result"
    }
   ],
   "source": [
    "y.head()"
   ]
  },
  {
   "cell_type": "code",
   "execution_count": 55,
   "id": "ea7d1524-c2e7-415e-afe1-65296e7d1514",
   "metadata": {
    "tags": []
   },
   "outputs": [
    {
     "ename": "KeyError",
     "evalue": "'Country'",
     "output_type": "error",
     "traceback": [
      "\u001b[1;31m---------------------------------------------------------------------------\u001b[0m",
      "\u001b[1;31mKeyError\u001b[0m                                  Traceback (most recent call last)",
      "File \u001b[1;32m~\\anaconda3\\Lib\\site-packages\\pandas\\core\\indexes\\base.py:3653\u001b[0m, in \u001b[0;36mIndex.get_loc\u001b[1;34m(self, key)\u001b[0m\n\u001b[0;32m   3652\u001b[0m \u001b[38;5;28;01mtry\u001b[39;00m:\n\u001b[1;32m-> 3653\u001b[0m     \u001b[38;5;28;01mreturn\u001b[39;00m \u001b[38;5;28mself\u001b[39m\u001b[38;5;241m.\u001b[39m_engine\u001b[38;5;241m.\u001b[39mget_loc(casted_key)\n\u001b[0;32m   3654\u001b[0m \u001b[38;5;28;01mexcept\u001b[39;00m \u001b[38;5;167;01mKeyError\u001b[39;00m \u001b[38;5;28;01mas\u001b[39;00m err:\n",
      "File \u001b[1;32m~\\anaconda3\\Lib\\site-packages\\pandas\\_libs\\index.pyx:147\u001b[0m, in \u001b[0;36mpandas._libs.index.IndexEngine.get_loc\u001b[1;34m()\u001b[0m\n",
      "File \u001b[1;32m~\\anaconda3\\Lib\\site-packages\\pandas\\_libs\\index.pyx:176\u001b[0m, in \u001b[0;36mpandas._libs.index.IndexEngine.get_loc\u001b[1;34m()\u001b[0m\n",
      "File \u001b[1;32mpandas\\_libs\\hashtable_class_helper.pxi:7080\u001b[0m, in \u001b[0;36mpandas._libs.hashtable.PyObjectHashTable.get_item\u001b[1;34m()\u001b[0m\n",
      "File \u001b[1;32mpandas\\_libs\\hashtable_class_helper.pxi:7088\u001b[0m, in \u001b[0;36mpandas._libs.hashtable.PyObjectHashTable.get_item\u001b[1;34m()\u001b[0m\n",
      "\u001b[1;31mKeyError\u001b[0m: 'Country'",
      "\nThe above exception was the direct cause of the following exception:\n",
      "\u001b[1;31mKeyError\u001b[0m                                  Traceback (most recent call last)",
      "Cell \u001b[1;32mIn[55], line 2\u001b[0m\n\u001b[0;32m      1\u001b[0m \u001b[38;5;66;03m# Check the unique values in the 'Country' column before encoding\u001b[39;00m\n\u001b[1;32m----> 2\u001b[0m \u001b[38;5;28mprint\u001b[39m(\u001b[38;5;124m\"\u001b[39m\u001b[38;5;124mUnique values in \u001b[39m\u001b[38;5;124m'\u001b[39m\u001b[38;5;124mCountry\u001b[39m\u001b[38;5;124m'\u001b[39m\u001b[38;5;124m column before encoding:\u001b[39m\u001b[38;5;124m\"\u001b[39m, X[\u001b[38;5;124m'\u001b[39m\u001b[38;5;124mCountry\u001b[39m\u001b[38;5;124m'\u001b[39m]\u001b[38;5;241m.\u001b[39munique())\n\u001b[0;32m      4\u001b[0m \u001b[38;5;66;03m# Encode nominal categorical variables using OneHotEncoder\u001b[39;00m\n\u001b[0;32m      5\u001b[0m \u001b[38;5;28;01mfrom\u001b[39;00m \u001b[38;5;21;01msklearn\u001b[39;00m\u001b[38;5;21;01m.\u001b[39;00m\u001b[38;5;21;01mpreprocessing\u001b[39;00m \u001b[38;5;28;01mimport\u001b[39;00m OneHotEncoder\n",
      "File \u001b[1;32m~\\anaconda3\\Lib\\site-packages\\pandas\\core\\frame.py:3761\u001b[0m, in \u001b[0;36mDataFrame.__getitem__\u001b[1;34m(self, key)\u001b[0m\n\u001b[0;32m   3759\u001b[0m \u001b[38;5;28;01mif\u001b[39;00m \u001b[38;5;28mself\u001b[39m\u001b[38;5;241m.\u001b[39mcolumns\u001b[38;5;241m.\u001b[39mnlevels \u001b[38;5;241m>\u001b[39m \u001b[38;5;241m1\u001b[39m:\n\u001b[0;32m   3760\u001b[0m     \u001b[38;5;28;01mreturn\u001b[39;00m \u001b[38;5;28mself\u001b[39m\u001b[38;5;241m.\u001b[39m_getitem_multilevel(key)\n\u001b[1;32m-> 3761\u001b[0m indexer \u001b[38;5;241m=\u001b[39m \u001b[38;5;28mself\u001b[39m\u001b[38;5;241m.\u001b[39mcolumns\u001b[38;5;241m.\u001b[39mget_loc(key)\n\u001b[0;32m   3762\u001b[0m \u001b[38;5;28;01mif\u001b[39;00m is_integer(indexer):\n\u001b[0;32m   3763\u001b[0m     indexer \u001b[38;5;241m=\u001b[39m [indexer]\n",
      "File \u001b[1;32m~\\anaconda3\\Lib\\site-packages\\pandas\\core\\indexes\\base.py:3655\u001b[0m, in \u001b[0;36mIndex.get_loc\u001b[1;34m(self, key)\u001b[0m\n\u001b[0;32m   3653\u001b[0m     \u001b[38;5;28;01mreturn\u001b[39;00m \u001b[38;5;28mself\u001b[39m\u001b[38;5;241m.\u001b[39m_engine\u001b[38;5;241m.\u001b[39mget_loc(casted_key)\n\u001b[0;32m   3654\u001b[0m \u001b[38;5;28;01mexcept\u001b[39;00m \u001b[38;5;167;01mKeyError\u001b[39;00m \u001b[38;5;28;01mas\u001b[39;00m err:\n\u001b[1;32m-> 3655\u001b[0m     \u001b[38;5;28;01mraise\u001b[39;00m \u001b[38;5;167;01mKeyError\u001b[39;00m(key) \u001b[38;5;28;01mfrom\u001b[39;00m \u001b[38;5;21;01merr\u001b[39;00m\n\u001b[0;32m   3656\u001b[0m \u001b[38;5;28;01mexcept\u001b[39;00m \u001b[38;5;167;01mTypeError\u001b[39;00m:\n\u001b[0;32m   3657\u001b[0m     \u001b[38;5;66;03m# If we have a listlike key, _check_indexing_error will raise\u001b[39;00m\n\u001b[0;32m   3658\u001b[0m     \u001b[38;5;66;03m#  InvalidIndexError. Otherwise we fall through and re-raise\u001b[39;00m\n\u001b[0;32m   3659\u001b[0m     \u001b[38;5;66;03m#  the TypeError.\u001b[39;00m\n\u001b[0;32m   3660\u001b[0m     \u001b[38;5;28mself\u001b[39m\u001b[38;5;241m.\u001b[39m_check_indexing_error(key)\n",
      "\u001b[1;31mKeyError\u001b[0m: 'Country'"
     ]
    }
   ],
   "source": [
    "# Check the unique values in the 'Country' column before encoding\n",
    "print(\"Unique values in 'Country' column before encoding:\", X['Country'].unique())\n",
    "\n",
    "# Encode nominal categorical variables using OneHotEncoder\n",
    "from sklearn.preprocessing import OneHotEncoder\n",
    "\n",
    "# Assuming `nominal_columns` is a list of column names that are nominal\n",
    "nominal_columns = ['Country']  # Include other nominal columns as needed\n",
    "\n",
    "# Exclude 'ClaimedWin' from one-hot encoding\n",
    "nominal_columns_for_encoding = [col for col in nominal_columns if col != 'ClaimedWin']\n",
    "\n",
    "one_hot_encoder = OneHotEncoder(sparse=False, drop='first')  # 'sparse=False' returns a dense array, 'drop' removes the first column to avoid multicollinearity\n",
    "\n",
    "# Apply one-hot encoding to the nominal columns (excluding 'ClaimedWin')\n",
    "X_encoded = one_hot_encoder.fit_transform(X[nominal_columns_for_encoding])\n",
    "\n",
    "# Concatenate the encoded categorical features with the original DataFrame\n",
    "X = pd.concat([X, pd.DataFrame(X_encoded, columns=one_hot_encoder.get_feature_names_out(nominal_columns_for_encoding))], axis=1)\n",
    "\n",
    "# Drop the original nominal columns (excluding 'ClaimedWin') as they are no longer needed\n",
    "X = X.drop(nominal_columns_for_encoding, axis=1)\n",
    "\n",
    "# Print the unique values in the 'Country' column after encoding\n",
    "print(\"Unique values in 'Country' column after encoding:\", X.filter(like='Country_').sum())\n",
    "\n",
    "# Convert the 'fraud_classification' column to numerical values (0 and 1)\n",
    "y = X['fraud_classification'].astype(int)\n",
    "\n",
    "# Drop the original 'fraud_classification' column from the features\n",
    "X = X.drop('fraud_classification', axis=1)\n",
    "\n",
    "# Now, X contains the features, and y contains the target variable\n"
   ]
  },
  {
   "cell_type": "code",
   "execution_count": 56,
   "id": "7b514bfd-edbc-47d6-8546-dbabd24ad502",
   "metadata": {
    "tags": []
   },
   "outputs": [
    {
     "name": "stdout",
     "output_type": "stream",
     "text": [
      "Column names in the DataFrame: Index(['Date', 'Time', 'TransactionID', 'Email', 'IP_Address', 'ClaimedWin',\n",
      "       'PayoutAmount', 'Country_Argentina.', 'Country_Australia',\n",
      "       'Country_Canada', 'Country_India', 'Country_Malaysia', 'Country_Mexico',\n",
      "       'Country_Morocco', 'Country_Nigeria', 'Country_UK', 'Country_USA',\n",
      "       'Country_Uk', 'Country_china', 'Country_kenya', 'Country_pakistan'],\n",
      "      dtype='object')\n"
     ]
    }
   ],
   "source": [
    "print(\"Column names in the DataFrame:\", X.columns)\n"
   ]
  },
  {
   "cell_type": "code",
   "execution_count": 57,
   "id": "f62d55c6-d0d6-4d9f-aa71-04a4f98a2831",
   "metadata": {
    "tags": []
   },
   "outputs": [],
   "source": [
    "from sklearn.model_selection import train_test_split\n",
    "\n",
    "# Assuming you have already defined X and y\n",
    "X_train, X_test, y_train, y_test = train_test_split(X, y, test_size=0.2, random_state=42)\n"
   ]
  },
  {
   "cell_type": "code",
   "execution_count": 58,
   "id": "05a796ec-0fad-498a-95f1-1d263c82d9e5",
   "metadata": {
    "tags": []
   },
   "outputs": [
    {
     "name": "stdout",
     "output_type": "stream",
     "text": [
      "Shape of X_train: (23, 21)\n",
      "Shape of X_test: (6, 21)\n",
      "Shape of y_train: (23,)\n",
      "Shape of y_test: (6,)\n"
     ]
    }
   ],
   "source": [
    "print(\"Shape of X_train:\", X_train.shape)\n",
    "print(\"Shape of X_test:\", X_test.shape)\n",
    "print(\"Shape of y_train:\", y_train.shape)\n",
    "print(\"Shape of y_test:\", y_test.shape)\n"
   ]
  },
  {
   "cell_type": "code",
   "execution_count": 69,
   "id": "5cb79a26-a889-4b0b-b2d9-2b6c168dbb5e",
   "metadata": {
    "tags": []
   },
   "outputs": [],
   "source": [
    "# Assuming 'DateColumn' is the column containing the date\n",
    "data['Date'] = pd.to_datetime(data['Date'], errors='coerce')\n"
   ]
  },
  {
   "cell_type": "code",
   "execution_count": 70,
   "id": "07a077ad-0795-4ca8-9cec-b8709905b972",
   "metadata": {
    "tags": []
   },
   "outputs": [],
   "source": [
    "\n",
    "# Extract domain from email addresses\n",
    "data['EmailDomain'] = data['Email'].str.split('@').str[1]"
   ]
  },
  {
   "cell_type": "code",
   "execution_count": 71,
   "id": "85a6421d-f338-42ff-ac3b-f570e6af9129",
   "metadata": {
    "tags": []
   },
   "outputs": [],
   "source": [
    "# Assuming 'EmailDomain' is the new column\n",
    "data_encoded = pd.get_dummies(data, columns=['EmailDomain'])\n"
   ]
  },
  {
   "cell_type": "code",
   "execution_count": 72,
   "id": "8755f469-efb5-4212-a079-88f0a0a4711c",
   "metadata": {
    "tags": []
   },
   "outputs": [],
   "source": [
    "def ip_to_numeric(ip):\n",
    "    parts = ip.split('.')\n",
    "    return int(parts[0]) * 256 ** 3 + int(parts[1]) * 256 ** 2 + int(parts[2]) * 256 + int(parts[3])\n",
    "\n",
    "data['NumericIP'] = data['IP_Address'].apply(ip_to_numeric)\n",
    "\n"
   ]
  },
  {
   "cell_type": "code",
   "execution_count": 73,
   "id": "a15f0193-16e1-44a5-87a7-27ee937c6027",
   "metadata": {
    "tags": []
   },
   "outputs": [],
   "source": [
    "from sklearn.preprocessing import StandardScaler\n",
    "\n",
    "scaler = StandardScaler()\n",
    "data['NormalizedIP'] = scaler.fit_transform(data[['NumericIP']])"
   ]
  },
  {
   "cell_type": "code",
   "execution_count": 67,
   "id": "30c8a4da-aa17-410e-8ba1-8506e68feebc",
   "metadata": {
    "tags": []
   },
   "outputs": [
    {
     "name": "stdout",
     "output_type": "stream",
     "text": [
      "Index(['Date', 'Time', 'TransactionID', 'Email', 'IP_Address', 'Country',\n",
      "       'ClaimedWin', 'PayoutAmount', 'Input', 'Fraud_Classification',\n",
      "       'EmailDomain', 'NumericIP', 'NormalizedIP'],\n",
      "      dtype='object')\n"
     ]
    }
   ],
   "source": [
    "print(data.columns)\n"
   ]
  },
  {
   "cell_type": "code",
   "execution_count": 68,
   "id": "abe52ef7-25e9-4751-84a2-6fcb4c3e0856",
   "metadata": {
    "tags": []
   },
   "outputs": [
    {
     "name": "stdout",
     "output_type": "stream",
     "text": [
      "Date                    14\n",
      "Time                     0\n",
      "TransactionID            0\n",
      "Email                    0\n",
      "IP_Address               0\n",
      "Country                  0\n",
      "ClaimedWin               0\n",
      "PayoutAmount             0\n",
      "Input                    0\n",
      "Fraud_Classification     0\n",
      "EmailDomain              0\n",
      "NumericIP                0\n",
      "NormalizedIP             0\n",
      "dtype: int64\n"
     ]
    }
   ],
   "source": [
    "print(data.isnull().sum())\n"
   ]
  },
  {
   "cell_type": "code",
   "execution_count": 74,
   "id": "7ede3e99-7ac4-4f3c-b5ad-b2248c198607",
   "metadata": {
    "tags": []
   },
   "outputs": [
    {
     "name": "stdout",
     "output_type": "stream",
     "text": [
      "Date                    datetime64[ns]\n",
      "Time                            object\n",
      "TransactionID                    int64\n",
      "Email                           object\n",
      "IP_Address                      object\n",
      "Country                         object\n",
      "ClaimedWin                      object\n",
      "PayoutAmount                     int64\n",
      "Input                           object\n",
      "Fraud_Classification             int64\n",
      "EmailDomain                     object\n",
      "NumericIP                        int64\n",
      "NormalizedIP                   float64\n",
      "dtype: object\n"
     ]
    }
   ],
   "source": [
    "print(data.dtypes)\n"
   ]
  },
  {
   "cell_type": "code",
   "execution_count": 75,
   "id": "bd225a24-363c-46ee-932d-24a730b3e5fb",
   "metadata": {
    "tags": []
   },
   "outputs": [],
   "source": [
    "data['Date'] = pd.to_datetime(data['Date'], errors='coerce')\n"
   ]
  },
  {
   "cell_type": "code",
   "execution_count": 76,
   "id": "e11b2419-3ac0-4e06-a7ba-efe1c29313e8",
   "metadata": {
    "tags": []
   },
   "outputs": [],
   "source": [
    "\n",
    "# Example: Convert 'ColumnWithStrings' to numeric\n",
    "data['Date'] = pd.to_numeric(data['Date'], errors='coerce')\n"
   ]
  },
  {
   "cell_type": "code",
   "execution_count": 77,
   "id": "15713c4c-c4b6-4242-8bb8-d8a29c40b765",
   "metadata": {
    "tags": []
   },
   "outputs": [
    {
     "name": "stdout",
     "output_type": "stream",
     "text": [
      "Date                    0\n",
      "Time                    0\n",
      "TransactionID           0\n",
      "Email                   0\n",
      "IP_Address              0\n",
      "Country                 0\n",
      "ClaimedWin              0\n",
      "PayoutAmount            0\n",
      "Input                   0\n",
      "Fraud_Classification    0\n",
      "EmailDomain             0\n",
      "NumericIP               0\n",
      "NormalizedIP            0\n",
      "dtype: int64\n"
     ]
    }
   ],
   "source": [
    "print(data.isnull().sum())"
   ]
  },
  {
   "cell_type": "code",
   "execution_count": 90,
   "id": "3f21b954-a4f0-4457-94b4-022d3be05cf7",
   "metadata": {
    "tags": []
   },
   "outputs": [
    {
     "name": "stdout",
     "output_type": "stream",
     "text": [
      "1900-01-01 09:00:00\n"
     ]
    }
   ],
   "source": [
    "import pandas as pd\n",
    "\n",
    "# Example of converting time data with the correct format\n",
    "time_data = \"09:00:00\"\n",
    "parsed_time = pd.to_datetime(time_data, format=\"%H:%M:%S\")\n",
    "print(parsed_time)\n"
   ]
  },
  {
   "cell_type": "code",
   "execution_count": 85,
   "id": "cfa1da41-41c7-4166-aa50-20073def2db8",
   "metadata": {
    "tags": []
   },
   "outputs": [],
   "source": [
    "X_train, X_test, y_train, y_test = train_test_split(X, y, test_size=0.2, random_state=42)\n"
   ]
  },
  {
   "cell_type": "code",
   "execution_count": 86,
   "id": "9470dee4-7c2b-4577-a26d-ddc2e265d7d7",
   "metadata": {
    "tags": []
   },
   "outputs": [
    {
     "data": {
      "text/html": [
       "<div>\n",
       "<style scoped>\n",
       "    .dataframe tbody tr th:only-of-type {\n",
       "        vertical-align: middle;\n",
       "    }\n",
       "\n",
       "    .dataframe tbody tr th {\n",
       "        vertical-align: top;\n",
       "    }\n",
       "\n",
       "    .dataframe thead th {\n",
       "        text-align: right;\n",
       "    }\n",
       "</style>\n",
       "<table border=\"1\" class=\"dataframe\">\n",
       "  <thead>\n",
       "    <tr style=\"text-align: right;\">\n",
       "      <th></th>\n",
       "      <th>Date</th>\n",
       "      <th>Time</th>\n",
       "      <th>TransactionID</th>\n",
       "      <th>Email</th>\n",
       "      <th>IP_Address</th>\n",
       "      <th>ClaimedWin</th>\n",
       "      <th>PayoutAmount</th>\n",
       "      <th>Country_Argentina.</th>\n",
       "      <th>Country_Australia</th>\n",
       "      <th>Country_Canada</th>\n",
       "      <th>...</th>\n",
       "      <th>Country_Malaysia</th>\n",
       "      <th>Country_Mexico</th>\n",
       "      <th>Country_Morocco</th>\n",
       "      <th>Country_Nigeria</th>\n",
       "      <th>Country_UK</th>\n",
       "      <th>Country_USA</th>\n",
       "      <th>Country_Uk</th>\n",
       "      <th>Country_china</th>\n",
       "      <th>Country_kenya</th>\n",
       "      <th>Country_pakistan</th>\n",
       "    </tr>\n",
       "  </thead>\n",
       "  <tbody>\n",
       "    <tr>\n",
       "      <th>0</th>\n",
       "      <td>01-12-2023</td>\n",
       "      <td>09:00:00</td>\n",
       "      <td>1</td>\n",
       "      <td>abcd23@gmail.com</td>\n",
       "      <td>192.0.2.0</td>\n",
       "      <td>1</td>\n",
       "      <td>1000</td>\n",
       "      <td>0.0</td>\n",
       "      <td>0.0</td>\n",
       "      <td>0.0</td>\n",
       "      <td>...</td>\n",
       "      <td>0.0</td>\n",
       "      <td>0.0</td>\n",
       "      <td>0.0</td>\n",
       "      <td>0.0</td>\n",
       "      <td>0.0</td>\n",
       "      <td>0.0</td>\n",
       "      <td>0.0</td>\n",
       "      <td>0.0</td>\n",
       "      <td>0.0</td>\n",
       "      <td>0.0</td>\n",
       "    </tr>\n",
       "    <tr>\n",
       "      <th>1</th>\n",
       "      <td>01-07-2023</td>\n",
       "      <td>12:30:00</td>\n",
       "      <td>3</td>\n",
       "      <td>user@example.com</td>\n",
       "      <td>192.168.1.1</td>\n",
       "      <td>0</td>\n",
       "      <td>0</td>\n",
       "      <td>0.0</td>\n",
       "      <td>0.0</td>\n",
       "      <td>0.0</td>\n",
       "      <td>...</td>\n",
       "      <td>0.0</td>\n",
       "      <td>0.0</td>\n",
       "      <td>0.0</td>\n",
       "      <td>0.0</td>\n",
       "      <td>0.0</td>\n",
       "      <td>0.0</td>\n",
       "      <td>1.0</td>\n",
       "      <td>0.0</td>\n",
       "      <td>0.0</td>\n",
       "      <td>0.0</td>\n",
       "    </tr>\n",
       "    <tr>\n",
       "      <th>2</th>\n",
       "      <td>02-01-2021</td>\n",
       "      <td>14:45:00</td>\n",
       "      <td>4</td>\n",
       "      <td>john.doe@example.com</td>\n",
       "      <td>192.168.2.2</td>\n",
       "      <td>1</td>\n",
       "      <td>50000</td>\n",
       "      <td>0.0</td>\n",
       "      <td>0.0</td>\n",
       "      <td>1.0</td>\n",
       "      <td>...</td>\n",
       "      <td>0.0</td>\n",
       "      <td>0.0</td>\n",
       "      <td>0.0</td>\n",
       "      <td>0.0</td>\n",
       "      <td>0.0</td>\n",
       "      <td>0.0</td>\n",
       "      <td>0.0</td>\n",
       "      <td>0.0</td>\n",
       "      <td>0.0</td>\n",
       "      <td>0.0</td>\n",
       "    </tr>\n",
       "    <tr>\n",
       "      <th>3</th>\n",
       "      <td>03-01-2023</td>\n",
       "      <td>10:15:00</td>\n",
       "      <td>5</td>\n",
       "      <td>jane.smith@example.com</td>\n",
       "      <td>192.168.3.3</td>\n",
       "      <td>1</td>\n",
       "      <td>7700</td>\n",
       "      <td>0.0</td>\n",
       "      <td>0.0</td>\n",
       "      <td>0.0</td>\n",
       "      <td>...</td>\n",
       "      <td>0.0</td>\n",
       "      <td>0.0</td>\n",
       "      <td>0.0</td>\n",
       "      <td>0.0</td>\n",
       "      <td>0.0</td>\n",
       "      <td>0.0</td>\n",
       "      <td>0.0</td>\n",
       "      <td>1.0</td>\n",
       "      <td>0.0</td>\n",
       "      <td>0.0</td>\n",
       "    </tr>\n",
       "    <tr>\n",
       "      <th>4</th>\n",
       "      <td>02-10-2023</td>\n",
       "      <td>05:00:40</td>\n",
       "      <td>2</td>\n",
       "      <td>efgh45@gmail.com</td>\n",
       "      <td>203.0.113.0</td>\n",
       "      <td>0</td>\n",
       "      <td>0</td>\n",
       "      <td>0.0</td>\n",
       "      <td>0.0</td>\n",
       "      <td>0.0</td>\n",
       "      <td>...</td>\n",
       "      <td>0.0</td>\n",
       "      <td>0.0</td>\n",
       "      <td>0.0</td>\n",
       "      <td>0.0</td>\n",
       "      <td>0.0</td>\n",
       "      <td>0.0</td>\n",
       "      <td>0.0</td>\n",
       "      <td>0.0</td>\n",
       "      <td>1.0</td>\n",
       "      <td>0.0</td>\n",
       "    </tr>\n",
       "  </tbody>\n",
       "</table>\n",
       "<p>5 rows × 21 columns</p>\n",
       "</div>"
      ],
      "text/plain": [
       "         Date      Time  TransactionID                   Email   IP_Address  \\\n",
       "0  01-12-2023  09:00:00              1        abcd23@gmail.com    192.0.2.0   \n",
       "1  01-07-2023  12:30:00              3        user@example.com  192.168.1.1   \n",
       "2  02-01-2021  14:45:00              4    john.doe@example.com  192.168.2.2   \n",
       "3  03-01-2023  10:15:00              5  jane.smith@example.com  192.168.3.3   \n",
       "4  02-10-2023  05:00:40              2        efgh45@gmail.com  203.0.113.0   \n",
       "\n",
       "   ClaimedWin  PayoutAmount  Country_Argentina.  Country_Australia  \\\n",
       "0           1          1000                 0.0                0.0   \n",
       "1           0             0                 0.0                0.0   \n",
       "2           1         50000                 0.0                0.0   \n",
       "3           1          7700                 0.0                0.0   \n",
       "4           0             0                 0.0                0.0   \n",
       "\n",
       "   Country_Canada  ...  Country_Malaysia  Country_Mexico  Country_Morocco  \\\n",
       "0             0.0  ...               0.0             0.0              0.0   \n",
       "1             0.0  ...               0.0             0.0              0.0   \n",
       "2             1.0  ...               0.0             0.0              0.0   \n",
       "3             0.0  ...               0.0             0.0              0.0   \n",
       "4             0.0  ...               0.0             0.0              0.0   \n",
       "\n",
       "   Country_Nigeria  Country_UK  Country_USA  Country_Uk  Country_china  \\\n",
       "0              0.0         0.0          0.0         0.0            0.0   \n",
       "1              0.0         0.0          0.0         1.0            0.0   \n",
       "2              0.0         0.0          0.0         0.0            0.0   \n",
       "3              0.0         0.0          0.0         0.0            1.0   \n",
       "4              0.0         0.0          0.0         0.0            0.0   \n",
       "\n",
       "   Country_kenya  Country_pakistan  \n",
       "0            0.0               0.0  \n",
       "1            0.0               0.0  \n",
       "2            0.0               0.0  \n",
       "3            0.0               0.0  \n",
       "4            1.0               0.0  \n",
       "\n",
       "[5 rows x 21 columns]"
      ]
     },
     "execution_count": 86,
     "metadata": {},
     "output_type": "execute_result"
    }
   ],
   "source": [
    "# X: Features (independent variables)\n",
    "X.head()  # Display the first few rows of X for inspectio"
   ]
  },
  {
   "cell_type": "code",
   "execution_count": 87,
   "id": "1d9eda87-baa1-4364-8ec8-cb5eff8ba28e",
   "metadata": {
    "tags": []
   },
   "outputs": [
    {
     "data": {
      "text/plain": [
       "0    0\n",
       "1    0\n",
       "2    1\n",
       "3    0\n",
       "4    1\n",
       "Name: Fraud_Classification, dtype: int64"
      ]
     },
     "execution_count": 87,
     "metadata": {},
     "output_type": "execute_result"
    }
   ],
   "source": [
    "y.head()"
   ]
  },
  {
   "cell_type": "code",
   "execution_count": 36,
   "id": "1bc276a6-9340-46c4-9808-a87a0e7f3dd3",
   "metadata": {
    "tags": []
   },
   "outputs": [],
   "source": [
    "data['Date'] = pd.to_datetime(data['Date'], errors='coerce')\n",
    "\n"
   ]
  },
  {
   "cell_type": "code",
   "execution_count": 37,
   "id": "0fee0a1c-85c5-49cf-a690-97abf2305da8",
   "metadata": {
    "tags": []
   },
   "outputs": [],
   "source": [
    "# Example: Convert 'ColumnWithStrings' to numeric\n",
    "data['Date'] = pd.to_numeric(data['Date'], errors='coerce')\n"
   ]
  },
  {
   "cell_type": "code",
   "execution_count": 38,
   "id": "fe830a2b-82ca-48cf-be09-1c872f56ac4a",
   "metadata": {
    "tags": []
   },
   "outputs": [
    {
     "name": "stdout",
     "output_type": "stream",
     "text": [
      "Date                    0\n",
      "Time                    0\n",
      "TransactionID           0\n",
      "Email                   0\n",
      "IP_Address              0\n",
      "Country                 0\n",
      "ClaimedWin              0\n",
      "PayoutAmount            0\n",
      "Input                   0\n",
      "Fraud_Classification    0\n",
      "EmailDomain             0\n",
      "NumericIP               0\n",
      "NormalizedIP            0\n",
      "dtype: int64\n"
     ]
    }
   ],
   "source": [
    "print(data.isnull().sum())\n"
   ]
  },
  {
   "cell_type": "code",
   "execution_count": 88,
   "id": "b9a621f8-b8dd-4e8d-b63d-9ed58ee22b78",
   "metadata": {
    "tags": []
   },
   "outputs": [
    {
     "name": "stdout",
     "output_type": "stream",
     "text": [
      "Date                      int64\n",
      "Time                     object\n",
      "TransactionID             int64\n",
      "Email                    object\n",
      "IP_Address               object\n",
      "Country                  object\n",
      "ClaimedWin               object\n",
      "PayoutAmount              int64\n",
      "Input                    object\n",
      "Fraud_Classification      int64\n",
      "EmailDomain              object\n",
      "NumericIP                 int64\n",
      "NormalizedIP            float64\n",
      "dtype: object\n"
     ]
    }
   ],
   "source": [
    "print(data.dtypes)\n"
   ]
  },
  {
   "cell_type": "code",
   "execution_count": null,
   "id": "2442292c-10b4-40ad-a114-0669704feaf1",
   "metadata": {
    "tags": []
   },
   "outputs": [],
   "source": []
  },
  {
   "cell_type": "code",
   "execution_count": 89,
   "id": "d80c8a77-5198-4d0d-8212-44696300c589",
   "metadata": {
    "tags": []
   },
   "outputs": [
    {
     "ename": "ValueError",
     "evalue": "time data \"09:00:00\" doesn't match format \"%Y-%m-%d %H:%M:%S\", at position 0. You might want to try:\n    - passing `format` if your strings have a consistent format;\n    - passing `format='ISO8601'` if your strings are all ISO8601 but not necessarily in exactly the same format;\n    - passing `format='mixed'`, and the format will be inferred for each element individually. You might want to use `dayfirst` alongside this.",
     "output_type": "error",
     "traceback": [
      "\u001b[1;31m---------------------------------------------------------------------------\u001b[0m",
      "\u001b[1;31mValueError\u001b[0m                                Traceback (most recent call last)",
      "Cell \u001b[1;32mIn[89], line 1\u001b[0m\n\u001b[1;32m----> 1\u001b[0m data[\u001b[38;5;124m'\u001b[39m\u001b[38;5;124mTime\u001b[39m\u001b[38;5;124m'\u001b[39m] \u001b[38;5;241m=\u001b[39m pd\u001b[38;5;241m.\u001b[39mto_datetime(data[\u001b[38;5;124m'\u001b[39m\u001b[38;5;124mTime\u001b[39m\u001b[38;5;124m'\u001b[39m], \u001b[38;5;28mformat\u001b[39m\u001b[38;5;241m=\u001b[39m\u001b[38;5;124m'\u001b[39m\u001b[38;5;124m%\u001b[39m\u001b[38;5;124mY-\u001b[39m\u001b[38;5;124m%\u001b[39m\u001b[38;5;124mm-\u001b[39m\u001b[38;5;132;01m%d\u001b[39;00m\u001b[38;5;124m \u001b[39m\u001b[38;5;124m%\u001b[39m\u001b[38;5;124mH:\u001b[39m\u001b[38;5;124m%\u001b[39m\u001b[38;5;124mM:\u001b[39m\u001b[38;5;124m%\u001b[39m\u001b[38;5;124mS\u001b[39m\u001b[38;5;124m'\u001b[39m)\n",
      "File \u001b[1;32m~\\anaconda3\\Lib\\site-packages\\pandas\\core\\tools\\datetimes.py:1050\u001b[0m, in \u001b[0;36mto_datetime\u001b[1;34m(arg, errors, dayfirst, yearfirst, utc, format, exact, unit, infer_datetime_format, origin, cache)\u001b[0m\n\u001b[0;32m   1048\u001b[0m         result \u001b[38;5;241m=\u001b[39m arg\u001b[38;5;241m.\u001b[39mmap(cache_array)\n\u001b[0;32m   1049\u001b[0m     \u001b[38;5;28;01melse\u001b[39;00m:\n\u001b[1;32m-> 1050\u001b[0m         values \u001b[38;5;241m=\u001b[39m convert_listlike(arg\u001b[38;5;241m.\u001b[39m_values, \u001b[38;5;28mformat\u001b[39m)\n\u001b[0;32m   1051\u001b[0m         result \u001b[38;5;241m=\u001b[39m arg\u001b[38;5;241m.\u001b[39m_constructor(values, index\u001b[38;5;241m=\u001b[39marg\u001b[38;5;241m.\u001b[39mindex, name\u001b[38;5;241m=\u001b[39marg\u001b[38;5;241m.\u001b[39mname)\n\u001b[0;32m   1052\u001b[0m \u001b[38;5;28;01melif\u001b[39;00m \u001b[38;5;28misinstance\u001b[39m(arg, (ABCDataFrame, abc\u001b[38;5;241m.\u001b[39mMutableMapping)):\n",
      "File \u001b[1;32m~\\anaconda3\\Lib\\site-packages\\pandas\\core\\tools\\datetimes.py:453\u001b[0m, in \u001b[0;36m_convert_listlike_datetimes\u001b[1;34m(arg, format, name, utc, unit, errors, dayfirst, yearfirst, exact)\u001b[0m\n\u001b[0;32m    451\u001b[0m \u001b[38;5;66;03m# `format` could be inferred, or user didn't ask for mixed-format parsing.\u001b[39;00m\n\u001b[0;32m    452\u001b[0m \u001b[38;5;28;01mif\u001b[39;00m \u001b[38;5;28mformat\u001b[39m \u001b[38;5;129;01mis\u001b[39;00m \u001b[38;5;129;01mnot\u001b[39;00m \u001b[38;5;28;01mNone\u001b[39;00m \u001b[38;5;129;01mand\u001b[39;00m \u001b[38;5;28mformat\u001b[39m \u001b[38;5;241m!=\u001b[39m \u001b[38;5;124m\"\u001b[39m\u001b[38;5;124mmixed\u001b[39m\u001b[38;5;124m\"\u001b[39m:\n\u001b[1;32m--> 453\u001b[0m     \u001b[38;5;28;01mreturn\u001b[39;00m _array_strptime_with_fallback(arg, name, utc, \u001b[38;5;28mformat\u001b[39m, exact, errors)\n\u001b[0;32m    455\u001b[0m result, tz_parsed \u001b[38;5;241m=\u001b[39m objects_to_datetime64ns(\n\u001b[0;32m    456\u001b[0m     arg,\n\u001b[0;32m    457\u001b[0m     dayfirst\u001b[38;5;241m=\u001b[39mdayfirst,\n\u001b[1;32m   (...)\u001b[0m\n\u001b[0;32m    461\u001b[0m     allow_object\u001b[38;5;241m=\u001b[39m\u001b[38;5;28;01mTrue\u001b[39;00m,\n\u001b[0;32m    462\u001b[0m )\n\u001b[0;32m    464\u001b[0m \u001b[38;5;28;01mif\u001b[39;00m tz_parsed \u001b[38;5;129;01mis\u001b[39;00m \u001b[38;5;129;01mnot\u001b[39;00m \u001b[38;5;28;01mNone\u001b[39;00m:\n\u001b[0;32m    465\u001b[0m     \u001b[38;5;66;03m# We can take a shortcut since the datetime64 numpy array\u001b[39;00m\n\u001b[0;32m    466\u001b[0m     \u001b[38;5;66;03m# is in UTC\u001b[39;00m\n",
      "File \u001b[1;32m~\\anaconda3\\Lib\\site-packages\\pandas\\core\\tools\\datetimes.py:484\u001b[0m, in \u001b[0;36m_array_strptime_with_fallback\u001b[1;34m(arg, name, utc, fmt, exact, errors)\u001b[0m\n\u001b[0;32m    473\u001b[0m \u001b[38;5;28;01mdef\u001b[39;00m \u001b[38;5;21m_array_strptime_with_fallback\u001b[39m(\n\u001b[0;32m    474\u001b[0m     arg,\n\u001b[0;32m    475\u001b[0m     name,\n\u001b[1;32m   (...)\u001b[0m\n\u001b[0;32m    479\u001b[0m     errors: \u001b[38;5;28mstr\u001b[39m,\n\u001b[0;32m    480\u001b[0m ) \u001b[38;5;241m-\u001b[39m\u001b[38;5;241m>\u001b[39m Index:\n\u001b[0;32m    481\u001b[0m \u001b[38;5;250m    \u001b[39m\u001b[38;5;124;03m\"\"\"\u001b[39;00m\n\u001b[0;32m    482\u001b[0m \u001b[38;5;124;03m    Call array_strptime, with fallback behavior depending on 'errors'.\u001b[39;00m\n\u001b[0;32m    483\u001b[0m \u001b[38;5;124;03m    \"\"\"\u001b[39;00m\n\u001b[1;32m--> 484\u001b[0m     result, timezones \u001b[38;5;241m=\u001b[39m array_strptime(arg, fmt, exact\u001b[38;5;241m=\u001b[39mexact, errors\u001b[38;5;241m=\u001b[39merrors, utc\u001b[38;5;241m=\u001b[39mutc)\n\u001b[0;32m    485\u001b[0m     \u001b[38;5;28;01mif\u001b[39;00m \u001b[38;5;28many\u001b[39m(tz \u001b[38;5;129;01mis\u001b[39;00m \u001b[38;5;129;01mnot\u001b[39;00m \u001b[38;5;28;01mNone\u001b[39;00m \u001b[38;5;28;01mfor\u001b[39;00m tz \u001b[38;5;129;01min\u001b[39;00m timezones):\n\u001b[0;32m    486\u001b[0m         \u001b[38;5;28;01mreturn\u001b[39;00m _return_parsed_timezone_results(result, timezones, utc, name)\n",
      "File \u001b[1;32m~\\anaconda3\\Lib\\site-packages\\pandas\\_libs\\tslibs\\strptime.pyx:530\u001b[0m, in \u001b[0;36mpandas._libs.tslibs.strptime.array_strptime\u001b[1;34m()\u001b[0m\n",
      "File \u001b[1;32m~\\anaconda3\\Lib\\site-packages\\pandas\\_libs\\tslibs\\strptime.pyx:351\u001b[0m, in \u001b[0;36mpandas._libs.tslibs.strptime.array_strptime\u001b[1;34m()\u001b[0m\n",
      "\u001b[1;31mValueError\u001b[0m: time data \"09:00:00\" doesn't match format \"%Y-%m-%d %H:%M:%S\", at position 0. You might want to try:\n    - passing `format` if your strings have a consistent format;\n    - passing `format='ISO8601'` if your strings are all ISO8601 but not necessarily in exactly the same format;\n    - passing `format='mixed'`, and the format will be inferred for each element individually. You might want to use `dayfirst` alongside this."
     ]
    }
   ],
   "source": [
    "data['Time'] = pd.to_datetime(data['Time'], format='%Y-%m-%d %H:%M:%S')\n"
   ]
  },
  {
   "cell_type": "code",
   "execution_count": 91,
   "id": "dbb57fc1-3c35-4a78-94b6-8bef56fcbf0b",
   "metadata": {
    "tags": []
   },
   "outputs": [],
   "source": [
    "from sklearn.preprocessing import LabelEncoder\n",
    "\n",
    "label_encoder = LabelEncoder()\n",
    "data['Country'] = label_encoder.fit_transform(data['Country'])\n",
    "data['ClaimedWin'] = label_encoder.fit_transform(data['ClaimedWin'])\n"
   ]
  },
  {
   "cell_type": "code",
   "execution_count": 92,
   "id": "7a6a7c25-a9cc-4f41-9841-7549c618b2ab",
   "metadata": {
    "tags": []
   },
   "outputs": [
    {
     "name": "stdout",
     "output_type": "stream",
     "text": [
      "Unique values in Date: [ 1673481600000000000  1673049600000000000  1612137600000000000\n",
      "  1677628800000000000  1675987200000000000  1647043200000000000\n",
      "  1681257600000000000  1683849600000000000  1686528000000000000\n",
      "  1689120000000000000  1691798400000000000  1694476800000000000\n",
      "  1697068800000000000  1699747200000000000  1702339200000000000\n",
      " -9223372036854775808]\n",
      "Unique values in Time: ['09:00:00' '12:30:00' '14:45:00' '10:15:00' '05:00:40' '03:05:00'\n",
      " '10:50:00' '13:00:00' '14:00:00' '15:00:00' '16:00:00' '17:00:00'\n",
      " '18:00:00' '19:00:00' '20:00:00' '21:00:00' '22:00:00' '23:00:00'\n",
      " '00:00:00' '01:00:00' '02:00:00' '03:00:00' '04:00:00' '05:00:00'\n",
      " '06:00:00' '07:00:00' '08:00:00' '10:00:00']\n",
      "Unique values in TransactionID: [ 1  3  4  5  2  6  7  8  9 10 11 12 13 14 15 16 17 18 19 20 21 22 23 24\n",
      " 25 26]\n",
      "Unique values in Email: ['abcd23@gmail.com' 'user@example.com' 'john.doe@example.com'\n",
      " 'jane.smith@example.com' 'efgh45@gmail.com' 'ijkl67@gmail.com'\n",
      " 'mnop89@gmail.com' 'qrst01@gmail.com' 'uvwx23@gmail.com'\n",
      " 'yzab45@gmail.com' 'cdef67@gmail.com' 'ghij89@gmail.com'\n",
      " 'klmn01@gmail.com' 'opqr23@gmail.com' 'stuv45@gmail.com'\n",
      " 'wxyz67@gmail.com' 'abcd90@gmail.com' 'efgh12@gmail.com'\n",
      " 'ijkl34@gmail.com' 'mnop56@gmail.com' 'qrst78@gmail.com'\n",
      " 'uvwx90@gmail.com' 'yzab12@gmail.com' 'cdef34@gmail.com'\n",
      " 'ghij56@gmail.com' 'klmn78@gmail.com' 'mnop90@gmail.com'\n",
      " 'qrst12@gmail.com' 'uvwx34@gmail.com']\n",
      "Unique values in IP_Address: ['192.0.2.0' '192.168.1.1' '192.168.2.2' '192.168.3.3' '203.0.113.0'\n",
      " '198.51.119.0' '198.51.100.0']\n",
      "Unique values in Country: [ 4 11  3 12 13 14  2 10  0  1  5  8  6  7  9]\n",
      "Unique values in ClaimedWin: [1 0]\n",
      "Unique values in PayoutAmount: [ 1000     0 50000  7700  5600  2000  3000  4000  5000  6000  7000  8000\n",
      "  9000 10000 11000 12000 13000]\n",
      "Unique values in Input: ['Congratulations, you have won the lottery!'\n",
      " 'You are a lottery winner! Contact us to claim your prize.'\n",
      " 'Congratulations, you are a winner in our lottery draw.'\n",
      " 'Better luck next time.' 'You are the lucky winner!'\n",
      " 'Try again next time.' \"You've hit the jackpot!\"\n",
      " \"Sorry, you didn't win this time.\" 'Amazing, you won the prize!'\n",
      " \"Congratulations, you're a winner!\" \"Unfortunately, you didn't win.\"\n",
      " 'Great news, you won the prize!' 'Sorry, no luck this time.'\n",
      " \"Wow, you've won the lottery!\" 'Congratulations, youre a winner!']\n",
      "Unique values in Fraud_Classification: [0 1]\n",
      "Unique values in EmailDomain: ['gmail.com' 'example.com']\n",
      "Unique values in NumericIP: [3221225984 3232235777 3232236034 3232236291 3405803776 3325261568\n",
      " 3325256704]\n",
      "Unique values in NormalizedIP: [-1.19970602 -1.05408913 -1.05408573 -1.05408233  1.24154286  0.17628158\n",
      "  0.17621725]\n"
     ]
    }
   ],
   "source": [
    "for column in data.columns:\n",
    "    print(f'Unique values in {column}: {data[column].unique()}')\n"
   ]
  },
  {
   "cell_type": "code",
   "execution_count": 93,
   "id": "d2d35ee4-f7b4-42ce-8874-fcd919ec3f76",
   "metadata": {
    "tags": []
   },
   "outputs": [],
   "source": [
    "# Step 5: Split Data\n",
    "X_train, X_test, y_train, y_test = train_test_split(X, y, test_size=0.2, random_state=42)"
   ]
  },
  {
   "cell_type": "code",
   "execution_count": 94,
   "id": "b6925132-10ea-460f-9f79-a76578a24a9d",
   "metadata": {
    "tags": []
   },
   "outputs": [
    {
     "name": "stdout",
     "output_type": "stream",
     "text": [
      "Shape of X_train: (23, 21)\n",
      "Shape of X_test: (6, 21)\n",
      "Shape of y_train: (23,)\n",
      "Shape of y_test: (6,)\n"
     ]
    }
   ],
   "source": [
    "print(\"Shape of X_train:\", X_train.shape)\n",
    "print(\"Shape of X_test:\", X_test.shape)\n",
    "print(\"Shape of y_train:\", y_train.shape)\n",
    "print(\"Shape of y_test:\", y_test.shape)"
   ]
  },
  {
   "cell_type": "code",
   "execution_count": 46,
   "id": "5aee5398-6805-42c5-b24d-ce10b3e7f208",
   "metadata": {
    "tags": []
   },
   "outputs": [],
   "source": [
    "\n"
   ]
  },
  {
   "cell_type": "code",
   "execution_count": null,
   "id": "019b0013-f8c2-4132-be66-79b76590fbc0",
   "metadata": {
    "tags": []
   },
   "outputs": [],
   "source": []
  },
  {
   "cell_type": "code",
   "execution_count": null,
   "id": "51490aa5-31cb-4e94-83c3-6c2562f0d669",
   "metadata": {
    "tags": []
   },
   "outputs": [],
   "source": [
    "\n"
   ]
  },
  {
   "cell_type": "code",
   "execution_count": 95,
   "id": "f4489e55-07d8-4297-a5f2-108776609b77",
   "metadata": {
    "tags": []
   },
   "outputs": [
    {
     "name": "stdout",
     "output_type": "stream",
     "text": [
      "         Date      Time  TransactionID                   Email   IP_Address  \\\n",
      "0  01-12-2023  09:00:00              1        abcd23@gmail.com    192.0.2.0   \n",
      "1  01-07-2023  12:30:00              3        user@example.com  192.168.1.1   \n",
      "2  02-01-2021  14:45:00              4    john.doe@example.com  192.168.2.2   \n",
      "3  03-01-2023  10:15:00              5  jane.smith@example.com  192.168.3.3   \n",
      "4  02-10-2023  05:00:40              2        efgh45@gmail.com  203.0.113.0   \n",
      "\n",
      "   ClaimedWin  PayoutAmount  Country_Argentina.  Country_Australia  \\\n",
      "0           1          1000                 0.0                0.0   \n",
      "1           0             0                 0.0                0.0   \n",
      "2           1         50000                 0.0                0.0   \n",
      "3           1          7700                 0.0                0.0   \n",
      "4           0             0                 0.0                0.0   \n",
      "\n",
      "   Country_Canada  ...  Country_Malaysia  Country_Mexico  Country_Morocco  \\\n",
      "0             0.0  ...               0.0             0.0              0.0   \n",
      "1             0.0  ...               0.0             0.0              0.0   \n",
      "2             1.0  ...               0.0             0.0              0.0   \n",
      "3             0.0  ...               0.0             0.0              0.0   \n",
      "4             0.0  ...               0.0             0.0              0.0   \n",
      "\n",
      "   Country_Nigeria  Country_UK  Country_USA  Country_Uk  Country_china  \\\n",
      "0              0.0         0.0          0.0         0.0            0.0   \n",
      "1              0.0         0.0          0.0         1.0            0.0   \n",
      "2              0.0         0.0          0.0         0.0            0.0   \n",
      "3              0.0         0.0          0.0         0.0            1.0   \n",
      "4              0.0         0.0          0.0         0.0            0.0   \n",
      "\n",
      "   Country_kenya  Country_pakistan  \n",
      "0            0.0               0.0  \n",
      "1            0.0               0.0  \n",
      "2            0.0               0.0  \n",
      "3            0.0               0.0  \n",
      "4            1.0               0.0  \n",
      "\n",
      "[5 rows x 21 columns]\n"
     ]
    }
   ],
   "source": [
    "print(X.head())"
   ]
  },
  {
   "cell_type": "code",
   "execution_count": 98,
   "id": "3614489a-3c12-45aa-8493-d7f4216b29df",
   "metadata": {
    "tags": []
   },
   "outputs": [
    {
     "ename": "KeyError",
     "evalue": "\"['Date'] not found in axis\"",
     "output_type": "error",
     "traceback": [
      "\u001b[1;31m---------------------------------------------------------------------------\u001b[0m",
      "\u001b[1;31mKeyError\u001b[0m                                  Traceback (most recent call last)",
      "Cell \u001b[1;32mIn[98], line 2\u001b[0m\n\u001b[0;32m      1\u001b[0m \u001b[38;5;66;03m# Drop the 'Date' column\u001b[39;00m\n\u001b[1;32m----> 2\u001b[0m X \u001b[38;5;241m=\u001b[39m X\u001b[38;5;241m.\u001b[39mdrop(\u001b[38;5;124m'\u001b[39m\u001b[38;5;124mDate\u001b[39m\u001b[38;5;124m'\u001b[39m, axis\u001b[38;5;241m=\u001b[39m\u001b[38;5;241m1\u001b[39m)\n",
      "File \u001b[1;32m~\\anaconda3\\Lib\\site-packages\\pandas\\core\\frame.py:5258\u001b[0m, in \u001b[0;36mDataFrame.drop\u001b[1;34m(self, labels, axis, index, columns, level, inplace, errors)\u001b[0m\n\u001b[0;32m   5110\u001b[0m \u001b[38;5;28;01mdef\u001b[39;00m \u001b[38;5;21mdrop\u001b[39m(\n\u001b[0;32m   5111\u001b[0m     \u001b[38;5;28mself\u001b[39m,\n\u001b[0;32m   5112\u001b[0m     labels: IndexLabel \u001b[38;5;241m=\u001b[39m \u001b[38;5;28;01mNone\u001b[39;00m,\n\u001b[1;32m   (...)\u001b[0m\n\u001b[0;32m   5119\u001b[0m     errors: IgnoreRaise \u001b[38;5;241m=\u001b[39m \u001b[38;5;124m\"\u001b[39m\u001b[38;5;124mraise\u001b[39m\u001b[38;5;124m\"\u001b[39m,\n\u001b[0;32m   5120\u001b[0m ) \u001b[38;5;241m-\u001b[39m\u001b[38;5;241m>\u001b[39m DataFrame \u001b[38;5;241m|\u001b[39m \u001b[38;5;28;01mNone\u001b[39;00m:\n\u001b[0;32m   5121\u001b[0m \u001b[38;5;250m    \u001b[39m\u001b[38;5;124;03m\"\"\"\u001b[39;00m\n\u001b[0;32m   5122\u001b[0m \u001b[38;5;124;03m    Drop specified labels from rows or columns.\u001b[39;00m\n\u001b[0;32m   5123\u001b[0m \n\u001b[1;32m   (...)\u001b[0m\n\u001b[0;32m   5256\u001b[0m \u001b[38;5;124;03m            weight  1.0     0.8\u001b[39;00m\n\u001b[0;32m   5257\u001b[0m \u001b[38;5;124;03m    \"\"\"\u001b[39;00m\n\u001b[1;32m-> 5258\u001b[0m     \u001b[38;5;28;01mreturn\u001b[39;00m \u001b[38;5;28msuper\u001b[39m()\u001b[38;5;241m.\u001b[39mdrop(\n\u001b[0;32m   5259\u001b[0m         labels\u001b[38;5;241m=\u001b[39mlabels,\n\u001b[0;32m   5260\u001b[0m         axis\u001b[38;5;241m=\u001b[39maxis,\n\u001b[0;32m   5261\u001b[0m         index\u001b[38;5;241m=\u001b[39mindex,\n\u001b[0;32m   5262\u001b[0m         columns\u001b[38;5;241m=\u001b[39mcolumns,\n\u001b[0;32m   5263\u001b[0m         level\u001b[38;5;241m=\u001b[39mlevel,\n\u001b[0;32m   5264\u001b[0m         inplace\u001b[38;5;241m=\u001b[39minplace,\n\u001b[0;32m   5265\u001b[0m         errors\u001b[38;5;241m=\u001b[39merrors,\n\u001b[0;32m   5266\u001b[0m     )\n",
      "File \u001b[1;32m~\\anaconda3\\Lib\\site-packages\\pandas\\core\\generic.py:4549\u001b[0m, in \u001b[0;36mNDFrame.drop\u001b[1;34m(self, labels, axis, index, columns, level, inplace, errors)\u001b[0m\n\u001b[0;32m   4547\u001b[0m \u001b[38;5;28;01mfor\u001b[39;00m axis, labels \u001b[38;5;129;01min\u001b[39;00m axes\u001b[38;5;241m.\u001b[39mitems():\n\u001b[0;32m   4548\u001b[0m     \u001b[38;5;28;01mif\u001b[39;00m labels \u001b[38;5;129;01mis\u001b[39;00m \u001b[38;5;129;01mnot\u001b[39;00m \u001b[38;5;28;01mNone\u001b[39;00m:\n\u001b[1;32m-> 4549\u001b[0m         obj \u001b[38;5;241m=\u001b[39m obj\u001b[38;5;241m.\u001b[39m_drop_axis(labels, axis, level\u001b[38;5;241m=\u001b[39mlevel, errors\u001b[38;5;241m=\u001b[39merrors)\n\u001b[0;32m   4551\u001b[0m \u001b[38;5;28;01mif\u001b[39;00m inplace:\n\u001b[0;32m   4552\u001b[0m     \u001b[38;5;28mself\u001b[39m\u001b[38;5;241m.\u001b[39m_update_inplace(obj)\n",
      "File \u001b[1;32m~\\anaconda3\\Lib\\site-packages\\pandas\\core\\generic.py:4591\u001b[0m, in \u001b[0;36mNDFrame._drop_axis\u001b[1;34m(self, labels, axis, level, errors, only_slice)\u001b[0m\n\u001b[0;32m   4589\u001b[0m         new_axis \u001b[38;5;241m=\u001b[39m axis\u001b[38;5;241m.\u001b[39mdrop(labels, level\u001b[38;5;241m=\u001b[39mlevel, errors\u001b[38;5;241m=\u001b[39merrors)\n\u001b[0;32m   4590\u001b[0m     \u001b[38;5;28;01melse\u001b[39;00m:\n\u001b[1;32m-> 4591\u001b[0m         new_axis \u001b[38;5;241m=\u001b[39m axis\u001b[38;5;241m.\u001b[39mdrop(labels, errors\u001b[38;5;241m=\u001b[39merrors)\n\u001b[0;32m   4592\u001b[0m     indexer \u001b[38;5;241m=\u001b[39m axis\u001b[38;5;241m.\u001b[39mget_indexer(new_axis)\n\u001b[0;32m   4594\u001b[0m \u001b[38;5;66;03m# Case for non-unique axis\u001b[39;00m\n\u001b[0;32m   4595\u001b[0m \u001b[38;5;28;01melse\u001b[39;00m:\n",
      "File \u001b[1;32m~\\anaconda3\\Lib\\site-packages\\pandas\\core\\indexes\\base.py:6699\u001b[0m, in \u001b[0;36mIndex.drop\u001b[1;34m(self, labels, errors)\u001b[0m\n\u001b[0;32m   6697\u001b[0m \u001b[38;5;28;01mif\u001b[39;00m mask\u001b[38;5;241m.\u001b[39many():\n\u001b[0;32m   6698\u001b[0m     \u001b[38;5;28;01mif\u001b[39;00m errors \u001b[38;5;241m!=\u001b[39m \u001b[38;5;124m\"\u001b[39m\u001b[38;5;124mignore\u001b[39m\u001b[38;5;124m\"\u001b[39m:\n\u001b[1;32m-> 6699\u001b[0m         \u001b[38;5;28;01mraise\u001b[39;00m \u001b[38;5;167;01mKeyError\u001b[39;00m(\u001b[38;5;124mf\u001b[39m\u001b[38;5;124m\"\u001b[39m\u001b[38;5;132;01m{\u001b[39;00m\u001b[38;5;28mlist\u001b[39m(labels[mask])\u001b[38;5;132;01m}\u001b[39;00m\u001b[38;5;124m not found in axis\u001b[39m\u001b[38;5;124m\"\u001b[39m)\n\u001b[0;32m   6700\u001b[0m     indexer \u001b[38;5;241m=\u001b[39m indexer[\u001b[38;5;241m~\u001b[39mmask]\n\u001b[0;32m   6701\u001b[0m \u001b[38;5;28;01mreturn\u001b[39;00m \u001b[38;5;28mself\u001b[39m\u001b[38;5;241m.\u001b[39mdelete(indexer)\n",
      "\u001b[1;31mKeyError\u001b[0m: \"['Date'] not found in axis\""
     ]
    }
   ],
   "source": [
    "# Drop the 'Date' column\n",
    "X = X.drop('Date', axis=1)\n"
   ]
  },
  {
   "cell_type": "code",
   "execution_count": 100,
   "id": "5a2f4d25-0602-4662-b422-aeabffa81473",
   "metadata": {
    "tags": []
   },
   "outputs": [
    {
     "name": "stdout",
     "output_type": "stream",
     "text": [
      "       Time  TransactionID                   Email   IP_Address  ClaimedWin  \\\n",
      "0  09:00:00              1        abcd23@gmail.com    192.0.2.0           1   \n",
      "1  12:30:00              3        user@example.com  192.168.1.1           0   \n",
      "2  14:45:00              4    john.doe@example.com  192.168.2.2           1   \n",
      "3  10:15:00              5  jane.smith@example.com  192.168.3.3           1   \n",
      "4  05:00:40              2        efgh45@gmail.com  203.0.113.0           0   \n",
      "\n",
      "   PayoutAmount  Country_Argentina.  Country_Australia  Country_Canada  \\\n",
      "0          1000                 0.0                0.0             0.0   \n",
      "1             0                 0.0                0.0             0.0   \n",
      "2         50000                 0.0                0.0             1.0   \n",
      "3          7700                 0.0                0.0             0.0   \n",
      "4             0                 0.0                0.0             0.0   \n",
      "\n",
      "   Country_India  Country_Malaysia  Country_Mexico  Country_Morocco  \\\n",
      "0            1.0               0.0             0.0              0.0   \n",
      "1            0.0               0.0             0.0              0.0   \n",
      "2            0.0               0.0             0.0              0.0   \n",
      "3            0.0               0.0             0.0              0.0   \n",
      "4            0.0               0.0             0.0              0.0   \n",
      "\n",
      "   Country_Nigeria  Country_UK  Country_USA  Country_Uk  Country_china  \\\n",
      "0              0.0         0.0          0.0         0.0            0.0   \n",
      "1              0.0         0.0          0.0         1.0            0.0   \n",
      "2              0.0         0.0          0.0         0.0            0.0   \n",
      "3              0.0         0.0          0.0         0.0            1.0   \n",
      "4              0.0         0.0          0.0         0.0            0.0   \n",
      "\n",
      "   Country_kenya  Country_pakistan  \n",
      "0            0.0               0.0  \n",
      "1            0.0               0.0  \n",
      "2            0.0               0.0  \n",
      "3            0.0               0.0  \n",
      "4            1.0               0.0  \n"
     ]
    }
   ],
   "source": [
    "print(X.head())"
   ]
  },
  {
   "cell_type": "code",
   "execution_count": null,
   "id": "723ba02c-955d-48a8-8f7a-b3b880a2b411",
   "metadata": {
    "tags": []
   },
   "outputs": [],
   "source": []
  },
  {
   "cell_type": "code",
   "execution_count": 64,
   "id": "01a62bdf-6b43-4cdf-97ba-3a4087507a17",
   "metadata": {
    "tags": []
   },
   "outputs": [],
   "source": []
  },
  {
   "cell_type": "code",
   "execution_count": 65,
   "id": "b132121b-1962-48c6-a983-8200ed37c912",
   "metadata": {
    "tags": []
   },
   "outputs": [],
   "source": [
    "\n"
   ]
  },
  {
   "cell_type": "code",
   "execution_count": 101,
   "id": "9ffe172e-37ac-4168-8785-09e0727d9e62",
   "metadata": {
    "tags": []
   },
   "outputs": [
    {
     "name": "stdout",
     "output_type": "stream",
     "text": [
      "       Time  TransactionID                   Email   IP_Address  ClaimedWin  \\\n",
      "0  09:00:00              1        abcd23@gmail.com    192.0.2.0           1   \n",
      "1  12:30:00              3        user@example.com  192.168.1.1           0   \n",
      "2  14:45:00              4    john.doe@example.com  192.168.2.2           1   \n",
      "3  10:15:00              5  jane.smith@example.com  192.168.3.3           1   \n",
      "4  05:00:40              2        efgh45@gmail.com  203.0.113.0           0   \n",
      "\n",
      "   PayoutAmount  Country_Argentina.  Country_Australia  Country_Canada  \\\n",
      "0          1000                 0.0                0.0             0.0   \n",
      "1             0                 0.0                0.0             0.0   \n",
      "2         50000                 0.0                0.0             1.0   \n",
      "3          7700                 0.0                0.0             0.0   \n",
      "4             0                 0.0                0.0             0.0   \n",
      "\n",
      "   Country_India  Country_Malaysia  Country_Mexico  Country_Morocco  \\\n",
      "0            1.0               0.0             0.0              0.0   \n",
      "1            0.0               0.0             0.0              0.0   \n",
      "2            0.0               0.0             0.0              0.0   \n",
      "3            0.0               0.0             0.0              0.0   \n",
      "4            0.0               0.0             0.0              0.0   \n",
      "\n",
      "   Country_Nigeria  Country_UK  Country_USA  Country_Uk  Country_china  \\\n",
      "0              0.0         0.0          0.0         0.0            0.0   \n",
      "1              0.0         0.0          0.0         1.0            0.0   \n",
      "2              0.0         0.0          0.0         0.0            0.0   \n",
      "3              0.0         0.0          0.0         0.0            1.0   \n",
      "4              0.0         0.0          0.0         0.0            0.0   \n",
      "\n",
      "   Country_kenya  Country_pakistan  \n",
      "0            0.0               0.0  \n",
      "1            0.0               0.0  \n",
      "2            0.0               0.0  \n",
      "3            0.0               0.0  \n",
      "4            1.0               0.0  \n"
     ]
    }
   ],
   "source": [
    "print(X.head())"
   ]
  },
  {
   "cell_type": "code",
   "execution_count": 73,
   "id": "6828096b-a01d-45f4-b675-10baf216d3ec",
   "metadata": {
    "tags": []
   },
   "outputs": [],
   "source": []
  },
  {
   "cell_type": "code",
   "execution_count": 74,
   "id": "9812d01d-9170-42fd-8ae5-32bb66e8c98d",
   "metadata": {
    "tags": []
   },
   "outputs": [],
   "source": [
    "\n"
   ]
  },
  {
   "cell_type": "code",
   "execution_count": null,
   "id": "7b3fb6cb-1565-4233-a554-5e645509e428",
   "metadata": {
    "tags": []
   },
   "outputs": [],
   "source": []
  },
  {
   "cell_type": "code",
   "execution_count": null,
   "id": "bd736d48-6f1f-46d3-a06e-c53352b5eab5",
   "metadata": {
    "tags": []
   },
   "outputs": [],
   "source": [
    "\n"
   ]
  },
  {
   "cell_type": "code",
   "execution_count": 102,
   "id": "4f4aa89d-7c53-4bdb-b0c1-57d545fbc968",
   "metadata": {
    "tags": []
   },
   "outputs": [],
   "source": [
    "# Perform one-hot encoding on the 'Email' column\n",
    "X = pd.get_dummies(X, columns=['Email'])"
   ]
  },
  {
   "cell_type": "code",
   "execution_count": 103,
   "id": "4dd203b4-6409-444a-891a-a7109e7106cf",
   "metadata": {
    "tags": []
   },
   "outputs": [
    {
     "name": "stdout",
     "output_type": "stream",
     "text": [
      "Columns after one-hot encoding:\n",
      "Index(['Time', 'TransactionID', 'IP_Address', 'ClaimedWin', 'PayoutAmount',\n",
      "       'Country_Argentina.', 'Country_Australia', 'Country_Canada',\n",
      "       'Country_India', 'Country_Malaysia', 'Country_Mexico',\n",
      "       'Country_Morocco', 'Country_Nigeria', 'Country_UK', 'Country_USA',\n",
      "       'Country_Uk', 'Country_china', 'Country_kenya', 'Country_pakistan',\n",
      "       'Email_abcd23@gmail.com', 'Email_abcd90@gmail.com',\n",
      "       'Email_cdef34@gmail.com', 'Email_cdef67@gmail.com',\n",
      "       'Email_efgh12@gmail.com', 'Email_efgh45@gmail.com',\n",
      "       'Email_ghij56@gmail.com', 'Email_ghij89@gmail.com',\n",
      "       'Email_ijkl34@gmail.com', 'Email_ijkl67@gmail.com',\n",
      "       'Email_jane.smith@example.com', 'Email_john.doe@example.com',\n",
      "       'Email_klmn01@gmail.com', 'Email_klmn78@gmail.com',\n",
      "       'Email_mnop56@gmail.com', 'Email_mnop89@gmail.com',\n",
      "       'Email_mnop90@gmail.com', 'Email_opqr23@gmail.com',\n",
      "       'Email_qrst01@gmail.com', 'Email_qrst12@gmail.com',\n",
      "       'Email_qrst78@gmail.com', 'Email_stuv45@gmail.com',\n",
      "       'Email_user@example.com', 'Email_uvwx23@gmail.com',\n",
      "       'Email_uvwx34@gmail.com', 'Email_uvwx90@gmail.com',\n",
      "       'Email_wxyz67@gmail.com', 'Email_yzab12@gmail.com',\n",
      "       'Email_yzab45@gmail.com'],\n",
      "      dtype='object')\n"
     ]
    }
   ],
   "source": [
    "\n",
    "# Check the columns after one-hot encoding\n",
    "print(\"Columns after one-hot encoding:\")\n",
    "print(X.columns)"
   ]
  },
  {
   "cell_type": "code",
   "execution_count": 104,
   "id": "b03ca957-811c-44ea-9529-6e6ea66ab727",
   "metadata": {
    "tags": []
   },
   "outputs": [
    {
     "name": "stdout",
     "output_type": "stream",
     "text": [
      "Sample rows after one-hot encoding:\n",
      "       Time  TransactionID   IP_Address  ClaimedWin  PayoutAmount  \\\n",
      "0  09:00:00              1    192.0.2.0           1          1000   \n",
      "1  12:30:00              3  192.168.1.1           0             0   \n",
      "2  14:45:00              4  192.168.2.2           1         50000   \n",
      "3  10:15:00              5  192.168.3.3           1          7700   \n",
      "4  05:00:40              2  203.0.113.0           0             0   \n",
      "\n",
      "   Country_Argentina.  Country_Australia  Country_Canada  Country_India  \\\n",
      "0                 0.0                0.0             0.0            1.0   \n",
      "1                 0.0                0.0             0.0            0.0   \n",
      "2                 0.0                0.0             1.0            0.0   \n",
      "3                 0.0                0.0             0.0            0.0   \n",
      "4                 0.0                0.0             0.0            0.0   \n",
      "\n",
      "   Country_Malaysia  ...  Email_qrst12@gmail.com  Email_qrst78@gmail.com  \\\n",
      "0               0.0  ...                   False                   False   \n",
      "1               0.0  ...                   False                   False   \n",
      "2               0.0  ...                   False                   False   \n",
      "3               0.0  ...                   False                   False   \n",
      "4               0.0  ...                   False                   False   \n",
      "\n",
      "   Email_stuv45@gmail.com  Email_user@example.com  Email_uvwx23@gmail.com  \\\n",
      "0                   False                   False                   False   \n",
      "1                   False                    True                   False   \n",
      "2                   False                   False                   False   \n",
      "3                   False                   False                   False   \n",
      "4                   False                   False                   False   \n",
      "\n",
      "   Email_uvwx34@gmail.com  Email_uvwx90@gmail.com  Email_wxyz67@gmail.com  \\\n",
      "0                   False                   False                   False   \n",
      "1                   False                   False                   False   \n",
      "2                   False                   False                   False   \n",
      "3                   False                   False                   False   \n",
      "4                   False                   False                   False   \n",
      "\n",
      "   Email_yzab12@gmail.com  Email_yzab45@gmail.com  \n",
      "0                   False                   False  \n",
      "1                   False                   False  \n",
      "2                   False                   False  \n",
      "3                   False                   False  \n",
      "4                   False                   False  \n",
      "\n",
      "[5 rows x 48 columns]\n"
     ]
    }
   ],
   "source": [
    "print(\"Sample rows after one-hot encoding:\")\n",
    "print(X.head())"
   ]
  },
  {
   "cell_type": "code",
   "execution_count": 105,
   "id": "404ee63a-fbd8-41c2-b903-2b0530fa250d",
   "metadata": {
    "tags": []
   },
   "outputs": [
    {
     "data": {
      "text/html": [
       "<div>\n",
       "<style scoped>\n",
       "    .dataframe tbody tr th:only-of-type {\n",
       "        vertical-align: middle;\n",
       "    }\n",
       "\n",
       "    .dataframe tbody tr th {\n",
       "        vertical-align: top;\n",
       "    }\n",
       "\n",
       "    .dataframe thead th {\n",
       "        text-align: right;\n",
       "    }\n",
       "</style>\n",
       "<table border=\"1\" class=\"dataframe\">\n",
       "  <thead>\n",
       "    <tr style=\"text-align: right;\">\n",
       "      <th></th>\n",
       "      <th>Time</th>\n",
       "      <th>TransactionID</th>\n",
       "      <th>IP_Address</th>\n",
       "      <th>ClaimedWin</th>\n",
       "      <th>PayoutAmount</th>\n",
       "      <th>Country_Argentina.</th>\n",
       "      <th>Country_Australia</th>\n",
       "      <th>Country_Canada</th>\n",
       "      <th>Country_India</th>\n",
       "      <th>Country_Malaysia</th>\n",
       "      <th>...</th>\n",
       "      <th>Email_qrst12@gmail.com</th>\n",
       "      <th>Email_qrst78@gmail.com</th>\n",
       "      <th>Email_stuv45@gmail.com</th>\n",
       "      <th>Email_user@example.com</th>\n",
       "      <th>Email_uvwx23@gmail.com</th>\n",
       "      <th>Email_uvwx34@gmail.com</th>\n",
       "      <th>Email_uvwx90@gmail.com</th>\n",
       "      <th>Email_wxyz67@gmail.com</th>\n",
       "      <th>Email_yzab12@gmail.com</th>\n",
       "      <th>Email_yzab45@gmail.com</th>\n",
       "    </tr>\n",
       "  </thead>\n",
       "  <tbody>\n",
       "    <tr>\n",
       "      <th>0</th>\n",
       "      <td>09:00:00</td>\n",
       "      <td>1</td>\n",
       "      <td>192.0.2.0</td>\n",
       "      <td>1</td>\n",
       "      <td>1000</td>\n",
       "      <td>0.0</td>\n",
       "      <td>0.0</td>\n",
       "      <td>0.0</td>\n",
       "      <td>1.0</td>\n",
       "      <td>0.0</td>\n",
       "      <td>...</td>\n",
       "      <td>False</td>\n",
       "      <td>False</td>\n",
       "      <td>False</td>\n",
       "      <td>False</td>\n",
       "      <td>False</td>\n",
       "      <td>False</td>\n",
       "      <td>False</td>\n",
       "      <td>False</td>\n",
       "      <td>False</td>\n",
       "      <td>False</td>\n",
       "    </tr>\n",
       "    <tr>\n",
       "      <th>1</th>\n",
       "      <td>12:30:00</td>\n",
       "      <td>3</td>\n",
       "      <td>192.168.1.1</td>\n",
       "      <td>0</td>\n",
       "      <td>0</td>\n",
       "      <td>0.0</td>\n",
       "      <td>0.0</td>\n",
       "      <td>0.0</td>\n",
       "      <td>0.0</td>\n",
       "      <td>0.0</td>\n",
       "      <td>...</td>\n",
       "      <td>False</td>\n",
       "      <td>False</td>\n",
       "      <td>False</td>\n",
       "      <td>True</td>\n",
       "      <td>False</td>\n",
       "      <td>False</td>\n",
       "      <td>False</td>\n",
       "      <td>False</td>\n",
       "      <td>False</td>\n",
       "      <td>False</td>\n",
       "    </tr>\n",
       "    <tr>\n",
       "      <th>2</th>\n",
       "      <td>14:45:00</td>\n",
       "      <td>4</td>\n",
       "      <td>192.168.2.2</td>\n",
       "      <td>1</td>\n",
       "      <td>50000</td>\n",
       "      <td>0.0</td>\n",
       "      <td>0.0</td>\n",
       "      <td>1.0</td>\n",
       "      <td>0.0</td>\n",
       "      <td>0.0</td>\n",
       "      <td>...</td>\n",
       "      <td>False</td>\n",
       "      <td>False</td>\n",
       "      <td>False</td>\n",
       "      <td>False</td>\n",
       "      <td>False</td>\n",
       "      <td>False</td>\n",
       "      <td>False</td>\n",
       "      <td>False</td>\n",
       "      <td>False</td>\n",
       "      <td>False</td>\n",
       "    </tr>\n",
       "    <tr>\n",
       "      <th>3</th>\n",
       "      <td>10:15:00</td>\n",
       "      <td>5</td>\n",
       "      <td>192.168.3.3</td>\n",
       "      <td>1</td>\n",
       "      <td>7700</td>\n",
       "      <td>0.0</td>\n",
       "      <td>0.0</td>\n",
       "      <td>0.0</td>\n",
       "      <td>0.0</td>\n",
       "      <td>0.0</td>\n",
       "      <td>...</td>\n",
       "      <td>False</td>\n",
       "      <td>False</td>\n",
       "      <td>False</td>\n",
       "      <td>False</td>\n",
       "      <td>False</td>\n",
       "      <td>False</td>\n",
       "      <td>False</td>\n",
       "      <td>False</td>\n",
       "      <td>False</td>\n",
       "      <td>False</td>\n",
       "    </tr>\n",
       "    <tr>\n",
       "      <th>4</th>\n",
       "      <td>05:00:40</td>\n",
       "      <td>2</td>\n",
       "      <td>203.0.113.0</td>\n",
       "      <td>0</td>\n",
       "      <td>0</td>\n",
       "      <td>0.0</td>\n",
       "      <td>0.0</td>\n",
       "      <td>0.0</td>\n",
       "      <td>0.0</td>\n",
       "      <td>0.0</td>\n",
       "      <td>...</td>\n",
       "      <td>False</td>\n",
       "      <td>False</td>\n",
       "      <td>False</td>\n",
       "      <td>False</td>\n",
       "      <td>False</td>\n",
       "      <td>False</td>\n",
       "      <td>False</td>\n",
       "      <td>False</td>\n",
       "      <td>False</td>\n",
       "      <td>False</td>\n",
       "    </tr>\n",
       "  </tbody>\n",
       "</table>\n",
       "<p>5 rows × 48 columns</p>\n",
       "</div>"
      ],
      "text/plain": [
       "       Time  TransactionID   IP_Address  ClaimedWin  PayoutAmount  \\\n",
       "0  09:00:00              1    192.0.2.0           1          1000   \n",
       "1  12:30:00              3  192.168.1.1           0             0   \n",
       "2  14:45:00              4  192.168.2.2           1         50000   \n",
       "3  10:15:00              5  192.168.3.3           1          7700   \n",
       "4  05:00:40              2  203.0.113.0           0             0   \n",
       "\n",
       "   Country_Argentina.  Country_Australia  Country_Canada  Country_India  \\\n",
       "0                 0.0                0.0             0.0            1.0   \n",
       "1                 0.0                0.0             0.0            0.0   \n",
       "2                 0.0                0.0             1.0            0.0   \n",
       "3                 0.0                0.0             0.0            0.0   \n",
       "4                 0.0                0.0             0.0            0.0   \n",
       "\n",
       "   Country_Malaysia  ...  Email_qrst12@gmail.com  Email_qrst78@gmail.com  \\\n",
       "0               0.0  ...                   False                   False   \n",
       "1               0.0  ...                   False                   False   \n",
       "2               0.0  ...                   False                   False   \n",
       "3               0.0  ...                   False                   False   \n",
       "4               0.0  ...                   False                   False   \n",
       "\n",
       "   Email_stuv45@gmail.com  Email_user@example.com  Email_uvwx23@gmail.com  \\\n",
       "0                   False                   False                   False   \n",
       "1                   False                    True                   False   \n",
       "2                   False                   False                   False   \n",
       "3                   False                   False                   False   \n",
       "4                   False                   False                   False   \n",
       "\n",
       "   Email_uvwx34@gmail.com  Email_uvwx90@gmail.com  Email_wxyz67@gmail.com  \\\n",
       "0                   False                   False                   False   \n",
       "1                   False                   False                   False   \n",
       "2                   False                   False                   False   \n",
       "3                   False                   False                   False   \n",
       "4                   False                   False                   False   \n",
       "\n",
       "   Email_yzab12@gmail.com  Email_yzab45@gmail.com  \n",
       "0                   False                   False  \n",
       "1                   False                   False  \n",
       "2                   False                   False  \n",
       "3                   False                   False  \n",
       "4                   False                   False  \n",
       "\n",
       "[5 rows x 48 columns]"
      ]
     },
     "execution_count": 105,
     "metadata": {},
     "output_type": "execute_result"
    }
   ],
   "source": [
    "# X: Features (independent variables)\n",
    "X.head()  # Display the first few rows of X for inspection\n"
   ]
  },
  {
   "cell_type": "code",
   "execution_count": 82,
   "id": "61a7bf41-4913-4c8e-b580-0d795d708899",
   "metadata": {
    "tags": []
   },
   "outputs": [],
   "source": []
  },
  {
   "cell_type": "code",
   "execution_count": 83,
   "id": "989e8c65-2a08-4bad-96ab-6a99cb1c15dc",
   "metadata": {
    "tags": []
   },
   "outputs": [],
   "source": []
  },
  {
   "cell_type": "code",
   "execution_count": null,
   "id": "48a53bff-27c6-4e92-aa12-be7f19356619",
   "metadata": {
    "tags": []
   },
   "outputs": [],
   "source": []
  },
  {
   "cell_type": "code",
   "execution_count": 54,
   "id": "75e6db39-647e-4e73-ba53-abe66d921124",
   "metadata": {
    "tags": []
   },
   "outputs": [],
   "source": [
    "import ipaddress\n",
    "\n",
    "# Assuming 'IP_Address' is a column in your DataFrame\n",
    "data['IP_Address'] = data['IP_Address'].apply(lambda x: int(ipaddress.IPv4Address(x)))\n",
    "\n",
    "# Now the 'IP_Address' column contains numeric representations\n"
   ]
  },
  {
   "cell_type": "code",
   "execution_count": 106,
   "id": "3b2460a3-73b1-4c2d-8f07-6aa6888ea777",
   "metadata": {
    "tags": []
   },
   "outputs": [
    {
     "name": "stdout",
     "output_type": "stream",
     "text": [
      "Unique values in 'IP_Address' column after conversion: ['192.0.2.0' '192.168.1.1' '192.168.2.2' '192.168.3.3' '203.0.113.0'\n",
      " '198.51.119.0' '198.51.100.0']\n"
     ]
    }
   ],
   "source": [
    "# Assuming 'IP_Address' is a column in your DataFrame\n",
    "print(\"Unique values in 'IP_Address' column after conversion:\", data['IP_Address'].unique())\n"
   ]
  },
  {
   "cell_type": "code",
   "execution_count": 107,
   "id": "579a8489-f9c1-4083-b210-0e9f66615488",
   "metadata": {
    "tags": []
   },
   "outputs": [],
   "source": [
    "# Step 5: Split Data\n",
    "X_train, X_test, y_train, y_test = train_test_split(X, y, test_size=0.2, random_state=42)"
   ]
  },
  {
   "cell_type": "code",
   "execution_count": 108,
   "id": "b4dceb40-00c8-4e3c-9f74-b800c9467252",
   "metadata": {
    "tags": []
   },
   "outputs": [
    {
     "name": "stdout",
     "output_type": "stream",
     "text": [
      "Index(['Time', 'TransactionID', 'IP_Address', 'ClaimedWin', 'PayoutAmount',\n",
      "       'Country_Argentina.', 'Country_Australia', 'Country_Canada',\n",
      "       'Country_India', 'Country_Malaysia', 'Country_Mexico',\n",
      "       'Country_Morocco', 'Country_Nigeria', 'Country_UK', 'Country_USA',\n",
      "       'Country_Uk', 'Country_china', 'Country_kenya', 'Country_pakistan',\n",
      "       'Email_abcd23@gmail.com', 'Email_abcd90@gmail.com',\n",
      "       'Email_cdef34@gmail.com', 'Email_cdef67@gmail.com',\n",
      "       'Email_efgh12@gmail.com', 'Email_efgh45@gmail.com',\n",
      "       'Email_ghij56@gmail.com', 'Email_ghij89@gmail.com',\n",
      "       'Email_ijkl34@gmail.com', 'Email_ijkl67@gmail.com',\n",
      "       'Email_jane.smith@example.com', 'Email_john.doe@example.com',\n",
      "       'Email_klmn01@gmail.com', 'Email_klmn78@gmail.com',\n",
      "       'Email_mnop56@gmail.com', 'Email_mnop89@gmail.com',\n",
      "       'Email_mnop90@gmail.com', 'Email_opqr23@gmail.com',\n",
      "       'Email_qrst01@gmail.com', 'Email_qrst12@gmail.com',\n",
      "       'Email_qrst78@gmail.com', 'Email_stuv45@gmail.com',\n",
      "       'Email_user@example.com', 'Email_uvwx23@gmail.com',\n",
      "       'Email_uvwx34@gmail.com', 'Email_uvwx90@gmail.com',\n",
      "       'Email_wxyz67@gmail.com', 'Email_yzab12@gmail.com',\n",
      "       'Email_yzab45@gmail.com'],\n",
      "      dtype='object')\n"
     ]
    }
   ],
   "source": [
    "print(X.columns)"
   ]
  },
  {
   "cell_type": "code",
   "execution_count": 58,
   "id": "12624efd-51d7-4a39-9813-e3db05637d59",
   "metadata": {
    "tags": []
   },
   "outputs": [],
   "source": [
    "\n"
   ]
  },
  {
   "cell_type": "code",
   "execution_count": 59,
   "id": "cfd0936a-4d7c-4de5-9ff9-660585b37907",
   "metadata": {
    "tags": []
   },
   "outputs": [],
   "source": []
  },
  {
   "cell_type": "code",
   "execution_count": null,
   "id": "a7f8c73e-f628-45a2-bd46-cfe5546aaa13",
   "metadata": {
    "tags": []
   },
   "outputs": [],
   "source": []
  },
  {
   "cell_type": "code",
   "execution_count": 117,
   "id": "521bdf9f-2f2b-4ec1-8249-95d6a7e87ce0",
   "metadata": {
    "tags": []
   },
   "outputs": [],
   "source": [
    "# Assuming your IP addresses are stored in the 'IP_Address' column\n",
    "# Convert IP addresses to numerical format using some encoding technique\n",
    "# Example: Use sklearn's LabelEncoder\n",
    "from sklearn.preprocessing import LabelEncoder\n",
    "\n",
    "label_encoder = LabelEncoder()\n",
    "X['IP_Address'] = label_encoder.fit_transform(X['IP_Address'])\n"
   ]
  },
  {
   "cell_type": "code",
   "execution_count": 118,
   "id": "423ba4e6-d3ea-472b-8fa4-f0fcbca97714",
   "metadata": {
    "tags": []
   },
   "outputs": [
    {
     "name": "stdout",
     "output_type": "stream",
     "text": [
      "0     0\n",
      "1     1\n",
      "2     2\n",
      "3     3\n",
      "4     6\n",
      "5     5\n",
      "6     6\n",
      "7     4\n",
      "8     0\n",
      "9     6\n",
      "10    4\n",
      "11    0\n",
      "12    6\n",
      "13    4\n",
      "14    0\n",
      "15    6\n",
      "16    4\n",
      "17    0\n",
      "18    6\n",
      "19    4\n",
      "20    0\n",
      "21    6\n",
      "22    4\n",
      "23    0\n",
      "24    6\n",
      "25    4\n",
      "26    6\n",
      "27    4\n",
      "28    0\n",
      "Name: IP_Address, dtype: int64\n"
     ]
    }
   ],
   "source": [
    "print(X['IP_Address'])\n"
   ]
  },
  {
   "cell_type": "code",
   "execution_count": 121,
   "id": "3e6ff70e-3aba-414e-8e66-1cf30460021b",
   "metadata": {
    "tags": []
   },
   "outputs": [
    {
     "name": "stdout",
     "output_type": "stream",
     "text": [
      "Date                      int64\n",
      "Time                     object\n",
      "TransactionID             int64\n",
      "Email                    object\n",
      "IP_Address               object\n",
      "Country                   int32\n",
      "ClaimedWin                int32\n",
      "PayoutAmount              int64\n",
      "Input                    object\n",
      "Fraud_Classification      int64\n",
      "EmailDomain              object\n",
      "NumericIP                 int64\n",
      "NormalizedIP            float64\n",
      "dtype: object\n"
     ]
    }
   ],
   "source": [
    "\n",
    "print(data.dtypes)"
   ]
  },
  {
   "cell_type": "code",
   "execution_count": 128,
   "id": "82d32018-1b47-4723-8ee8-f956e7f6674a",
   "metadata": {
    "tags": []
   },
   "outputs": [],
   "source": [
    "\n",
    "# Example: Label encoding for the 'Time' column\n",
    "from sklearn.preprocessing import LabelEncoder\n",
    "\n",
    "label_encoder = LabelEncoder()\n",
    "X['Time'] = label_encoder.fit_transform(X['Time'])\n"
   ]
  },
  {
   "cell_type": "code",
   "execution_count": null,
   "id": "1368b1a0-2830-42c8-a19f-d71c9b70bcbf",
   "metadata": {
    "tags": []
   },
   "outputs": [],
   "source": [
    "\n"
   ]
  },
  {
   "cell_type": "code",
   "execution_count": null,
   "id": "b7422466-25e0-40bf-bb0e-46bd8dc7c2ed",
   "metadata": {
    "tags": []
   },
   "outputs": [],
   "source": []
  },
  {
   "cell_type": "code",
   "execution_count": 122,
   "id": "d2d9a335-8e04-42d9-9aa5-49b13d82a6a2",
   "metadata": {
    "tags": []
   },
   "outputs": [],
   "source": [
    "# Assuming your IP addresses are stored in the 'IP_Address' column\n",
    "# Convert IP addresses to numerical format using some encoding technique\n",
    "# Example: Use sklearn's LabelEncoder\n",
    "from sklearn.preprocessing import LabelEncoder\n",
    "\n",
    "label_encoder = LabelEncoder()\n",
    "X['IP_Address'] = label_encoder.fit_transform(X['IP_Address'])\n"
   ]
  },
  {
   "cell_type": "code",
   "execution_count": 129,
   "id": "262cf3a6-5772-48a0-a7dd-36d069ad68e0",
   "metadata": {
    "tags": []
   },
   "outputs": [
    {
     "name": "stdout",
     "output_type": "stream",
     "text": [
      "Date                      int64\n",
      "Time                     object\n",
      "TransactionID             int64\n",
      "Email                    object\n",
      "IP_Address               object\n",
      "Country                   int32\n",
      "ClaimedWin                int32\n",
      "PayoutAmount              int64\n",
      "Input                    object\n",
      "Fraud_Classification      int64\n",
      "EmailDomain              object\n",
      "NumericIP                 int64\n",
      "NormalizedIP            float64\n",
      "dtype: object\n"
     ]
    }
   ],
   "source": [
    "print(data.dtypes)"
   ]
  },
  {
   "cell_type": "code",
   "execution_count": 130,
   "id": "95cc4c88-8d31-4b84-88da-0d777b7c735a",
   "metadata": {
    "tags": []
   },
   "outputs": [],
   "source": [
    "# Step 5: Split Data\n",
    "X_train, X_test, y_train, y_test = train_test_split(X, y, test_size=0.2, random_state=42)"
   ]
  },
  {
   "cell_type": "code",
   "execution_count": 131,
   "id": "1977b50c-f382-42d2-b15d-b447162858cf",
   "metadata": {
    "tags": []
   },
   "outputs": [],
   "source": [
    "import xgboost as xgb\n",
    "model = xgb.XGBClassifier()"
   ]
  },
  {
   "cell_type": "code",
   "execution_count": 132,
   "id": "7476d2d2-a3aa-424c-9618-28f1d6404a73",
   "metadata": {
    "tags": []
   },
   "outputs": [],
   "source": [
    "# XGBoost Classifier\n",
    "xgb_classifier = xgb.XGBClassifier()"
   ]
  },
  {
   "cell_type": "code",
   "execution_count": 133,
   "id": "52c83685-12fa-458a-acfa-90e79b68e964",
   "metadata": {
    "tags": []
   },
   "outputs": [
    {
     "data": {
      "text/html": [
       "<style>#sk-container-id-1 {color: black;}#sk-container-id-1 pre{padding: 0;}#sk-container-id-1 div.sk-toggleable {background-color: white;}#sk-container-id-1 label.sk-toggleable__label {cursor: pointer;display: block;width: 100%;margin-bottom: 0;padding: 0.3em;box-sizing: border-box;text-align: center;}#sk-container-id-1 label.sk-toggleable__label-arrow:before {content: \"▸\";float: left;margin-right: 0.25em;color: #696969;}#sk-container-id-1 label.sk-toggleable__label-arrow:hover:before {color: black;}#sk-container-id-1 div.sk-estimator:hover label.sk-toggleable__label-arrow:before {color: black;}#sk-container-id-1 div.sk-toggleable__content {max-height: 0;max-width: 0;overflow: hidden;text-align: left;background-color: #f0f8ff;}#sk-container-id-1 div.sk-toggleable__content pre {margin: 0.2em;color: black;border-radius: 0.25em;background-color: #f0f8ff;}#sk-container-id-1 input.sk-toggleable__control:checked~div.sk-toggleable__content {max-height: 200px;max-width: 100%;overflow: auto;}#sk-container-id-1 input.sk-toggleable__control:checked~label.sk-toggleable__label-arrow:before {content: \"▾\";}#sk-container-id-1 div.sk-estimator input.sk-toggleable__control:checked~label.sk-toggleable__label {background-color: #d4ebff;}#sk-container-id-1 div.sk-label input.sk-toggleable__control:checked~label.sk-toggleable__label {background-color: #d4ebff;}#sk-container-id-1 input.sk-hidden--visually {border: 0;clip: rect(1px 1px 1px 1px);clip: rect(1px, 1px, 1px, 1px);height: 1px;margin: -1px;overflow: hidden;padding: 0;position: absolute;width: 1px;}#sk-container-id-1 div.sk-estimator {font-family: monospace;background-color: #f0f8ff;border: 1px dotted black;border-radius: 0.25em;box-sizing: border-box;margin-bottom: 0.5em;}#sk-container-id-1 div.sk-estimator:hover {background-color: #d4ebff;}#sk-container-id-1 div.sk-parallel-item::after {content: \"\";width: 100%;border-bottom: 1px solid gray;flex-grow: 1;}#sk-container-id-1 div.sk-label:hover label.sk-toggleable__label {background-color: #d4ebff;}#sk-container-id-1 div.sk-serial::before {content: \"\";position: absolute;border-left: 1px solid gray;box-sizing: border-box;top: 0;bottom: 0;left: 50%;z-index: 0;}#sk-container-id-1 div.sk-serial {display: flex;flex-direction: column;align-items: center;background-color: white;padding-right: 0.2em;padding-left: 0.2em;position: relative;}#sk-container-id-1 div.sk-item {position: relative;z-index: 1;}#sk-container-id-1 div.sk-parallel {display: flex;align-items: stretch;justify-content: center;background-color: white;position: relative;}#sk-container-id-1 div.sk-item::before, #sk-container-id-1 div.sk-parallel-item::before {content: \"\";position: absolute;border-left: 1px solid gray;box-sizing: border-box;top: 0;bottom: 0;left: 50%;z-index: -1;}#sk-container-id-1 div.sk-parallel-item {display: flex;flex-direction: column;z-index: 1;position: relative;background-color: white;}#sk-container-id-1 div.sk-parallel-item:first-child::after {align-self: flex-end;width: 50%;}#sk-container-id-1 div.sk-parallel-item:last-child::after {align-self: flex-start;width: 50%;}#sk-container-id-1 div.sk-parallel-item:only-child::after {width: 0;}#sk-container-id-1 div.sk-dashed-wrapped {border: 1px dashed gray;margin: 0 0.4em 0.5em 0.4em;box-sizing: border-box;padding-bottom: 0.4em;background-color: white;}#sk-container-id-1 div.sk-label label {font-family: monospace;font-weight: bold;display: inline-block;line-height: 1.2em;}#sk-container-id-1 div.sk-label-container {text-align: center;}#sk-container-id-1 div.sk-container {/* jupyter's `normalize.less` sets `[hidden] { display: none; }` but bootstrap.min.css set `[hidden] { display: none !important; }` so we also need the `!important` here to be able to override the default hidden behavior on the sphinx rendered scikit-learn.org. See: https://github.com/scikit-learn/scikit-learn/issues/21755 */display: inline-block !important;position: relative;}#sk-container-id-1 div.sk-text-repr-fallback {display: none;}</style><div id=\"sk-container-id-1\" class=\"sk-top-container\"><div class=\"sk-text-repr-fallback\"><pre>XGBClassifier(base_score=None, booster=None, callbacks=None,\n",
       "              colsample_bylevel=None, colsample_bynode=None,\n",
       "              colsample_bytree=None, early_stopping_rounds=None,\n",
       "              enable_categorical=False, eval_metric=None, feature_types=None,\n",
       "              gamma=None, gpu_id=None, grow_policy=None, importance_type=None,\n",
       "              interaction_constraints=None, learning_rate=None, max_bin=None,\n",
       "              max_cat_threshold=None, max_cat_to_onehot=None,\n",
       "              max_delta_step=None, max_depth=None, max_leaves=None,\n",
       "              min_child_weight=None, missing=nan, monotone_constraints=None,\n",
       "              n_estimators=100, n_jobs=None, num_parallel_tree=None,\n",
       "              predictor=None, random_state=None, ...)</pre><b>In a Jupyter environment, please rerun this cell to show the HTML representation or trust the notebook. <br />On GitHub, the HTML representation is unable to render, please try loading this page with nbviewer.org.</b></div><div class=\"sk-container\" hidden><div class=\"sk-item\"><div class=\"sk-estimator sk-toggleable\"><input class=\"sk-toggleable__control sk-hidden--visually\" id=\"sk-estimator-id-1\" type=\"checkbox\" checked><label for=\"sk-estimator-id-1\" class=\"sk-toggleable__label sk-toggleable__label-arrow\">XGBClassifier</label><div class=\"sk-toggleable__content\"><pre>XGBClassifier(base_score=None, booster=None, callbacks=None,\n",
       "              colsample_bylevel=None, colsample_bynode=None,\n",
       "              colsample_bytree=None, early_stopping_rounds=None,\n",
       "              enable_categorical=False, eval_metric=None, feature_types=None,\n",
       "              gamma=None, gpu_id=None, grow_policy=None, importance_type=None,\n",
       "              interaction_constraints=None, learning_rate=None, max_bin=None,\n",
       "              max_cat_threshold=None, max_cat_to_onehot=None,\n",
       "              max_delta_step=None, max_depth=None, max_leaves=None,\n",
       "              min_child_weight=None, missing=nan, monotone_constraints=None,\n",
       "              n_estimators=100, n_jobs=None, num_parallel_tree=None,\n",
       "              predictor=None, random_state=None, ...)</pre></div></div></div></div></div>"
      ],
      "text/plain": [
       "XGBClassifier(base_score=None, booster=None, callbacks=None,\n",
       "              colsample_bylevel=None, colsample_bynode=None,\n",
       "              colsample_bytree=None, early_stopping_rounds=None,\n",
       "              enable_categorical=False, eval_metric=None, feature_types=None,\n",
       "              gamma=None, gpu_id=None, grow_policy=None, importance_type=None,\n",
       "              interaction_constraints=None, learning_rate=None, max_bin=None,\n",
       "              max_cat_threshold=None, max_cat_to_onehot=None,\n",
       "              max_delta_step=None, max_depth=None, max_leaves=None,\n",
       "              min_child_weight=None, missing=nan, monotone_constraints=None,\n",
       "              n_estimators=100, n_jobs=None, num_parallel_tree=None,\n",
       "              predictor=None, random_state=None, ...)"
      ]
     },
     "execution_count": 133,
     "metadata": {},
     "output_type": "execute_result"
    }
   ],
   "source": [
    "# Step 7: Train the Model\n",
    "# rf_classifier.fit(X_train, y_train)\n",
    "xgb_classifier.fit(X_train, y_train)"
   ]
  },
  {
   "cell_type": "code",
   "execution_count": 134,
   "id": "e6c8f7dc-5ef4-4b49-8232-d5200b146e34",
   "metadata": {
    "tags": []
   },
   "outputs": [
    {
     "data": {
      "text/plain": [
       "['xgb_model.pkl']"
      ]
     },
     "execution_count": 134,
     "metadata": {},
     "output_type": "execute_result"
    }
   ],
   "source": [
    "# Save the trained XGBoost model\n",
    "import joblib\n",
    "\n",
    "joblib.dump(xgb_classifier, 'xgb_model.pkl')\n"
   ]
  },
  {
   "cell_type": "code",
   "execution_count": 135,
   "id": "1bc66c93-009e-45ca-8332-2c67f9173e8b",
   "metadata": {
    "tags": []
   },
   "outputs": [],
   "source": [
    "# Load the saved XGBoost model\n",
    "loaded_model = joblib.load('xgb_model.pkl')"
   ]
  },
  {
   "cell_type": "code",
   "execution_count": 136,
   "id": "89ad5813-494c-4bbd-a2ab-73990246a248",
   "metadata": {
    "tags": []
   },
   "outputs": [
    {
     "data": {
      "text/html": [
       "<style>#sk-container-id-2 {color: black;}#sk-container-id-2 pre{padding: 0;}#sk-container-id-2 div.sk-toggleable {background-color: white;}#sk-container-id-2 label.sk-toggleable__label {cursor: pointer;display: block;width: 100%;margin-bottom: 0;padding: 0.3em;box-sizing: border-box;text-align: center;}#sk-container-id-2 label.sk-toggleable__label-arrow:before {content: \"▸\";float: left;margin-right: 0.25em;color: #696969;}#sk-container-id-2 label.sk-toggleable__label-arrow:hover:before {color: black;}#sk-container-id-2 div.sk-estimator:hover label.sk-toggleable__label-arrow:before {color: black;}#sk-container-id-2 div.sk-toggleable__content {max-height: 0;max-width: 0;overflow: hidden;text-align: left;background-color: #f0f8ff;}#sk-container-id-2 div.sk-toggleable__content pre {margin: 0.2em;color: black;border-radius: 0.25em;background-color: #f0f8ff;}#sk-container-id-2 input.sk-toggleable__control:checked~div.sk-toggleable__content {max-height: 200px;max-width: 100%;overflow: auto;}#sk-container-id-2 input.sk-toggleable__control:checked~label.sk-toggleable__label-arrow:before {content: \"▾\";}#sk-container-id-2 div.sk-estimator input.sk-toggleable__control:checked~label.sk-toggleable__label {background-color: #d4ebff;}#sk-container-id-2 div.sk-label input.sk-toggleable__control:checked~label.sk-toggleable__label {background-color: #d4ebff;}#sk-container-id-2 input.sk-hidden--visually {border: 0;clip: rect(1px 1px 1px 1px);clip: rect(1px, 1px, 1px, 1px);height: 1px;margin: -1px;overflow: hidden;padding: 0;position: absolute;width: 1px;}#sk-container-id-2 div.sk-estimator {font-family: monospace;background-color: #f0f8ff;border: 1px dotted black;border-radius: 0.25em;box-sizing: border-box;margin-bottom: 0.5em;}#sk-container-id-2 div.sk-estimator:hover {background-color: #d4ebff;}#sk-container-id-2 div.sk-parallel-item::after {content: \"\";width: 100%;border-bottom: 1px solid gray;flex-grow: 1;}#sk-container-id-2 div.sk-label:hover label.sk-toggleable__label {background-color: #d4ebff;}#sk-container-id-2 div.sk-serial::before {content: \"\";position: absolute;border-left: 1px solid gray;box-sizing: border-box;top: 0;bottom: 0;left: 50%;z-index: 0;}#sk-container-id-2 div.sk-serial {display: flex;flex-direction: column;align-items: center;background-color: white;padding-right: 0.2em;padding-left: 0.2em;position: relative;}#sk-container-id-2 div.sk-item {position: relative;z-index: 1;}#sk-container-id-2 div.sk-parallel {display: flex;align-items: stretch;justify-content: center;background-color: white;position: relative;}#sk-container-id-2 div.sk-item::before, #sk-container-id-2 div.sk-parallel-item::before {content: \"\";position: absolute;border-left: 1px solid gray;box-sizing: border-box;top: 0;bottom: 0;left: 50%;z-index: -1;}#sk-container-id-2 div.sk-parallel-item {display: flex;flex-direction: column;z-index: 1;position: relative;background-color: white;}#sk-container-id-2 div.sk-parallel-item:first-child::after {align-self: flex-end;width: 50%;}#sk-container-id-2 div.sk-parallel-item:last-child::after {align-self: flex-start;width: 50%;}#sk-container-id-2 div.sk-parallel-item:only-child::after {width: 0;}#sk-container-id-2 div.sk-dashed-wrapped {border: 1px dashed gray;margin: 0 0.4em 0.5em 0.4em;box-sizing: border-box;padding-bottom: 0.4em;background-color: white;}#sk-container-id-2 div.sk-label label {font-family: monospace;font-weight: bold;display: inline-block;line-height: 1.2em;}#sk-container-id-2 div.sk-label-container {text-align: center;}#sk-container-id-2 div.sk-container {/* jupyter's `normalize.less` sets `[hidden] { display: none; }` but bootstrap.min.css set `[hidden] { display: none !important; }` so we also need the `!important` here to be able to override the default hidden behavior on the sphinx rendered scikit-learn.org. See: https://github.com/scikit-learn/scikit-learn/issues/21755 */display: inline-block !important;position: relative;}#sk-container-id-2 div.sk-text-repr-fallback {display: none;}</style><div id=\"sk-container-id-2\" class=\"sk-top-container\"><div class=\"sk-text-repr-fallback\"><pre>XGBClassifier(base_score=None, booster=None, callbacks=None,\n",
       "              colsample_bylevel=None, colsample_bynode=None,\n",
       "              colsample_bytree=None, early_stopping_rounds=None,\n",
       "              enable_categorical=False, eval_metric=None, feature_types=None,\n",
       "              gamma=None, gpu_id=None, grow_policy=None, importance_type=None,\n",
       "              interaction_constraints=None, learning_rate=None, max_bin=None,\n",
       "              max_cat_threshold=None, max_cat_to_onehot=None,\n",
       "              max_delta_step=None, max_depth=None, max_leaves=None,\n",
       "              min_child_weight=None, missing=nan, monotone_constraints=None,\n",
       "              n_estimators=100, n_jobs=None, num_parallel_tree=None,\n",
       "              predictor=None, random_state=None, ...)</pre><b>In a Jupyter environment, please rerun this cell to show the HTML representation or trust the notebook. <br />On GitHub, the HTML representation is unable to render, please try loading this page with nbviewer.org.</b></div><div class=\"sk-container\" hidden><div class=\"sk-item\"><div class=\"sk-estimator sk-toggleable\"><input class=\"sk-toggleable__control sk-hidden--visually\" id=\"sk-estimator-id-2\" type=\"checkbox\" checked><label for=\"sk-estimator-id-2\" class=\"sk-toggleable__label sk-toggleable__label-arrow\">XGBClassifier</label><div class=\"sk-toggleable__content\"><pre>XGBClassifier(base_score=None, booster=None, callbacks=None,\n",
       "              colsample_bylevel=None, colsample_bynode=None,\n",
       "              colsample_bytree=None, early_stopping_rounds=None,\n",
       "              enable_categorical=False, eval_metric=None, feature_types=None,\n",
       "              gamma=None, gpu_id=None, grow_policy=None, importance_type=None,\n",
       "              interaction_constraints=None, learning_rate=None, max_bin=None,\n",
       "              max_cat_threshold=None, max_cat_to_onehot=None,\n",
       "              max_delta_step=None, max_depth=None, max_leaves=None,\n",
       "              min_child_weight=None, missing=nan, monotone_constraints=None,\n",
       "              n_estimators=100, n_jobs=None, num_parallel_tree=None,\n",
       "              predictor=None, random_state=None, ...)</pre></div></div></div></div></div>"
      ],
      "text/plain": [
       "XGBClassifier(base_score=None, booster=None, callbacks=None,\n",
       "              colsample_bylevel=None, colsample_bynode=None,\n",
       "              colsample_bytree=None, early_stopping_rounds=None,\n",
       "              enable_categorical=False, eval_metric=None, feature_types=None,\n",
       "              gamma=None, gpu_id=None, grow_policy=None, importance_type=None,\n",
       "              interaction_constraints=None, learning_rate=None, max_bin=None,\n",
       "              max_cat_threshold=None, max_cat_to_onehot=None,\n",
       "              max_delta_step=None, max_depth=None, max_leaves=None,\n",
       "              min_child_weight=None, missing=nan, monotone_constraints=None,\n",
       "              n_estimators=100, n_jobs=None, num_parallel_tree=None,\n",
       "              predictor=None, random_state=None, ...)"
      ]
     },
     "execution_count": 136,
     "metadata": {},
     "output_type": "execute_result"
    }
   ],
   "source": [
    "# Step 7: Train the Model\n",
    "# rf_classifier.fit(X_train, y_train)\n",
    "xgb_classifier.fit(X_train, y_train)"
   ]
  },
  {
   "cell_type": "code",
   "execution_count": 137,
   "id": "cb480366-b803-42a6-8770-f017d3c34aa9",
   "metadata": {
    "tags": []
   },
   "outputs": [],
   "source": [
    "y_pred = xgb_classifier.predict(X_test)\n"
   ]
  },
  {
   "cell_type": "code",
   "execution_count": 158,
   "id": "13de0a3e-6adc-4a3f-9b47-d4174efd9051",
   "metadata": {
    "tags": []
   },
   "outputs": [
    {
     "name": "stdout",
     "output_type": "stream",
     "text": [
      "Accuracy: 1.0\n",
      "              precision    recall  f1-score   support\n",
      "\n",
      "           0       1.00      1.00      1.00         1\n",
      "           1       1.00      1.00      1.00         5\n",
      "\n",
      "    accuracy                           1.00         6\n",
      "   macro avg       1.00      1.00      1.00         6\n",
      "weighted avg       1.00      1.00      1.00         6\n",
      "\n"
     ]
    }
   ],
   "source": [
    "from sklearn.metrics import accuracy_score, classification_report\n",
    "\n",
    "accuracy = accuracy_score(y_test, y_pred)\n",
    "print(f'Accuracy: {accuracy}')\n",
    "print(classification_report(y_test, y_pred))"
   ]
  },
  {
   "cell_type": "code",
   "execution_count": 117,
   "id": "f0e58aee-5e9d-4c03-b161-afa363d4e171",
   "metadata": {
    "tags": []
   },
   "outputs": [
    {
     "name": "stdout",
     "output_type": "stream",
     "text": [
      "Requirement already satisfied: joblib in c:\\users\\bansa\\anaconda3\\lib\\site-packages (1.2.0)\n",
      "Requirement already satisfied: pandas in c:\\users\\bansa\\anaconda3\\lib\\site-packages (2.0.3)\n",
      "Requirement already satisfied: scikit-learn in c:\\users\\bansa\\anaconda3\\lib\\site-packages (1.3.2)\n",
      "Requirement already satisfied: python-dateutil>=2.8.2 in c:\\users\\bansa\\anaconda3\\lib\\site-packages (from pandas) (2.8.2)\n",
      "Requirement already satisfied: pytz>=2020.1 in c:\\users\\bansa\\anaconda3\\lib\\site-packages (from pandas) (2023.3.post1)\n",
      "Requirement already satisfied: tzdata>=2022.1 in c:\\users\\bansa\\anaconda3\\lib\\site-packages (from pandas) (2023.3)\n",
      "Requirement already satisfied: numpy>=1.21.0 in c:\\users\\bansa\\anaconda3\\lib\\site-packages (from pandas) (1.24.3)\n",
      "Requirement already satisfied: scipy>=1.5.0 in c:\\users\\bansa\\anaconda3\\lib\\site-packages (from scikit-learn) (1.11.1)\n",
      "Requirement already satisfied: threadpoolctl>=2.0.0 in c:\\users\\bansa\\anaconda3\\lib\\site-packages (from scikit-learn) (2.2.0)\n",
      "Requirement already satisfied: six>=1.5 in c:\\users\\bansa\\anaconda3\\lib\\site-packages (from python-dateutil>=2.8.2->pandas) (1.16.0)\n",
      "Note: you may need to restart the kernel to use updated packages.\n"
     ]
    }
   ],
   "source": [
    "pip install joblib pandas scikit-learn\n"
   ]
  },
  {
   "cell_type": "code",
   "execution_count": 139,
   "id": "cea12938-973a-49b9-871a-e5edf195bc5e",
   "metadata": {
    "tags": []
   },
   "outputs": [],
   "source": []
  },
  {
   "cell_type": "code",
   "execution_count": null,
   "id": "007da0e4-853e-445e-9835-fe0dc7364824",
   "metadata": {
    "tags": []
   },
   "outputs": [],
   "source": [
    "\n",
    "\n",
    "   "
   ]
  },
  {
   "cell_type": "code",
   "execution_count": null,
   "id": "4edb4f86-cd8a-45e6-8bc8-a703b5c5f5fe",
   "metadata": {
    "tags": []
   },
   "outputs": [],
   "source": [
    "\n",
    "\n"
   ]
  },
  {
   "cell_type": "code",
   "execution_count": null,
   "id": "c782734e-06c7-43e2-a8de-1eef8345695a",
   "metadata": {},
   "outputs": [],
   "source": [
    "\n"
   ]
  },
  {
   "cell_type": "code",
   "execution_count": null,
   "id": "963c5ac9-8d9f-494d-bfad-27140588786f",
   "metadata": {
    "tags": []
   },
   "outputs": [],
   "source": []
  },
  {
   "cell_type": "code",
   "execution_count": 146,
   "id": "27fce7d0-d17e-4797-b0da-191d759d461c",
   "metadata": {
    "tags": []
   },
   "outputs": [],
   "source": []
  },
  {
   "cell_type": "code",
   "execution_count": null,
   "id": "7a20bc25-a8e3-4be7-ae95-3f2f1f0c75f8",
   "metadata": {
    "tags": []
   },
   "outputs": [],
   "source": []
  },
  {
   "cell_type": "code",
   "execution_count": null,
   "id": "d3c08aa2-7aa8-4491-8306-33e0801ef406",
   "metadata": {
    "tags": []
   },
   "outputs": [],
   "source": []
  },
  {
   "cell_type": "code",
   "execution_count": null,
   "id": "41c0b978-8749-473e-85de-37b2b8f9cd35",
   "metadata": {
    "tags": []
   },
   "outputs": [],
   "source": []
  },
  {
   "cell_type": "code",
   "execution_count": null,
   "id": "588eb9d1-4481-4666-9b2e-71417d8380a5",
   "metadata": {},
   "outputs": [],
   "source": []
  }
 ],
 "metadata": {
  "kernelspec": {
   "display_name": "Python 3 (ipykernel)",
   "language": "python",
   "name": "python3"
  },
  "language_info": {
   "codemirror_mode": {
    "name": "ipython",
    "version": 3
   },
   "file_extension": ".py",
   "mimetype": "text/x-python",
   "name": "python",
   "nbconvert_exporter": "python",
   "pygments_lexer": "ipython3",
   "version": "3.11.5"
  }
 },
 "nbformat": 4,
 "nbformat_minor": 5
}
